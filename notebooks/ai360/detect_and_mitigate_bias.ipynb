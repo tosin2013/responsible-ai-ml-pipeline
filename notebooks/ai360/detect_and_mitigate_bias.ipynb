{
  "nbformat": 4,
  "nbformat_minor": 0,
  "metadata": {
    "colab": {
      "provenance": [],
      "collapsed_sections": []
    },
    "kernelspec": {
      "display_name": "Python 3",
      "language": "python",
      "name": "python3"
    },
    "language_info": {
      "codemirror_mode": {
        "name": "ipython",
        "version": 3
      },
      "file_extension": ".py",
      "mimetype": "text/x-python",
      "name": "python",
      "nbconvert_exporter": "python",
      "pygments_lexer": "ipython3",
      "version": "3.8.8"
    }
  },
  "cells": [
    {
      "cell_type": "markdown",
      "metadata": {
        "id": "2qah4n_d6Ij7"
      },
      "source": [
        "# Overview\n",
        "\n",
        "\n",
        "1. [Introduction](#Getting-Started)\n",
        "2. [Setup & Data analysis](#)\n",
        "    * [Install additional libraries](#)\n",
        "    * [Import installed libraries](#)\n",
        "    * [Download and read data](#)\n",
        "    * [Preprocessing and data analysis](#)  \n",
        "3. [Measure fairness on test set (before applying a ML model)](#)\n",
        "    * [Metrics used to measure fairness](#)\n",
        "    * [Measure of fairness on test set](#)\n",
        "4. [Apply a simple machine learning model : Logistic Regression](#)\n",
        "    * [Simple explanations about logistic regression](#)\n",
        "    * [Apply a logistic regression model](#)\n",
        "    * [Evaluate results](#)\n",
        "\n",
        "5. [Apply a logistic regression model](#)    \n",
        "6. [Impacts of swapping gender attributes on loan eligibility](#)\n",
        "7. [Correcting Bias](#)\n",
        "8. [Conclusion](#)\n"
      ]
    },
    {
      "cell_type": "markdown",
      "metadata": {
        "id": "5L400QGz5h-T"
      },
      "source": [
        "# 1. Introduction\n",
        "This notebook aims to show that machine learning models are exposed to risks like risks of bias, and to introduce some simple techniques to detect and mitigate bias.\n",
        "\n",
        "In this case study, we suppose that we are working for a credit institution. The client wants to automate the loan eligibility process thanks to a binary classification ML model trained on historical data.\n",
        "\n",
        "Regarding the dataset used in this notebook, it comes from a public challenge organized by the company Analytics Vidhya. It contains details about customers details such as Gender, Marital Status, Education, Number of Dependents, Income, Loan Amount, Credit History and others as well as the related loan status.\n",
        "\n",
        "Given these customer information, the purpose of the binary classification model is to predict the loan status : yes or no. In this notebook, we are going to apply a logistic regression model as a binary classifier."
      ]
    },
    {
      "cell_type": "markdown",
      "metadata": {
        "id": "eoEt7XOnBBla"
      },
      "source": [
        "# 2. Setup & Data analysis"
      ]
    },
    {
      "cell_type": "markdown",
      "metadata": {
        "id": "Bnt9LnzWIb9k"
      },
      "source": [
        "## 2.1 Install additional libraries"
      ]
    },
    {
      "cell_type": "code",
      "metadata": {
        "id": "OW7j35PetqW2"
      },
      "source": [
        "# If you use Google Colab, run this cell\n",
        "!pip install aif360\n",
        "!pip install BlackBoxAuditing \n",
        "!pip install fairlearn"
      ],
      "execution_count": 1,
      "outputs": []
    },
    {
      "cell_type": "markdown",
      "metadata": {
        "id": "ab2NjVlCcN3i"
      },
      "source": [
        "## 2.2 Import installed libraries"
      ]
    },
    {
      "cell_type": "code",
      "metadata": {
        "id": "XAafTE6N565u"
      },
      "source": [
        "import numpy as np\n",
        "import matplotlib.pyplot as plt\n",
        "import seaborn as sns\n",
        "import pandas as pd\n",
        "import warnings\n",
        "from sklearn.preprocessing import MinMaxScaler\n",
        "from sklearn.metrics import mean_squared_error\n",
        "from sklearn.model_selection import train_test_split\n",
        "from sklearn.linear_model import LogisticRegression\n",
        "from sklearn.preprocessing import StandardScaler\n",
        "import math\n",
        "from sklearn import metrics\n",
        "from aif360.metrics import classification_metric\n",
        "from aif360.metrics import BinaryLabelDatasetMetric\n",
        "from aif360.algorithms.preprocessing import DisparateImpactRemover, Reweighing\n",
        "from aif360.datasets import BinaryLabelDataset\n",
        "from IPython.display import Markdown, display\n",
        "# To display plots\n",
        "%matplotlib inline\n",
        "\n",
        "warnings.filterwarnings('ignore')\n",
        "sns.set(rc={'figure.figsize':(20, 7)})"
      ],
      "execution_count": null,
      "outputs": []
    },
    {
      "cell_type": "markdown",
      "metadata": {
        "id": "X6yt3VLABNdc"
      },
      "source": [
        "## 2.3 Download & read data\n",
        "\n",
        "\n"
      ]
    },
    {
      "cell_type": "code",
      "metadata": {
        "id": "Ll7sPQR8DJFV",
        "colab": {
          "base_uri": "https://localhost:8080/",
          "height": 423
        },
        "outputId": "7649f4c2-ac9f-4385-9c54-c269b85d12bd"
      },
      "source": [
        "loan_data = pd.read_csv(\"loan_applicants_case\")\n",
        "loan_data"
      ],
      "execution_count": null,
      "outputs": [
        {
          "output_type": "execute_result",
          "data": {
            "text/plain": [
              "     Unnamed: 0   Loan_ID Gender Married Dependents     Education  \\\n",
              "0             0  LP001003   Male     Yes          1      Graduate   \n",
              "1             1  LP001005   Male     Yes          0      Graduate   \n",
              "2             2  LP001006   Male     Yes          0  Not Graduate   \n",
              "3             3  LP001008   Male      No          0      Graduate   \n",
              "4             4  LP001011   Male     Yes          2      Graduate   \n",
              "..          ...       ...    ...     ...        ...           ...   \n",
              "764         764  LP002969   Male     Yes          1      Graduate   \n",
              "765         765  LP002971   Male     Yes         3+  Not Graduate   \n",
              "766         766  LP002975   Male     Yes          0      Graduate   \n",
              "767         767  LP002986   Male     Yes          0      Graduate   \n",
              "768         768  LP002989   Male      No          0      Graduate   \n",
              "\n",
              "    Self_Employed  ApplicantIncome  CoapplicantIncome  LoanAmount  \\\n",
              "0              No             4583             1508.0       128.0   \n",
              "1             Yes             3000                0.0        66.0   \n",
              "2              No             2583             2358.0       120.0   \n",
              "3              No             6000                0.0       141.0   \n",
              "4             Yes             5417             4196.0       267.0   \n",
              "..            ...              ...                ...         ...   \n",
              "764            No             2269             2167.0        99.0   \n",
              "765           Yes             4009             1777.0       113.0   \n",
              "766            No             4158              709.0       115.0   \n",
              "767            No             5000             2393.0       158.0   \n",
              "768           Yes             9200                0.0        98.0   \n",
              "\n",
              "     Loan_Amount_Term  Credit_History Property_Area Loan_Status  \n",
              "0               360.0             1.0         Rural           N  \n",
              "1               360.0             1.0         Urban           Y  \n",
              "2               360.0             1.0         Urban           Y  \n",
              "3               360.0             1.0         Urban           Y  \n",
              "4               360.0             1.0         Urban           Y  \n",
              "..                ...             ...           ...         ...  \n",
              "764             360.0             1.0     Semiurban           Y  \n",
              "765             360.0             1.0         Urban           Y  \n",
              "766             360.0             1.0         Urban           Y  \n",
              "767             360.0             1.0         Rural           N  \n",
              "768             180.0             1.0         Rural           Y  \n",
              "\n",
              "[769 rows x 14 columns]"
            ],
            "text/html": [
              "\n",
              "  <div id=\"df-73b0aa32-54c5-4e74-9d78-0b84a47c2110\">\n",
              "    <div class=\"colab-df-container\">\n",
              "      <div>\n",
              "<style scoped>\n",
              "    .dataframe tbody tr th:only-of-type {\n",
              "        vertical-align: middle;\n",
              "    }\n",
              "\n",
              "    .dataframe tbody tr th {\n",
              "        vertical-align: top;\n",
              "    }\n",
              "\n",
              "    .dataframe thead th {\n",
              "        text-align: right;\n",
              "    }\n",
              "</style>\n",
              "<table border=\"1\" class=\"dataframe\">\n",
              "  <thead>\n",
              "    <tr style=\"text-align: right;\">\n",
              "      <th></th>\n",
              "      <th>Unnamed: 0</th>\n",
              "      <th>Loan_ID</th>\n",
              "      <th>Gender</th>\n",
              "      <th>Married</th>\n",
              "      <th>Dependents</th>\n",
              "      <th>Education</th>\n",
              "      <th>Self_Employed</th>\n",
              "      <th>ApplicantIncome</th>\n",
              "      <th>CoapplicantIncome</th>\n",
              "      <th>LoanAmount</th>\n",
              "      <th>Loan_Amount_Term</th>\n",
              "      <th>Credit_History</th>\n",
              "      <th>Property_Area</th>\n",
              "      <th>Loan_Status</th>\n",
              "    </tr>\n",
              "  </thead>\n",
              "  <tbody>\n",
              "    <tr>\n",
              "      <th>0</th>\n",
              "      <td>0</td>\n",
              "      <td>LP001003</td>\n",
              "      <td>Male</td>\n",
              "      <td>Yes</td>\n",
              "      <td>1</td>\n",
              "      <td>Graduate</td>\n",
              "      <td>No</td>\n",
              "      <td>4583</td>\n",
              "      <td>1508.0</td>\n",
              "      <td>128.0</td>\n",
              "      <td>360.0</td>\n",
              "      <td>1.0</td>\n",
              "      <td>Rural</td>\n",
              "      <td>N</td>\n",
              "    </tr>\n",
              "    <tr>\n",
              "      <th>1</th>\n",
              "      <td>1</td>\n",
              "      <td>LP001005</td>\n",
              "      <td>Male</td>\n",
              "      <td>Yes</td>\n",
              "      <td>0</td>\n",
              "      <td>Graduate</td>\n",
              "      <td>Yes</td>\n",
              "      <td>3000</td>\n",
              "      <td>0.0</td>\n",
              "      <td>66.0</td>\n",
              "      <td>360.0</td>\n",
              "      <td>1.0</td>\n",
              "      <td>Urban</td>\n",
              "      <td>Y</td>\n",
              "    </tr>\n",
              "    <tr>\n",
              "      <th>2</th>\n",
              "      <td>2</td>\n",
              "      <td>LP001006</td>\n",
              "      <td>Male</td>\n",
              "      <td>Yes</td>\n",
              "      <td>0</td>\n",
              "      <td>Not Graduate</td>\n",
              "      <td>No</td>\n",
              "      <td>2583</td>\n",
              "      <td>2358.0</td>\n",
              "      <td>120.0</td>\n",
              "      <td>360.0</td>\n",
              "      <td>1.0</td>\n",
              "      <td>Urban</td>\n",
              "      <td>Y</td>\n",
              "    </tr>\n",
              "    <tr>\n",
              "      <th>3</th>\n",
              "      <td>3</td>\n",
              "      <td>LP001008</td>\n",
              "      <td>Male</td>\n",
              "      <td>No</td>\n",
              "      <td>0</td>\n",
              "      <td>Graduate</td>\n",
              "      <td>No</td>\n",
              "      <td>6000</td>\n",
              "      <td>0.0</td>\n",
              "      <td>141.0</td>\n",
              "      <td>360.0</td>\n",
              "      <td>1.0</td>\n",
              "      <td>Urban</td>\n",
              "      <td>Y</td>\n",
              "    </tr>\n",
              "    <tr>\n",
              "      <th>4</th>\n",
              "      <td>4</td>\n",
              "      <td>LP001011</td>\n",
              "      <td>Male</td>\n",
              "      <td>Yes</td>\n",
              "      <td>2</td>\n",
              "      <td>Graduate</td>\n",
              "      <td>Yes</td>\n",
              "      <td>5417</td>\n",
              "      <td>4196.0</td>\n",
              "      <td>267.0</td>\n",
              "      <td>360.0</td>\n",
              "      <td>1.0</td>\n",
              "      <td>Urban</td>\n",
              "      <td>Y</td>\n",
              "    </tr>\n",
              "    <tr>\n",
              "      <th>...</th>\n",
              "      <td>...</td>\n",
              "      <td>...</td>\n",
              "      <td>...</td>\n",
              "      <td>...</td>\n",
              "      <td>...</td>\n",
              "      <td>...</td>\n",
              "      <td>...</td>\n",
              "      <td>...</td>\n",
              "      <td>...</td>\n",
              "      <td>...</td>\n",
              "      <td>...</td>\n",
              "      <td>...</td>\n",
              "      <td>...</td>\n",
              "      <td>...</td>\n",
              "    </tr>\n",
              "    <tr>\n",
              "      <th>764</th>\n",
              "      <td>764</td>\n",
              "      <td>LP002969</td>\n",
              "      <td>Male</td>\n",
              "      <td>Yes</td>\n",
              "      <td>1</td>\n",
              "      <td>Graduate</td>\n",
              "      <td>No</td>\n",
              "      <td>2269</td>\n",
              "      <td>2167.0</td>\n",
              "      <td>99.0</td>\n",
              "      <td>360.0</td>\n",
              "      <td>1.0</td>\n",
              "      <td>Semiurban</td>\n",
              "      <td>Y</td>\n",
              "    </tr>\n",
              "    <tr>\n",
              "      <th>765</th>\n",
              "      <td>765</td>\n",
              "      <td>LP002971</td>\n",
              "      <td>Male</td>\n",
              "      <td>Yes</td>\n",
              "      <td>3+</td>\n",
              "      <td>Not Graduate</td>\n",
              "      <td>Yes</td>\n",
              "      <td>4009</td>\n",
              "      <td>1777.0</td>\n",
              "      <td>113.0</td>\n",
              "      <td>360.0</td>\n",
              "      <td>1.0</td>\n",
              "      <td>Urban</td>\n",
              "      <td>Y</td>\n",
              "    </tr>\n",
              "    <tr>\n",
              "      <th>766</th>\n",
              "      <td>766</td>\n",
              "      <td>LP002975</td>\n",
              "      <td>Male</td>\n",
              "      <td>Yes</td>\n",
              "      <td>0</td>\n",
              "      <td>Graduate</td>\n",
              "      <td>No</td>\n",
              "      <td>4158</td>\n",
              "      <td>709.0</td>\n",
              "      <td>115.0</td>\n",
              "      <td>360.0</td>\n",
              "      <td>1.0</td>\n",
              "      <td>Urban</td>\n",
              "      <td>Y</td>\n",
              "    </tr>\n",
              "    <tr>\n",
              "      <th>767</th>\n",
              "      <td>767</td>\n",
              "      <td>LP002986</td>\n",
              "      <td>Male</td>\n",
              "      <td>Yes</td>\n",
              "      <td>0</td>\n",
              "      <td>Graduate</td>\n",
              "      <td>No</td>\n",
              "      <td>5000</td>\n",
              "      <td>2393.0</td>\n",
              "      <td>158.0</td>\n",
              "      <td>360.0</td>\n",
              "      <td>1.0</td>\n",
              "      <td>Rural</td>\n",
              "      <td>N</td>\n",
              "    </tr>\n",
              "    <tr>\n",
              "      <th>768</th>\n",
              "      <td>768</td>\n",
              "      <td>LP002989</td>\n",
              "      <td>Male</td>\n",
              "      <td>No</td>\n",
              "      <td>0</td>\n",
              "      <td>Graduate</td>\n",
              "      <td>Yes</td>\n",
              "      <td>9200</td>\n",
              "      <td>0.0</td>\n",
              "      <td>98.0</td>\n",
              "      <td>180.0</td>\n",
              "      <td>1.0</td>\n",
              "      <td>Rural</td>\n",
              "      <td>Y</td>\n",
              "    </tr>\n",
              "  </tbody>\n",
              "</table>\n",
              "<p>769 rows × 14 columns</p>\n",
              "</div>\n",
              "      <button class=\"colab-df-convert\" onclick=\"convertToInteractive('df-73b0aa32-54c5-4e74-9d78-0b84a47c2110')\"\n",
              "              title=\"Convert this dataframe to an interactive table.\"\n",
              "              style=\"display:none;\">\n",
              "        \n",
              "  <svg xmlns=\"http://www.w3.org/2000/svg\" height=\"24px\"viewBox=\"0 0 24 24\"\n",
              "       width=\"24px\">\n",
              "    <path d=\"M0 0h24v24H0V0z\" fill=\"none\"/>\n",
              "    <path d=\"M18.56 5.44l.94 2.06.94-2.06 2.06-.94-2.06-.94-.94-2.06-.94 2.06-2.06.94zm-11 1L8.5 8.5l.94-2.06 2.06-.94-2.06-.94L8.5 2.5l-.94 2.06-2.06.94zm10 10l.94 2.06.94-2.06 2.06-.94-2.06-.94-.94-2.06-.94 2.06-2.06.94z\"/><path d=\"M17.41 7.96l-1.37-1.37c-.4-.4-.92-.59-1.43-.59-.52 0-1.04.2-1.43.59L10.3 9.45l-7.72 7.72c-.78.78-.78 2.05 0 2.83L4 21.41c.39.39.9.59 1.41.59.51 0 1.02-.2 1.41-.59l7.78-7.78 2.81-2.81c.8-.78.8-2.07 0-2.86zM5.41 20L4 18.59l7.72-7.72 1.47 1.35L5.41 20z\"/>\n",
              "  </svg>\n",
              "      </button>\n",
              "      \n",
              "  <style>\n",
              "    .colab-df-container {\n",
              "      display:flex;\n",
              "      flex-wrap:wrap;\n",
              "      gap: 12px;\n",
              "    }\n",
              "\n",
              "    .colab-df-convert {\n",
              "      background-color: #E8F0FE;\n",
              "      border: none;\n",
              "      border-radius: 50%;\n",
              "      cursor: pointer;\n",
              "      display: none;\n",
              "      fill: #1967D2;\n",
              "      height: 32px;\n",
              "      padding: 0 0 0 0;\n",
              "      width: 32px;\n",
              "    }\n",
              "\n",
              "    .colab-df-convert:hover {\n",
              "      background-color: #E2EBFA;\n",
              "      box-shadow: 0px 1px 2px rgba(60, 64, 67, 0.3), 0px 1px 3px 1px rgba(60, 64, 67, 0.15);\n",
              "      fill: #174EA6;\n",
              "    }\n",
              "\n",
              "    [theme=dark] .colab-df-convert {\n",
              "      background-color: #3B4455;\n",
              "      fill: #D2E3FC;\n",
              "    }\n",
              "\n",
              "    [theme=dark] .colab-df-convert:hover {\n",
              "      background-color: #434B5C;\n",
              "      box-shadow: 0px 1px 3px 1px rgba(0, 0, 0, 0.15);\n",
              "      filter: drop-shadow(0px 1px 2px rgba(0, 0, 0, 0.3));\n",
              "      fill: #FFFFFF;\n",
              "    }\n",
              "  </style>\n",
              "\n",
              "      <script>\n",
              "        const buttonEl =\n",
              "          document.querySelector('#df-73b0aa32-54c5-4e74-9d78-0b84a47c2110 button.colab-df-convert');\n",
              "        buttonEl.style.display =\n",
              "          google.colab.kernel.accessAllowed ? 'block' : 'none';\n",
              "\n",
              "        async function convertToInteractive(key) {\n",
              "          const element = document.querySelector('#df-73b0aa32-54c5-4e74-9d78-0b84a47c2110');\n",
              "          const dataTable =\n",
              "            await google.colab.kernel.invokeFunction('convertToInteractive',\n",
              "                                                     [key], {});\n",
              "          if (!dataTable) return;\n",
              "\n",
              "          const docLinkHtml = 'Like what you see? Visit the ' +\n",
              "            '<a target=\"_blank\" href=https://colab.research.google.com/notebooks/data_table.ipynb>data table notebook</a>'\n",
              "            + ' to learn more about interactive tables.';\n",
              "          element.innerHTML = '';\n",
              "          dataTable['output_type'] = 'display_data';\n",
              "          await google.colab.output.renderOutput(dataTable, element);\n",
              "          const docLink = document.createElement('div');\n",
              "          docLink.innerHTML = docLinkHtml;\n",
              "          element.appendChild(docLink);\n",
              "        }\n",
              "      </script>\n",
              "    </div>\n",
              "  </div>\n",
              "  "
            ]
          },
          "metadata": {},
          "execution_count": 4
        }
      ]
    },
    {
      "cell_type": "markdown",
      "metadata": {
        "id": "6U3sKyOGUhNn"
      },
      "source": [
        "## 2.4 Getting started"
      ]
    },
    {
      "cell_type": "markdown",
      "metadata": {
        "id": "YmcYFonX5h-Z"
      },
      "source": [
        "**Get dataset info**"
      ]
    },
    {
      "cell_type": "code",
      "source": [
        "loan_data.info()"
      ],
      "metadata": {
        "colab": {
          "base_uri": "https://localhost:8080/"
        },
        "id": "fIYb_QTnAJgx",
        "outputId": "a27c2afd-ef7a-4a99-8fba-77293734cb34"
      },
      "execution_count": null,
      "outputs": [
        {
          "output_type": "stream",
          "name": "stdout",
          "text": [
            "<class 'pandas.core.frame.DataFrame'>\n",
            "RangeIndex: 769 entries, 0 to 768\n",
            "Data columns (total 14 columns):\n",
            " #   Column             Non-Null Count  Dtype  \n",
            "---  ------             --------------  -----  \n",
            " 0   Unnamed: 0         769 non-null    int64  \n",
            " 1   Loan_ID            769 non-null    object \n",
            " 2   Gender             769 non-null    object \n",
            " 3   Married            769 non-null    object \n",
            " 4   Dependents         769 non-null    object \n",
            " 5   Education          769 non-null    object \n",
            " 6   Self_Employed      769 non-null    object \n",
            " 7   ApplicantIncome    769 non-null    int64  \n",
            " 8   CoapplicantIncome  769 non-null    float64\n",
            " 9   LoanAmount         769 non-null    float64\n",
            " 10  Loan_Amount_Term   769 non-null    float64\n",
            " 11  Credit_History     769 non-null    float64\n",
            " 12  Property_Area      769 non-null    object \n",
            " 13  Loan_Status        769 non-null    object \n",
            "dtypes: float64(4), int64(2), object(8)\n",
            "memory usage: 84.2+ KB\n"
          ]
        }
      ]
    },
    {
      "cell_type": "code",
      "metadata": {
        "id": "dT-pWJzQVkgJ",
        "colab": {
          "base_uri": "https://localhost:8080/"
        },
        "outputId": "c406bafe-d2a9-4863-d578-af1f2f35f901"
      },
      "source": [
        "loan_data.isnull().sum()"
      ],
      "execution_count": null,
      "outputs": [
        {
          "output_type": "execute_result",
          "data": {
            "text/plain": [
              "Unnamed: 0           0\n",
              "Loan_ID              0\n",
              "Gender               0\n",
              "Married              0\n",
              "Dependents           0\n",
              "Education            0\n",
              "Self_Employed        0\n",
              "ApplicantIncome      0\n",
              "CoapplicantIncome    0\n",
              "LoanAmount           0\n",
              "Loan_Amount_Term     0\n",
              "Credit_History       0\n",
              "Property_Area        0\n",
              "Loan_Status          0\n",
              "dtype: int64"
            ]
          },
          "metadata": {},
          "execution_count": 6
        }
      ]
    },
    {
      "cell_type": "markdown",
      "metadata": {
        "id": "UDGER9stVqG_"
      },
      "source": [
        "As you may have noticed, there are no null values in the dataframe. The reason is because this is a quite clean dataset that has already been processed. \n",
        "In real life scenarios, datasets often contain special characters, missing values, etc. which induce a lot of processing before modeling"
      ]
    },
    {
      "cell_type": "markdown",
      "source": [
        "There are two columns that won't be needed in our study. Let's delete them"
      ],
      "metadata": {
        "id": "4UFjN7CHBUPC"
      }
    },
    {
      "cell_type": "code",
      "metadata": {
        "id": "gmOmMlO-TuFn"
      },
      "source": [
        "del loan_data['Loan_ID']\n",
        "del loan_data['Unnamed: 0']"
      ],
      "execution_count": null,
      "outputs": []
    },
    {
      "cell_type": "code",
      "metadata": {
        "id": "u8XGQK1zU7pK",
        "colab": {
          "base_uri": "https://localhost:8080/",
          "height": 206
        },
        "outputId": "9a259e91-cb6a-4122-fe7e-a05d38f64f82"
      },
      "source": [
        "loan_data.head()"
      ],
      "execution_count": null,
      "outputs": [
        {
          "output_type": "execute_result",
          "data": {
            "text/plain": [
              "  Gender Married Dependents     Education Self_Employed  ApplicantIncome  \\\n",
              "0   Male     Yes          1      Graduate            No             4583   \n",
              "1   Male     Yes          0      Graduate           Yes             3000   \n",
              "2   Male     Yes          0  Not Graduate            No             2583   \n",
              "3   Male      No          0      Graduate            No             6000   \n",
              "4   Male     Yes          2      Graduate           Yes             5417   \n",
              "\n",
              "   CoapplicantIncome  LoanAmount  Loan_Amount_Term  Credit_History  \\\n",
              "0             1508.0       128.0             360.0             1.0   \n",
              "1                0.0        66.0             360.0             1.0   \n",
              "2             2358.0       120.0             360.0             1.0   \n",
              "3                0.0       141.0             360.0             1.0   \n",
              "4             4196.0       267.0             360.0             1.0   \n",
              "\n",
              "  Property_Area Loan_Status  \n",
              "0         Rural           N  \n",
              "1         Urban           Y  \n",
              "2         Urban           Y  \n",
              "3         Urban           Y  \n",
              "4         Urban           Y  "
            ],
            "text/html": [
              "\n",
              "  <div id=\"df-293f3b17-f110-432a-8019-4f4b365fc74f\">\n",
              "    <div class=\"colab-df-container\">\n",
              "      <div>\n",
              "<style scoped>\n",
              "    .dataframe tbody tr th:only-of-type {\n",
              "        vertical-align: middle;\n",
              "    }\n",
              "\n",
              "    .dataframe tbody tr th {\n",
              "        vertical-align: top;\n",
              "    }\n",
              "\n",
              "    .dataframe thead th {\n",
              "        text-align: right;\n",
              "    }\n",
              "</style>\n",
              "<table border=\"1\" class=\"dataframe\">\n",
              "  <thead>\n",
              "    <tr style=\"text-align: right;\">\n",
              "      <th></th>\n",
              "      <th>Gender</th>\n",
              "      <th>Married</th>\n",
              "      <th>Dependents</th>\n",
              "      <th>Education</th>\n",
              "      <th>Self_Employed</th>\n",
              "      <th>ApplicantIncome</th>\n",
              "      <th>CoapplicantIncome</th>\n",
              "      <th>LoanAmount</th>\n",
              "      <th>Loan_Amount_Term</th>\n",
              "      <th>Credit_History</th>\n",
              "      <th>Property_Area</th>\n",
              "      <th>Loan_Status</th>\n",
              "    </tr>\n",
              "  </thead>\n",
              "  <tbody>\n",
              "    <tr>\n",
              "      <th>0</th>\n",
              "      <td>Male</td>\n",
              "      <td>Yes</td>\n",
              "      <td>1</td>\n",
              "      <td>Graduate</td>\n",
              "      <td>No</td>\n",
              "      <td>4583</td>\n",
              "      <td>1508.0</td>\n",
              "      <td>128.0</td>\n",
              "      <td>360.0</td>\n",
              "      <td>1.0</td>\n",
              "      <td>Rural</td>\n",
              "      <td>N</td>\n",
              "    </tr>\n",
              "    <tr>\n",
              "      <th>1</th>\n",
              "      <td>Male</td>\n",
              "      <td>Yes</td>\n",
              "      <td>0</td>\n",
              "      <td>Graduate</td>\n",
              "      <td>Yes</td>\n",
              "      <td>3000</td>\n",
              "      <td>0.0</td>\n",
              "      <td>66.0</td>\n",
              "      <td>360.0</td>\n",
              "      <td>1.0</td>\n",
              "      <td>Urban</td>\n",
              "      <td>Y</td>\n",
              "    </tr>\n",
              "    <tr>\n",
              "      <th>2</th>\n",
              "      <td>Male</td>\n",
              "      <td>Yes</td>\n",
              "      <td>0</td>\n",
              "      <td>Not Graduate</td>\n",
              "      <td>No</td>\n",
              "      <td>2583</td>\n",
              "      <td>2358.0</td>\n",
              "      <td>120.0</td>\n",
              "      <td>360.0</td>\n",
              "      <td>1.0</td>\n",
              "      <td>Urban</td>\n",
              "      <td>Y</td>\n",
              "    </tr>\n",
              "    <tr>\n",
              "      <th>3</th>\n",
              "      <td>Male</td>\n",
              "      <td>No</td>\n",
              "      <td>0</td>\n",
              "      <td>Graduate</td>\n",
              "      <td>No</td>\n",
              "      <td>6000</td>\n",
              "      <td>0.0</td>\n",
              "      <td>141.0</td>\n",
              "      <td>360.0</td>\n",
              "      <td>1.0</td>\n",
              "      <td>Urban</td>\n",
              "      <td>Y</td>\n",
              "    </tr>\n",
              "    <tr>\n",
              "      <th>4</th>\n",
              "      <td>Male</td>\n",
              "      <td>Yes</td>\n",
              "      <td>2</td>\n",
              "      <td>Graduate</td>\n",
              "      <td>Yes</td>\n",
              "      <td>5417</td>\n",
              "      <td>4196.0</td>\n",
              "      <td>267.0</td>\n",
              "      <td>360.0</td>\n",
              "      <td>1.0</td>\n",
              "      <td>Urban</td>\n",
              "      <td>Y</td>\n",
              "    </tr>\n",
              "  </tbody>\n",
              "</table>\n",
              "</div>\n",
              "      <button class=\"colab-df-convert\" onclick=\"convertToInteractive('df-293f3b17-f110-432a-8019-4f4b365fc74f')\"\n",
              "              title=\"Convert this dataframe to an interactive table.\"\n",
              "              style=\"display:none;\">\n",
              "        \n",
              "  <svg xmlns=\"http://www.w3.org/2000/svg\" height=\"24px\"viewBox=\"0 0 24 24\"\n",
              "       width=\"24px\">\n",
              "    <path d=\"M0 0h24v24H0V0z\" fill=\"none\"/>\n",
              "    <path d=\"M18.56 5.44l.94 2.06.94-2.06 2.06-.94-2.06-.94-.94-2.06-.94 2.06-2.06.94zm-11 1L8.5 8.5l.94-2.06 2.06-.94-2.06-.94L8.5 2.5l-.94 2.06-2.06.94zm10 10l.94 2.06.94-2.06 2.06-.94-2.06-.94-.94-2.06-.94 2.06-2.06.94z\"/><path d=\"M17.41 7.96l-1.37-1.37c-.4-.4-.92-.59-1.43-.59-.52 0-1.04.2-1.43.59L10.3 9.45l-7.72 7.72c-.78.78-.78 2.05 0 2.83L4 21.41c.39.39.9.59 1.41.59.51 0 1.02-.2 1.41-.59l7.78-7.78 2.81-2.81c.8-.78.8-2.07 0-2.86zM5.41 20L4 18.59l7.72-7.72 1.47 1.35L5.41 20z\"/>\n",
              "  </svg>\n",
              "      </button>\n",
              "      \n",
              "  <style>\n",
              "    .colab-df-container {\n",
              "      display:flex;\n",
              "      flex-wrap:wrap;\n",
              "      gap: 12px;\n",
              "    }\n",
              "\n",
              "    .colab-df-convert {\n",
              "      background-color: #E8F0FE;\n",
              "      border: none;\n",
              "      border-radius: 50%;\n",
              "      cursor: pointer;\n",
              "      display: none;\n",
              "      fill: #1967D2;\n",
              "      height: 32px;\n",
              "      padding: 0 0 0 0;\n",
              "      width: 32px;\n",
              "    }\n",
              "\n",
              "    .colab-df-convert:hover {\n",
              "      background-color: #E2EBFA;\n",
              "      box-shadow: 0px 1px 2px rgba(60, 64, 67, 0.3), 0px 1px 3px 1px rgba(60, 64, 67, 0.15);\n",
              "      fill: #174EA6;\n",
              "    }\n",
              "\n",
              "    [theme=dark] .colab-df-convert {\n",
              "      background-color: #3B4455;\n",
              "      fill: #D2E3FC;\n",
              "    }\n",
              "\n",
              "    [theme=dark] .colab-df-convert:hover {\n",
              "      background-color: #434B5C;\n",
              "      box-shadow: 0px 1px 3px 1px rgba(0, 0, 0, 0.15);\n",
              "      filter: drop-shadow(0px 1px 2px rgba(0, 0, 0, 0.3));\n",
              "      fill: #FFFFFF;\n",
              "    }\n",
              "  </style>\n",
              "\n",
              "      <script>\n",
              "        const buttonEl =\n",
              "          document.querySelector('#df-293f3b17-f110-432a-8019-4f4b365fc74f button.colab-df-convert');\n",
              "        buttonEl.style.display =\n",
              "          google.colab.kernel.accessAllowed ? 'block' : 'none';\n",
              "\n",
              "        async function convertToInteractive(key) {\n",
              "          const element = document.querySelector('#df-293f3b17-f110-432a-8019-4f4b365fc74f');\n",
              "          const dataTable =\n",
              "            await google.colab.kernel.invokeFunction('convertToInteractive',\n",
              "                                                     [key], {});\n",
              "          if (!dataTable) return;\n",
              "\n",
              "          const docLinkHtml = 'Like what you see? Visit the ' +\n",
              "            '<a target=\"_blank\" href=https://colab.research.google.com/notebooks/data_table.ipynb>data table notebook</a>'\n",
              "            + ' to learn more about interactive tables.';\n",
              "          element.innerHTML = '';\n",
              "          dataTable['output_type'] = 'display_data';\n",
              "          await google.colab.output.renderOutput(dataTable, element);\n",
              "          const docLink = document.createElement('div');\n",
              "          docLink.innerHTML = docLinkHtml;\n",
              "          element.appendChild(docLink);\n",
              "        }\n",
              "      </script>\n",
              "    </div>\n",
              "  </div>\n",
              "  "
            ]
          },
          "metadata": {},
          "execution_count": 8
        }
      ]
    },
    {
      "cell_type": "markdown",
      "source": [
        "----\n",
        "*Given the dataset and the goal we assign ourself (predict loan eligibility) for this study, do you think there's a risk of biais ?*\n",
        "\n",
        "\n",
        "---"
      ],
      "metadata": {
        "id": "SqFlyy-r29Lc"
      }
    },
    {
      "cell_type": "markdown",
      "source": [
        "---\n",
        "*What might be a potential source of bias ?*\n",
        "\n",
        "---"
      ],
      "metadata": {
        "id": "Ky7S42KN4eSI"
      }
    },
    {
      "cell_type": "markdown",
      "source": [
        "---\n",
        "*What would you suggest to do first before starting modeling in order to verify that a model might be or not be subjected to bias if trained with the dataset?*\n",
        "\n",
        "---"
      ],
      "metadata": {
        "id": "r68kWbMr_c3E"
      }
    },
    {
      "cell_type": "markdown",
      "source": [
        "## 2.5  Exploratory analysis"
      ],
      "metadata": {
        "id": "wvy-eQfC21nB"
      }
    },
    {
      "cell_type": "markdown",
      "source": [
        "Assessing fairness does not start when you have your final model. It should also be a part of your exploratory analysis. \n",
        "\n",
        "In general, we do this to build some intuition around our dataset. So, when it comes to modelling, you have a good idea of what results to expect. Specifically, for fairness, you want to understand what aspects of your data may lead to an unfair model.\n",
        "\n",
        "---"
      ],
      "metadata": {
        "id": "3ey3NMyf61sh"
      }
    },
    {
      "cell_type": "markdown",
      "source": [
        "A model can become unfair due to different sources of bias. There are 2 classes of bias : bias related to data and bias related to model building. In our exploratory analysis, we will focus on 1st class. We want to understand the extent to which these are present in our data.\n",
        "\n",
        "---"
      ],
      "metadata": {
        "id": "4SosDT8QFTNc"
      }
    },
    {
      "cell_type": "markdown",
      "source": [
        "**Next steps**\n",
        "\n",
        "---\n",
        "\n",
        "Plot the breakdown of our dataset population by Loan Status and *Gender*\n",
        "\n",
        "---"
      ],
      "metadata": {
        "id": "cXHLL4ocIbnn"
      }
    },
    {
      "cell_type": "markdown",
      "source": [
        "Plot the loan status distribution by Gender\n",
        "\n",
        "---"
      ],
      "metadata": {
        "id": "RXZ1XNuFLp1-"
      }
    },
    {
      "cell_type": "markdown",
      "source": [
        "#### Plots"
      ],
      "metadata": {
        "id": "G0Nvj2QhLPkG"
      }
    },
    {
      "cell_type": "markdown",
      "source": [
        "**Unbalanced dataset**"
      ],
      "metadata": {
        "id": "dsARlc3LWCQw"
      }
    },
    {
      "cell_type": "markdown",
      "source": [
        "We will start by seeing if our dataset is unbalanced. Specifically, we mean unbalanced in terms of the sensitive attributes and the target attribute."
      ],
      "metadata": {
        "id": "6P4QkzgjWhz7"
      }
    },
    {
      "cell_type": "code",
      "source": [
        "plt.figure(figsize=(14, 7))\n",
        "plt.subplot(121)\n",
        "\n",
        "#Plot breakdown by Loan status\n",
        "counts = loan_data['Loan_Status'].value_counts()\n",
        "labels = counts.index\n",
        "\n",
        "plt.pie(counts, autopct='%.0f%%', startangle=90)\n",
        "plt.legend(labels, loc=2,fontsize=15)\n",
        "plt.title(\"Loan Status\",size=20)\n",
        "\n",
        "plt.subplot(122)\n",
        "\n",
        "#Plot breakdown by Gender\n",
        "counts = loan_data['Gender'].value_counts()\n",
        "labels = counts.index\n",
        "\n",
        "plt.pie(counts,autopct='%.0f%%', startangle=90)\n",
        "plt.legend(labels, loc=2,fontsize=15)\n",
        "\n",
        "plt.title(\"Gender\",size=20)\n",
        "\n",
        "\n",
        "\n",
        "plt.tight_layout(pad=2)"
      ],
      "metadata": {
        "colab": {
          "base_uri": "https://localhost:8080/",
          "height": 500
        },
        "id": "KN0xsmeY3-hT",
        "outputId": "8ab28e5b-e410-4e5d-ad0a-6ac1b325ee1a"
      },
      "execution_count": null,
      "outputs": [
        {
          "output_type": "display_data",
          "data": {
            "text/plain": [
              "<Figure size 1008x504 with 2 Axes>"
            ],
            "image/png": "[encoded data removed]"
          },
          "metadata": {}
        }
      ]
    },
    {
      "cell_type": "markdown",
      "source": [
        "Looking at Figure above, we have the breakdown of the population by Gender and Loan approval. Cleary, there is a significant imbalance between classes. Our model could easily end up highly biased towards the majority class. In fact, if the model simply always predicts loan approval, it would already have around **72%** accuracy with this data.\n",
        "\n",
        "---\n",
        "\n",
        "We also have imbalance in sensitive attribute. The second chart shows that **81%** of our population is male. "
      ],
      "metadata": {
        "id": "9MnvJw3zWx48"
      }
    },
    {
      "cell_type": "markdown",
      "metadata": {
        "id": "yGMiQIlKu-2P"
      },
      "source": [
        "Men are overrepresented in the dataset. There are 4x more men than women in which may imply that more men have their loans accepted."
      ]
    },
    {
      "cell_type": "code",
      "metadata": {
        "id": "UK2bgz8551Q2",
        "colab": {
          "base_uri": "https://localhost:8080/"
        },
        "outputId": "95c47439-b1ee-4030-df41-c14c726f20a6"
      },
      "source": [
        "male_accepted_loans = loan_data[(loan_data.Gender==\"Male\") \\\n",
        "                                & (loan_data.Loan_Status==\"Y\")]\n",
        "female_accepted_loans = loan_data[(loan_data.Gender==\"Female\") \\\n",
        "                                  & (loan_data.Loan_Status==\"Y\")]\n",
        "\n",
        "print('There are {} men with accepted loans'.format(len(male_accepted_loans)))\n",
        "print('Only {} women have their loans accepted'.format(len(female_accepted_loans)))"
      ],
      "execution_count": null,
      "outputs": [
        {
          "output_type": "stream",
          "name": "stdout",
          "text": [
            "There are 462 men with accepted loans\n",
            "Only 99 women have their loans accepted\n"
          ]
        }
      ]
    },
    {
      "cell_type": "markdown",
      "metadata": {
        "id": "d_UBUkBdCHwo"
      },
      "source": [
        "Loan acceptance for men is 4x greater than the female population."
      ]
    },
    {
      "cell_type": "markdown",
      "source": [
        "**Prevalence**"
      ],
      "metadata": {
        "id": "J7rqlL7ex6Aj"
      }
    },
    {
      "cell_type": "markdown",
      "source": [
        "For a target variable, prevalence is the proportion of the positive cases to overall cases where a positive case is when the target variable has a value of 1. Prevalence can also be used to help us understand in depth our data."
      ],
      "metadata": {
        "id": "ui25lqFFJca7"
      }
    },
    {
      "cell_type": "markdown",
      "source": [
        "We do this by calculating prevalence for our different privileged (1) and unprivileged (0) groups and the prevalence at the intersection of the protected features"
      ],
      "metadata": {
        "id": "FkwYIzcZLMCP"
      }
    },
    {
      "cell_type": "code",
      "source": [
        "def compute_prevalence(input_df):\n",
        "  \"\"\"\n",
        "  This function compute prevalence that can be used to assess the breakdown\n",
        "  of the dataset given protected attributes\n",
        "  \"\"\"\n",
        "  df = input_df[['Gender','Married', 'Loan_Status']].copy()\n",
        "\n",
        "  #Define protected features \n",
        "  df['Married'] = [1 if r=='Yes' else 0 for r in df['Married']]\n",
        "  df['Gender'] = [1 if s=='Male' else 0 for s in df['Gender']]\n",
        "\n",
        "  #Define target variable \n",
        "  df['y'] =  [1 if y == 'Y'else 0 for y in df['Loan_Status']]\n",
        "\n",
        "  prev = df['y'].mean()\n",
        "  prev_married = df.groupby('Married')['y'].mean()\n",
        "  prev_gender = df.groupby('Gender')['y'].mean()\n",
        "  prev_comb = df.groupby(['Married','Gender'])['y'].mean()\n",
        "\n",
        "  print(f\"Overall dataset prevalence : {prev}\")\n",
        "  print('------------------------------------')\n",
        "  print(f\"Marriage status prevalence : \\n {pd.DataFrame(prev_married)}\")\n",
        "  print('------------------------------------')\n",
        "  print(f\"Gender prevalence : \\n {pd.DataFrame(prev_gender)}\")\n",
        "  print('------------------------------------')\n",
        "  print(f\"Prevalence at the intersection Married vs Gender : \\n {pd.DataFrame(prev_comb)}\")"
      ],
      "metadata": {
        "id": "6amED5UVu9Ui"
      },
      "execution_count": null,
      "outputs": []
    },
    {
      "cell_type": "code",
      "source": [
        "compute_prevalence(loan_data)"
      ],
      "metadata": {
        "colab": {
          "base_uri": "https://localhost:8080/"
        },
        "id": "-k1TmqsSwjba",
        "outputId": "63e0dbd5-efab-4891-ebc2-e921759ac347"
      },
      "execution_count": null,
      "outputs": [
        {
          "output_type": "stream",
          "name": "stdout",
          "text": [
            "Overall dataset prevalence : 0.729518855656697\n",
            "------------------------------------\n",
            "Marriage status prevalence : \n",
            "                 y\n",
            "Married          \n",
            "0        0.660517\n",
            "1        0.767068\n",
            "------------------------------------\n",
            "Gender prevalence : \n",
            "                y\n",
            "Gender          \n",
            "0       0.682759\n",
            "1       0.740385\n",
            "------------------------------------\n",
            "Prevalence at the intersection Married vs Gender : \n",
            "                        y\n",
            "Married Gender          \n",
            "0       0       0.649485\n",
            "        1       0.666667\n",
            "1       0       0.750000\n",
            "        1       0.768889\n"
          ]
        }
      ]
    },
    {
      "cell_type": "markdown",
      "source": [
        "Prevalence is higher for priviledge groups though there's not a significant difference between our categories (2x or more prevalence) "
      ],
      "metadata": {
        "id": "hESgtIzr-vD1"
      }
    },
    {
      "cell_type": "markdown",
      "source": [
        "----\n",
        "**We actually cannot conclude from these observations that women will be discriminated against because of their gender. Maybe the eligibility to a loan depends for instance on the applicant income. If so, if men earn 4x more then women, this might explain the differences in prevalences and loan eligibility approval.**\n",
        "\n",
        "----"
      ],
      "metadata": {
        "id": "mr4VHRfvC1bJ"
      }
    },
    {
      "cell_type": "markdown",
      "source": [
        "Let's compare male and female population income and see to what extend the income impact our target variable."
      ],
      "metadata": {
        "id": "d0iXOxWfEgpg"
      }
    },
    {
      "cell_type": "markdown",
      "source": [
        "**Comparing income**"
      ],
      "metadata": {
        "id": "DrVJE66hBnwo"
      }
    },
    {
      "cell_type": "markdown",
      "source": [
        "In below cell, we make bins for the applicant income variable based on the values in it and analyze the corresponding loan status for each bin. "
      ],
      "metadata": {
        "id": "HmWs6MwfSYZ4"
      }
    },
    {
      "cell_type": "code",
      "source": [
        "bins=[0, 2500, 4000, 6000, 81000]\n",
        "group=['Low','Average', 'High','Very High']\n",
        "df_bins = loan_data.copy()\n",
        "df_bins['Income_bin']= pd.cut(df_bins['ApplicantIncome'], bins,labels=group)\n",
        "Income_bin = pd.crosstab(df_bins['Income_bin'], df_bins['Loan_Status'])\n",
        "Income_bin.div(Income_bin.sum(1).astype(float), axis=0).plot(kind='bar',stacked=True)\n",
        "plt.xlabel('ApplicantIncome')\n",
        "P=plt.ylabel('Percentage')"
      ],
      "metadata": {
        "colab": {
          "base_uri": "https://localhost:8080/",
          "height": 492
        },
        "id": "ufivBAiHBrmA",
        "outputId": "0413f3b9-1ebf-4ebb-fafe-978b91a08f32"
      },
      "execution_count": null,
      "outputs": [
        {
          "output_type": "display_data",
          "data": {
            "text/plain": [
              "<Figure size 1440x504 with 1 Axes>"
            ],
            "image/png": "[encoded data removed]"
          },
          "metadata": {}
        }
      ]
    },
    {
      "cell_type": "markdown",
      "source": [
        "It can be inferred that Applicant's income does not affect the chances of loan approval which sounds actually surprising we often assume that if the applicant's income is high the chances of loan approval will also be high."
      ],
      "metadata": {
        "id": "IaslkjjO69e6"
      }
    },
    {
      "cell_type": "code",
      "source": [
        "loan_data.groupby('Gender')['ApplicantIncome'].mean().plot.bar()"
      ],
      "metadata": {
        "colab": {
          "base_uri": "https://localhost:8080/",
          "height": 495
        },
        "id": "HBpve1cGBmWH",
        "outputId": "5324619b-1c80-418a-ae63-7b8f12f79999"
      },
      "execution_count": null,
      "outputs": [
        {
          "output_type": "execute_result",
          "data": {
            "text/plain": [
              "<matplotlib.axes._subplots.AxesSubplot at 0x7fad13dbd390>"
            ]
          },
          "metadata": {},
          "execution_count": 12
        },
        {
          "output_type": "display_data",
          "data": {
            "text/plain": [
              "<Figure size 1440x504 with 1 Axes>"
            ],
            "image/png": "[encoded data removed]"
          },
          "metadata": {}
        }
      ]
    },
    {
      "cell_type": "markdown",
      "source": [
        "**On average, men earn a bit more than women but the differences between their  incomes are not as high as we expected**\n",
        "\n",
        "<b/>"
      ],
      "metadata": {
        "id": "CZ5vPJlyX2Wa"
      }
    },
    {
      "cell_type": "markdown",
      "source": [
        "Now let’s look at the correlation between all the numerical variables. We will use the heat map to visualize the correlation. Heatmaps visualize data through variations in coloring. The variables with darker color means their correlation is more."
      ],
      "metadata": {
        "id": "NjdWcEEFc23Z"
      }
    },
    {
      "cell_type": "code",
      "source": [
        "df_corr = loan_data.copy()\n",
        "df_corr['Loan_Status'].replace('N', 0,inplace=True)\n",
        "df_corr['Loan_Status'].replace('Y', 1,inplace=True)\n",
        "matrix = df_corr.corr()\n",
        "f, ax = plt.subplots(figsize=(10,10))\n",
        "sns.heatmap(matrix, vmax=.8,square=True,cmap='BuPu', annot = True)"
      ],
      "metadata": {
        "colab": {
          "base_uri": "https://localhost:8080/",
          "height": 664
        },
        "id": "tLY5BOuxYzgR",
        "outputId": "ac6d9afa-8fa2-4871-abc1-bd7076fe5de0"
      },
      "execution_count": null,
      "outputs": [
        {
          "output_type": "execute_result",
          "data": {
            "text/plain": [
              "<matplotlib.axes._subplots.AxesSubplot at 0x7fad137ae8d0>"
            ]
          },
          "metadata": {},
          "execution_count": 13
        },
        {
          "output_type": "display_data",
          "data": {
            "text/plain": [
              "<Figure size 720x720 with 2 Axes>"
            ],
            "image/png": "[encoded data removed]"
          },
          "metadata": {}
        }
      ]
    },
    {
      "cell_type": "markdown",
      "source": [
        "---\n",
        "**We see that the most correlated variables are Credit_History — Loan_Status.**\n",
        "\n",
        "Even though men earn a bit more than women, since **income** is not much correlated to the Loan Status (target), this variable cannot explain potential difference in loan eligibility between male and female population once we train a machine learning model.\n",
        "\n",
        "---"
      ],
      "metadata": {
        "id": "uWvlTh7KcEOm"
      }
    },
    {
      "cell_type": "markdown",
      "source": [
        "Let us now compare men and women credit history (the attribute that is the most correlated to loan status)"
      ],
      "metadata": {
        "id": "Hg9l3pIKT7E5"
      }
    },
    {
      "cell_type": "code",
      "source": [
        "credit_history = pd.crosstab(loan_data['Gender'],loan_data['Credit_History'])\n",
        "credit_history.div(credit_history.sum(1).astype(float), axis=0).plot(kind='bar',stacked=True,figsize=(5,6))\n",
        "plt.show()"
      ],
      "metadata": {
        "colab": {
          "base_uri": "https://localhost:8080/",
          "height": 424
        },
        "id": "JyNO8gxnbWbG",
        "outputId": "d5e2be58-80da-42df-cf9d-5e6aa78ed6cc"
      },
      "execution_count": null,
      "outputs": [
        {
          "output_type": "display_data",
          "data": {
            "text/plain": [
              "<Figure size 360x432 with 1 Axes>"
            ],
            "image/png": "[encoded data removed]"
          },
          "metadata": {}
        }
      ]
    },
    {
      "cell_type": "markdown",
      "source": [
        "As seen previously, people with a credit history as 1 are more likely to get their loans approved which led us to believe that if more men have their loans approved, it is probably due to :\n",
        "\n",
        "1. High income (this is not the case)\n",
        "2. Other attributes (e.g. credit history) that might be in favor of men and that are correlated with our target (Loan Status)\n"
      ],
      "metadata": {
        "id": "rKnvOsBje9YH"
      }
    },
    {
      "cell_type": "markdown",
      "source": [
        "The above plot invalidate the second hypothesis. The credit history for both male and female population are almost the same. "
      ],
      "metadata": {
        "id": "UCN_qt7Xgb59"
      }
    },
    {
      "cell_type": "markdown",
      "metadata": {
        "id": "L45jaS_rKRZZ"
      },
      "source": [
        "#### **Data encoding : Converting categorical data to numeric**"
      ]
    },
    {
      "cell_type": "markdown",
      "metadata": {
        "id": "WDfK2eSNLlWC"
      },
      "source": [
        "We will use pandas get_dummies function to convert categorical variables to numeric ones since we can't feed most of machine learning models with text data.\n",
        "\n",
        "The categorical variables are : 'Married', 'Education', 'Dependents', 'Self_Emplyed', 'Property_Area'.\n",
        "\n",
        "They are converted using label encoding technique which simply replaces the categorical values of a variable with a numeric value between 0 and the number of categories minus 1.\n",
        "\n"
      ]
    },
    {
      "cell_type": "code",
      "metadata": {
        "id": "C8i1DmPX08ks"
      },
      "source": [
        "def categorical_numeric(col_list, dataframe):\n",
        "    '''\n",
        "    Input:\n",
        "        col_list: list of categorical variables\n",
        "        dataframe : original dataframe\n",
        "    Output:\n",
        "        df: dataframe with transformed categorical variables\n",
        "    '''\n",
        "    df_cat_to_numeric = pd.get_dummies(dataframe[col_list])\n",
        "    return df_cat_to_numeric"
      ],
      "execution_count": null,
      "outputs": []
    },
    {
      "cell_type": "code",
      "metadata": {
        "id": "XmfXTo6gKXr3",
        "colab": {
          "base_uri": "https://localhost:8080/",
          "height": 206
        },
        "outputId": "e4a7528e-4ddc-4cac-b0b9-ea3ca2091d34"
      },
      "source": [
        "cat_columns = ['Married',  'Education', 'Dependents', 'Self_Employed', 'Property_Area']\n",
        "df_cat_variables = categorical_numeric(cat_columns, loan_data)\n",
        "df_cat_variables.head()"
      ],
      "execution_count": null,
      "outputs": [
        {
          "output_type": "execute_result",
          "data": {
            "text/plain": [
              "   Married_No  Married_Yes  Education_Graduate  Education_Not Graduate  \\\n",
              "0           0            1                   1                       0   \n",
              "1           0            1                   1                       0   \n",
              "2           0            1                   0                       1   \n",
              "3           1            0                   1                       0   \n",
              "4           0            1                   1                       0   \n",
              "\n",
              "   Dependents_0  Dependents_1  Dependents_2  Dependents_3+  Self_Employed_No  \\\n",
              "0             0             1             0              0                 1   \n",
              "1             1             0             0              0                 0   \n",
              "2             1             0             0              0                 1   \n",
              "3             1             0             0              0                 1   \n",
              "4             0             0             1              0                 0   \n",
              "\n",
              "   Self_Employed_Yes  Property_Area_Rural  Property_Area_Semiurban  \\\n",
              "0                  0                    1                        0   \n",
              "1                  1                    0                        0   \n",
              "2                  0                    0                        0   \n",
              "3                  0                    0                        0   \n",
              "4                  1                    0                        0   \n",
              "\n",
              "   Property_Area_Urban  \n",
              "0                    0  \n",
              "1                    1  \n",
              "2                    1  \n",
              "3                    1  \n",
              "4                    1  "
            ],
            "text/html": [
              "\n",
              "  <div id=\"df-18c92944-8476-4b7d-9a18-1a6e4394b61e\">\n",
              "    <div class=\"colab-df-container\">\n",
              "      <div>\n",
              "<style scoped>\n",
              "    .dataframe tbody tr th:only-of-type {\n",
              "        vertical-align: middle;\n",
              "    }\n",
              "\n",
              "    .dataframe tbody tr th {\n",
              "        vertical-align: top;\n",
              "    }\n",
              "\n",
              "    .dataframe thead th {\n",
              "        text-align: right;\n",
              "    }\n",
              "</style>\n",
              "<table border=\"1\" class=\"dataframe\">\n",
              "  <thead>\n",
              "    <tr style=\"text-align: right;\">\n",
              "      <th></th>\n",
              "      <th>Married_No</th>\n",
              "      <th>Married_Yes</th>\n",
              "      <th>Education_Graduate</th>\n",
              "      <th>Education_Not Graduate</th>\n",
              "      <th>Dependents_0</th>\n",
              "      <th>Dependents_1</th>\n",
              "      <th>Dependents_2</th>\n",
              "      <th>Dependents_3+</th>\n",
              "      <th>Self_Employed_No</th>\n",
              "      <th>Self_Employed_Yes</th>\n",
              "      <th>Property_Area_Rural</th>\n",
              "      <th>Property_Area_Semiurban</th>\n",
              "      <th>Property_Area_Urban</th>\n",
              "    </tr>\n",
              "  </thead>\n",
              "  <tbody>\n",
              "    <tr>\n",
              "      <th>0</th>\n",
              "      <td>0</td>\n",
              "      <td>1</td>\n",
              "      <td>1</td>\n",
              "      <td>0</td>\n",
              "      <td>0</td>\n",
              "      <td>1</td>\n",
              "      <td>0</td>\n",
              "      <td>0</td>\n",
              "      <td>1</td>\n",
              "      <td>0</td>\n",
              "      <td>1</td>\n",
              "      <td>0</td>\n",
              "      <td>0</td>\n",
              "    </tr>\n",
              "    <tr>\n",
              "      <th>1</th>\n",
              "      <td>0</td>\n",
              "      <td>1</td>\n",
              "      <td>1</td>\n",
              "      <td>0</td>\n",
              "      <td>1</td>\n",
              "      <td>0</td>\n",
              "      <td>0</td>\n",
              "      <td>0</td>\n",
              "      <td>0</td>\n",
              "      <td>1</td>\n",
              "      <td>0</td>\n",
              "      <td>0</td>\n",
              "      <td>1</td>\n",
              "    </tr>\n",
              "    <tr>\n",
              "      <th>2</th>\n",
              "      <td>0</td>\n",
              "      <td>1</td>\n",
              "      <td>0</td>\n",
              "      <td>1</td>\n",
              "      <td>1</td>\n",
              "      <td>0</td>\n",
              "      <td>0</td>\n",
              "      <td>0</td>\n",
              "      <td>1</td>\n",
              "      <td>0</td>\n",
              "      <td>0</td>\n",
              "      <td>0</td>\n",
              "      <td>1</td>\n",
              "    </tr>\n",
              "    <tr>\n",
              "      <th>3</th>\n",
              "      <td>1</td>\n",
              "      <td>0</td>\n",
              "      <td>1</td>\n",
              "      <td>0</td>\n",
              "      <td>1</td>\n",
              "      <td>0</td>\n",
              "      <td>0</td>\n",
              "      <td>0</td>\n",
              "      <td>1</td>\n",
              "      <td>0</td>\n",
              "      <td>0</td>\n",
              "      <td>0</td>\n",
              "      <td>1</td>\n",
              "    </tr>\n",
              "    <tr>\n",
              "      <th>4</th>\n",
              "      <td>0</td>\n",
              "      <td>1</td>\n",
              "      <td>1</td>\n",
              "      <td>0</td>\n",
              "      <td>0</td>\n",
              "      <td>0</td>\n",
              "      <td>1</td>\n",
              "      <td>0</td>\n",
              "      <td>0</td>\n",
              "      <td>1</td>\n",
              "      <td>0</td>\n",
              "      <td>0</td>\n",
              "      <td>1</td>\n",
              "    </tr>\n",
              "  </tbody>\n",
              "</table>\n",
              "</div>\n",
              "      <button class=\"colab-df-convert\" onclick=\"convertToInteractive('df-18c92944-8476-4b7d-9a18-1a6e4394b61e')\"\n",
              "              title=\"Convert this dataframe to an interactive table.\"\n",
              "              style=\"display:none;\">\n",
              "        \n",
              "  <svg xmlns=\"http://www.w3.org/2000/svg\" height=\"24px\"viewBox=\"0 0 24 24\"\n",
              "       width=\"24px\">\n",
              "    <path d=\"M0 0h24v24H0V0z\" fill=\"none\"/>\n",
              "    <path d=\"M18.56 5.44l.94 2.06.94-2.06 2.06-.94-2.06-.94-.94-2.06-.94 2.06-2.06.94zm-11 1L8.5 8.5l.94-2.06 2.06-.94-2.06-.94L8.5 2.5l-.94 2.06-2.06.94zm10 10l.94 2.06.94-2.06 2.06-.94-2.06-.94-.94-2.06-.94 2.06-2.06.94z\"/><path d=\"M17.41 7.96l-1.37-1.37c-.4-.4-.92-.59-1.43-.59-.52 0-1.04.2-1.43.59L10.3 9.45l-7.72 7.72c-.78.78-.78 2.05 0 2.83L4 21.41c.39.39.9.59 1.41.59.51 0 1.02-.2 1.41-.59l7.78-7.78 2.81-2.81c.8-.78.8-2.07 0-2.86zM5.41 20L4 18.59l7.72-7.72 1.47 1.35L5.41 20z\"/>\n",
              "  </svg>\n",
              "      </button>\n",
              "      \n",
              "  <style>\n",
              "    .colab-df-container {\n",
              "      display:flex;\n",
              "      flex-wrap:wrap;\n",
              "      gap: 12px;\n",
              "    }\n",
              "\n",
              "    .colab-df-convert {\n",
              "      background-color: #E8F0FE;\n",
              "      border: none;\n",
              "      border-radius: 50%;\n",
              "      cursor: pointer;\n",
              "      display: none;\n",
              "      fill: #1967D2;\n",
              "      height: 32px;\n",
              "      padding: 0 0 0 0;\n",
              "      width: 32px;\n",
              "    }\n",
              "\n",
              "    .colab-df-convert:hover {\n",
              "      background-color: #E2EBFA;\n",
              "      box-shadow: 0px 1px 2px rgba(60, 64, 67, 0.3), 0px 1px 3px 1px rgba(60, 64, 67, 0.15);\n",
              "      fill: #174EA6;\n",
              "    }\n",
              "\n",
              "    [theme=dark] .colab-df-convert {\n",
              "      background-color: #3B4455;\n",
              "      fill: #D2E3FC;\n",
              "    }\n",
              "\n",
              "    [theme=dark] .colab-df-convert:hover {\n",
              "      background-color: #434B5C;\n",
              "      box-shadow: 0px 1px 3px 1px rgba(0, 0, 0, 0.15);\n",
              "      filter: drop-shadow(0px 1px 2px rgba(0, 0, 0, 0.3));\n",
              "      fill: #FFFFFF;\n",
              "    }\n",
              "  </style>\n",
              "\n",
              "      <script>\n",
              "        const buttonEl =\n",
              "          document.querySelector('#df-18c92944-8476-4b7d-9a18-1a6e4394b61e button.colab-df-convert');\n",
              "        buttonEl.style.display =\n",
              "          google.colab.kernel.accessAllowed ? 'block' : 'none';\n",
              "\n",
              "        async function convertToInteractive(key) {\n",
              "          const element = document.querySelector('#df-18c92944-8476-4b7d-9a18-1a6e4394b61e');\n",
              "          const dataTable =\n",
              "            await google.colab.kernel.invokeFunction('convertToInteractive',\n",
              "                                                     [key], {});\n",
              "          if (!dataTable) return;\n",
              "\n",
              "          const docLinkHtml = 'Like what you see? Visit the ' +\n",
              "            '<a target=\"_blank\" href=https://colab.research.google.com/notebooks/data_table.ipynb>data table notebook</a>'\n",
              "            + ' to learn more about interactive tables.';\n",
              "          element.innerHTML = '';\n",
              "          dataTable['output_type'] = 'display_data';\n",
              "          await google.colab.output.renderOutput(dataTable, element);\n",
              "          const docLink = document.createElement('div');\n",
              "          docLink.innerHTML = docLinkHtml;\n",
              "          element.appendChild(docLink);\n",
              "        }\n",
              "      </script>\n",
              "    </div>\n",
              "  </div>\n",
              "  "
            ]
          },
          "metadata": {},
          "execution_count": 16
        }
      ]
    },
    {
      "cell_type": "markdown",
      "metadata": {
        "id": "ryhR8s8YMV4E"
      },
      "source": [
        "Our target is the loan_status. We also have to convert the column as well as the gender column to numeric columns. A 'Male' Gender and a 'Yes' Loan_Status will be encoded with 1. A 'Female' Gender and a 'No' Loan_Status by 0."
      ]
    },
    {
      "cell_type": "code",
      "metadata": {
        "id": "ZkEsuIe1M2wI"
      },
      "source": [
        "loan_data.loc[loan_data.Gender == 'Male', 'Gender'] = 1\n",
        "loan_data.loc[loan_data.Gender == 'Female', 'Gender'] = 0\n",
        "\n",
        "loan_data.loc[loan_data.Loan_Status == 'Y', 'Loan_Status'] = 1\n",
        "loan_data.loc[loan_data.Loan_Status == 'N', 'Loan_Status'] = 0\n"
      ],
      "execution_count": null,
      "outputs": []
    },
    {
      "cell_type": "code",
      "metadata": {
        "id": "5qYSt7E_Qhaa",
        "colab": {
          "base_uri": "https://localhost:8080/",
          "height": 143
        },
        "outputId": "341eb326-6a2c-4c90-e76d-9f47aae1d5f8"
      },
      "source": [
        "loan_data = loan_data.drop(columns=cat_columns)\n",
        "loan_data.head(3)"
      ],
      "execution_count": null,
      "outputs": [
        {
          "output_type": "execute_result",
          "data": {
            "text/plain": [
              "  Gender  ApplicantIncome  CoapplicantIncome  LoanAmount  Loan_Amount_Term  \\\n",
              "0      1             4583             1508.0       128.0             360.0   \n",
              "1      1             3000                0.0        66.0             360.0   \n",
              "2      1             2583             2358.0       120.0             360.0   \n",
              "\n",
              "   Credit_History Loan_Status  \n",
              "0             1.0           0  \n",
              "1             1.0           1  \n",
              "2             1.0           1  "
            ],
            "text/html": [
              "\n",
              "  <div id=\"df-f5674cee-48c7-47fe-bdef-18f627bf33fa\">\n",
              "    <div class=\"colab-df-container\">\n",
              "      <div>\n",
              "<style scoped>\n",
              "    .dataframe tbody tr th:only-of-type {\n",
              "        vertical-align: middle;\n",
              "    }\n",
              "\n",
              "    .dataframe tbody tr th {\n",
              "        vertical-align: top;\n",
              "    }\n",
              "\n",
              "    .dataframe thead th {\n",
              "        text-align: right;\n",
              "    }\n",
              "</style>\n",
              "<table border=\"1\" class=\"dataframe\">\n",
              "  <thead>\n",
              "    <tr style=\"text-align: right;\">\n",
              "      <th></th>\n",
              "      <th>Gender</th>\n",
              "      <th>ApplicantIncome</th>\n",
              "      <th>CoapplicantIncome</th>\n",
              "      <th>LoanAmount</th>\n",
              "      <th>Loan_Amount_Term</th>\n",
              "      <th>Credit_History</th>\n",
              "      <th>Loan_Status</th>\n",
              "    </tr>\n",
              "  </thead>\n",
              "  <tbody>\n",
              "    <tr>\n",
              "      <th>0</th>\n",
              "      <td>1</td>\n",
              "      <td>4583</td>\n",
              "      <td>1508.0</td>\n",
              "      <td>128.0</td>\n",
              "      <td>360.0</td>\n",
              "      <td>1.0</td>\n",
              "      <td>0</td>\n",
              "    </tr>\n",
              "    <tr>\n",
              "      <th>1</th>\n",
              "      <td>1</td>\n",
              "      <td>3000</td>\n",
              "      <td>0.0</td>\n",
              "      <td>66.0</td>\n",
              "      <td>360.0</td>\n",
              "      <td>1.0</td>\n",
              "      <td>1</td>\n",
              "    </tr>\n",
              "    <tr>\n",
              "      <th>2</th>\n",
              "      <td>1</td>\n",
              "      <td>2583</td>\n",
              "      <td>2358.0</td>\n",
              "      <td>120.0</td>\n",
              "      <td>360.0</td>\n",
              "      <td>1.0</td>\n",
              "      <td>1</td>\n",
              "    </tr>\n",
              "  </tbody>\n",
              "</table>\n",
              "</div>\n",
              "      <button class=\"colab-df-convert\" onclick=\"convertToInteractive('df-f5674cee-48c7-47fe-bdef-18f627bf33fa')\"\n",
              "              title=\"Convert this dataframe to an interactive table.\"\n",
              "              style=\"display:none;\">\n",
              "        \n",
              "  <svg xmlns=\"http://www.w3.org/2000/svg\" height=\"24px\"viewBox=\"0 0 24 24\"\n",
              "       width=\"24px\">\n",
              "    <path d=\"M0 0h24v24H0V0z\" fill=\"none\"/>\n",
              "    <path d=\"M18.56 5.44l.94 2.06.94-2.06 2.06-.94-2.06-.94-.94-2.06-.94 2.06-2.06.94zm-11 1L8.5 8.5l.94-2.06 2.06-.94-2.06-.94L8.5 2.5l-.94 2.06-2.06.94zm10 10l.94 2.06.94-2.06 2.06-.94-2.06-.94-.94-2.06-.94 2.06-2.06.94z\"/><path d=\"M17.41 7.96l-1.37-1.37c-.4-.4-.92-.59-1.43-.59-.52 0-1.04.2-1.43.59L10.3 9.45l-7.72 7.72c-.78.78-.78 2.05 0 2.83L4 21.41c.39.39.9.59 1.41.59.51 0 1.02-.2 1.41-.59l7.78-7.78 2.81-2.81c.8-.78.8-2.07 0-2.86zM5.41 20L4 18.59l7.72-7.72 1.47 1.35L5.41 20z\"/>\n",
              "  </svg>\n",
              "      </button>\n",
              "      \n",
              "  <style>\n",
              "    .colab-df-container {\n",
              "      display:flex;\n",
              "      flex-wrap:wrap;\n",
              "      gap: 12px;\n",
              "    }\n",
              "\n",
              "    .colab-df-convert {\n",
              "      background-color: #E8F0FE;\n",
              "      border: none;\n",
              "      border-radius: 50%;\n",
              "      cursor: pointer;\n",
              "      display: none;\n",
              "      fill: #1967D2;\n",
              "      height: 32px;\n",
              "      padding: 0 0 0 0;\n",
              "      width: 32px;\n",
              "    }\n",
              "\n",
              "    .colab-df-convert:hover {\n",
              "      background-color: #E2EBFA;\n",
              "      box-shadow: 0px 1px 2px rgba(60, 64, 67, 0.3), 0px 1px 3px 1px rgba(60, 64, 67, 0.15);\n",
              "      fill: #174EA6;\n",
              "    }\n",
              "\n",
              "    [theme=dark] .colab-df-convert {\n",
              "      background-color: #3B4455;\n",
              "      fill: #D2E3FC;\n",
              "    }\n",
              "\n",
              "    [theme=dark] .colab-df-convert:hover {\n",
              "      background-color: #434B5C;\n",
              "      box-shadow: 0px 1px 3px 1px rgba(0, 0, 0, 0.15);\n",
              "      filter: drop-shadow(0px 1px 2px rgba(0, 0, 0, 0.3));\n",
              "      fill: #FFFFFF;\n",
              "    }\n",
              "  </style>\n",
              "\n",
              "      <script>\n",
              "        const buttonEl =\n",
              "          document.querySelector('#df-f5674cee-48c7-47fe-bdef-18f627bf33fa button.colab-df-convert');\n",
              "        buttonEl.style.display =\n",
              "          google.colab.kernel.accessAllowed ? 'block' : 'none';\n",
              "\n",
              "        async function convertToInteractive(key) {\n",
              "          const element = document.querySelector('#df-f5674cee-48c7-47fe-bdef-18f627bf33fa');\n",
              "          const dataTable =\n",
              "            await google.colab.kernel.invokeFunction('convertToInteractive',\n",
              "                                                     [key], {});\n",
              "          if (!dataTable) return;\n",
              "\n",
              "          const docLinkHtml = 'Like what you see? Visit the ' +\n",
              "            '<a target=\"_blank\" href=https://colab.research.google.com/notebooks/data_table.ipynb>data table notebook</a>'\n",
              "            + ' to learn more about interactive tables.';\n",
              "          element.innerHTML = '';\n",
              "          dataTable['output_type'] = 'display_data';\n",
              "          await google.colab.output.renderOutput(dataTable, element);\n",
              "          const docLink = document.createElement('div');\n",
              "          docLink.innerHTML = docLinkHtml;\n",
              "          element.appendChild(docLink);\n",
              "        }\n",
              "      </script>\n",
              "    </div>\n",
              "  </div>\n",
              "  "
            ]
          },
          "metadata": {},
          "execution_count": 18
        }
      ]
    },
    {
      "cell_type": "markdown",
      "metadata": {
        "id": "ltF1DPz1Q6wm"
      },
      "source": [
        "Now we can merge the above dataframe with the one we created with the categorical columns"
      ]
    },
    {
      "cell_type": "code",
      "metadata": {
        "id": "NXV_JhqC6UYN"
      },
      "source": [
        "def concatenate_dataframe(df1, df2):\n",
        "    \"\"\" \n",
        "    Input:\n",
        "        df1 and df2 : the two dataframes to be concatenated\n",
        "    Ouput:\n",
        "    dataframe which is the concatanation of the inputs\n",
        "    \"\"\"\n",
        "    df_concat = pd.concat([df1,df2], axis=1)\n",
        "    return df_concat"
      ],
      "execution_count": null,
      "outputs": []
    },
    {
      "cell_type": "code",
      "metadata": {
        "id": "Tiyx8oWCRK71",
        "colab": {
          "base_uri": "https://localhost:8080/",
          "height": 287
        },
        "outputId": "05fb34a1-a9c7-47ba-93d7-d50ff2d527ed"
      },
      "source": [
        "df_final = concatenate_dataframe(loan_data, df_cat_variables)\n",
        "df_final.head()"
      ],
      "execution_count": null,
      "outputs": [
        {
          "output_type": "execute_result",
          "data": {
            "text/plain": [
              "  Gender  ApplicantIncome  CoapplicantIncome  LoanAmount  Loan_Amount_Term  \\\n",
              "0      1             4583             1508.0       128.0             360.0   \n",
              "1      1             3000                0.0        66.0             360.0   \n",
              "2      1             2583             2358.0       120.0             360.0   \n",
              "3      1             6000                0.0       141.0             360.0   \n",
              "4      1             5417             4196.0       267.0             360.0   \n",
              "\n",
              "   Credit_History Loan_Status  Married_No  Married_Yes  Education_Graduate  \\\n",
              "0             1.0           0           0            1                   1   \n",
              "1             1.0           1           0            1                   1   \n",
              "2             1.0           1           0            1                   0   \n",
              "3             1.0           1           1            0                   1   \n",
              "4             1.0           1           0            1                   1   \n",
              "\n",
              "   Education_Not Graduate  Dependents_0  Dependents_1  Dependents_2  \\\n",
              "0                       0             0             1             0   \n",
              "1                       0             1             0             0   \n",
              "2                       1             1             0             0   \n",
              "3                       0             1             0             0   \n",
              "4                       0             0             0             1   \n",
              "\n",
              "   Dependents_3+  Self_Employed_No  Self_Employed_Yes  Property_Area_Rural  \\\n",
              "0              0                 1                  0                    1   \n",
              "1              0                 0                  1                    0   \n",
              "2              0                 1                  0                    0   \n",
              "3              0                 1                  0                    0   \n",
              "4              0                 0                  1                    0   \n",
              "\n",
              "   Property_Area_Semiurban  Property_Area_Urban  \n",
              "0                        0                    0  \n",
              "1                        0                    1  \n",
              "2                        0                    1  \n",
              "3                        0                    1  \n",
              "4                        0                    1  "
            ],
            "text/html": [
              "\n",
              "  <div id=\"df-3d41292c-72ca-4273-9155-e9c4eb79b0ca\">\n",
              "    <div class=\"colab-df-container\">\n",
              "      <div>\n",
              "<style scoped>\n",
              "    .dataframe tbody tr th:only-of-type {\n",
              "        vertical-align: middle;\n",
              "    }\n",
              "\n",
              "    .dataframe tbody tr th {\n",
              "        vertical-align: top;\n",
              "    }\n",
              "\n",
              "    .dataframe thead th {\n",
              "        text-align: right;\n",
              "    }\n",
              "</style>\n",
              "<table border=\"1\" class=\"dataframe\">\n",
              "  <thead>\n",
              "    <tr style=\"text-align: right;\">\n",
              "      <th></th>\n",
              "      <th>Gender</th>\n",
              "      <th>ApplicantIncome</th>\n",
              "      <th>CoapplicantIncome</th>\n",
              "      <th>LoanAmount</th>\n",
              "      <th>Loan_Amount_Term</th>\n",
              "      <th>Credit_History</th>\n",
              "      <th>Loan_Status</th>\n",
              "      <th>Married_No</th>\n",
              "      <th>Married_Yes</th>\n",
              "      <th>Education_Graduate</th>\n",
              "      <th>Education_Not Graduate</th>\n",
              "      <th>Dependents_0</th>\n",
              "      <th>Dependents_1</th>\n",
              "      <th>Dependents_2</th>\n",
              "      <th>Dependents_3+</th>\n",
              "      <th>Self_Employed_No</th>\n",
              "      <th>Self_Employed_Yes</th>\n",
              "      <th>Property_Area_Rural</th>\n",
              "      <th>Property_Area_Semiurban</th>\n",
              "      <th>Property_Area_Urban</th>\n",
              "    </tr>\n",
              "  </thead>\n",
              "  <tbody>\n",
              "    <tr>\n",
              "      <th>0</th>\n",
              "      <td>1</td>\n",
              "      <td>4583</td>\n",
              "      <td>1508.0</td>\n",
              "      <td>128.0</td>\n",
              "      <td>360.0</td>\n",
              "      <td>1.0</td>\n",
              "      <td>0</td>\n",
              "      <td>0</td>\n",
              "      <td>1</td>\n",
              "      <td>1</td>\n",
              "      <td>0</td>\n",
              "      <td>0</td>\n",
              "      <td>1</td>\n",
              "      <td>0</td>\n",
              "      <td>0</td>\n",
              "      <td>1</td>\n",
              "      <td>0</td>\n",
              "      <td>1</td>\n",
              "      <td>0</td>\n",
              "      <td>0</td>\n",
              "    </tr>\n",
              "    <tr>\n",
              "      <th>1</th>\n",
              "      <td>1</td>\n",
              "      <td>3000</td>\n",
              "      <td>0.0</td>\n",
              "      <td>66.0</td>\n",
              "      <td>360.0</td>\n",
              "      <td>1.0</td>\n",
              "      <td>1</td>\n",
              "      <td>0</td>\n",
              "      <td>1</td>\n",
              "      <td>1</td>\n",
              "      <td>0</td>\n",
              "      <td>1</td>\n",
              "      <td>0</td>\n",
              "      <td>0</td>\n",
              "      <td>0</td>\n",
              "      <td>0</td>\n",
              "      <td>1</td>\n",
              "      <td>0</td>\n",
              "      <td>0</td>\n",
              "      <td>1</td>\n",
              "    </tr>\n",
              "    <tr>\n",
              "      <th>2</th>\n",
              "      <td>1</td>\n",
              "      <td>2583</td>\n",
              "      <td>2358.0</td>\n",
              "      <td>120.0</td>\n",
              "      <td>360.0</td>\n",
              "      <td>1.0</td>\n",
              "      <td>1</td>\n",
              "      <td>0</td>\n",
              "      <td>1</td>\n",
              "      <td>0</td>\n",
              "      <td>1</td>\n",
              "      <td>1</td>\n",
              "      <td>0</td>\n",
              "      <td>0</td>\n",
              "      <td>0</td>\n",
              "      <td>1</td>\n",
              "      <td>0</td>\n",
              "      <td>0</td>\n",
              "      <td>0</td>\n",
              "      <td>1</td>\n",
              "    </tr>\n",
              "    <tr>\n",
              "      <th>3</th>\n",
              "      <td>1</td>\n",
              "      <td>6000</td>\n",
              "      <td>0.0</td>\n",
              "      <td>141.0</td>\n",
              "      <td>360.0</td>\n",
              "      <td>1.0</td>\n",
              "      <td>1</td>\n",
              "      <td>1</td>\n",
              "      <td>0</td>\n",
              "      <td>1</td>\n",
              "      <td>0</td>\n",
              "      <td>1</td>\n",
              "      <td>0</td>\n",
              "      <td>0</td>\n",
              "      <td>0</td>\n",
              "      <td>1</td>\n",
              "      <td>0</td>\n",
              "      <td>0</td>\n",
              "      <td>0</td>\n",
              "      <td>1</td>\n",
              "    </tr>\n",
              "    <tr>\n",
              "      <th>4</th>\n",
              "      <td>1</td>\n",
              "      <td>5417</td>\n",
              "      <td>4196.0</td>\n",
              "      <td>267.0</td>\n",
              "      <td>360.0</td>\n",
              "      <td>1.0</td>\n",
              "      <td>1</td>\n",
              "      <td>0</td>\n",
              "      <td>1</td>\n",
              "      <td>1</td>\n",
              "      <td>0</td>\n",
              "      <td>0</td>\n",
              "      <td>0</td>\n",
              "      <td>1</td>\n",
              "      <td>0</td>\n",
              "      <td>0</td>\n",
              "      <td>1</td>\n",
              "      <td>0</td>\n",
              "      <td>0</td>\n",
              "      <td>1</td>\n",
              "    </tr>\n",
              "  </tbody>\n",
              "</table>\n",
              "</div>\n",
              "      <button class=\"colab-df-convert\" onclick=\"convertToInteractive('df-3d41292c-72ca-4273-9155-e9c4eb79b0ca')\"\n",
              "              title=\"Convert this dataframe to an interactive table.\"\n",
              "              style=\"display:none;\">\n",
              "        \n",
              "  <svg xmlns=\"http://www.w3.org/2000/svg\" height=\"24px\"viewBox=\"0 0 24 24\"\n",
              "       width=\"24px\">\n",
              "    <path d=\"M0 0h24v24H0V0z\" fill=\"none\"/>\n",
              "    <path d=\"M18.56 5.44l.94 2.06.94-2.06 2.06-.94-2.06-.94-.94-2.06-.94 2.06-2.06.94zm-11 1L8.5 8.5l.94-2.06 2.06-.94-2.06-.94L8.5 2.5l-.94 2.06-2.06.94zm10 10l.94 2.06.94-2.06 2.06-.94-2.06-.94-.94-2.06-.94 2.06-2.06.94z\"/><path d=\"M17.41 7.96l-1.37-1.37c-.4-.4-.92-.59-1.43-.59-.52 0-1.04.2-1.43.59L10.3 9.45l-7.72 7.72c-.78.78-.78 2.05 0 2.83L4 21.41c.39.39.9.59 1.41.59.51 0 1.02-.2 1.41-.59l7.78-7.78 2.81-2.81c.8-.78.8-2.07 0-2.86zM5.41 20L4 18.59l7.72-7.72 1.47 1.35L5.41 20z\"/>\n",
              "  </svg>\n",
              "      </button>\n",
              "      \n",
              "  <style>\n",
              "    .colab-df-container {\n",
              "      display:flex;\n",
              "      flex-wrap:wrap;\n",
              "      gap: 12px;\n",
              "    }\n",
              "\n",
              "    .colab-df-convert {\n",
              "      background-color: #E8F0FE;\n",
              "      border: none;\n",
              "      border-radius: 50%;\n",
              "      cursor: pointer;\n",
              "      display: none;\n",
              "      fill: #1967D2;\n",
              "      height: 32px;\n",
              "      padding: 0 0 0 0;\n",
              "      width: 32px;\n",
              "    }\n",
              "\n",
              "    .colab-df-convert:hover {\n",
              "      background-color: #E2EBFA;\n",
              "      box-shadow: 0px 1px 2px rgba(60, 64, 67, 0.3), 0px 1px 3px 1px rgba(60, 64, 67, 0.15);\n",
              "      fill: #174EA6;\n",
              "    }\n",
              "\n",
              "    [theme=dark] .colab-df-convert {\n",
              "      background-color: #3B4455;\n",
              "      fill: #D2E3FC;\n",
              "    }\n",
              "\n",
              "    [theme=dark] .colab-df-convert:hover {\n",
              "      background-color: #434B5C;\n",
              "      box-shadow: 0px 1px 3px 1px rgba(0, 0, 0, 0.15);\n",
              "      filter: drop-shadow(0px 1px 2px rgba(0, 0, 0, 0.3));\n",
              "      fill: #FFFFFF;\n",
              "    }\n",
              "  </style>\n",
              "\n",
              "      <script>\n",
              "        const buttonEl =\n",
              "          document.querySelector('#df-3d41292c-72ca-4273-9155-e9c4eb79b0ca button.colab-df-convert');\n",
              "        buttonEl.style.display =\n",
              "          google.colab.kernel.accessAllowed ? 'block' : 'none';\n",
              "\n",
              "        async function convertToInteractive(key) {\n",
              "          const element = document.querySelector('#df-3d41292c-72ca-4273-9155-e9c4eb79b0ca');\n",
              "          const dataTable =\n",
              "            await google.colab.kernel.invokeFunction('convertToInteractive',\n",
              "                                                     [key], {});\n",
              "          if (!dataTable) return;\n",
              "\n",
              "          const docLinkHtml = 'Like what you see? Visit the ' +\n",
              "            '<a target=\"_blank\" href=https://colab.research.google.com/notebooks/data_table.ipynb>data table notebook</a>'\n",
              "            + ' to learn more about interactive tables.';\n",
              "          element.innerHTML = '';\n",
              "          dataTable['output_type'] = 'display_data';\n",
              "          await google.colab.output.renderOutput(dataTable, element);\n",
              "          const docLink = document.createElement('div');\n",
              "          docLink.innerHTML = docLinkHtml;\n",
              "          element.appendChild(docLink);\n",
              "        }\n",
              "      </script>\n",
              "    </div>\n",
              "  </div>\n",
              "  "
            ]
          },
          "metadata": {},
          "execution_count": 20
        }
      ]
    },
    {
      "cell_type": "markdown",
      "metadata": {
        "id": "zm0Vftob5h-i"
      },
      "source": [
        "**Split the dataframe into train and test test**"
      ]
    },
    {
      "cell_type": "markdown",
      "metadata": {
        "id": "7-afNyQlSjjR"
      },
      "source": [
        "We are now ready to split our dataframe into train and test set for our classification model (Logistic Regresion). 80% of the data will be used to train the logistic and regression model and the remaining 20% will be used as test set."
      ]
    },
    {
      "cell_type": "code",
      "metadata": {
        "id": "lytEUZLiUyxX"
      },
      "source": [
        "#Define the input variables \n",
        "X = df_final.drop('Loan_Status', axis=1)  \n",
        "#Define our target variable\n",
        "y =  df_final['Loan_Status']   \n",
        "#Split into train and test set                 \n",
        "X_train, X_test, y_train, y_test = train_test_split(X, y, test_size=0.2, random_state=0)"
      ],
      "execution_count": null,
      "outputs": []
    },
    {
      "cell_type": "markdown",
      "source": [
        "# **3. Quantify bias**"
      ],
      "metadata": {
        "id": "-8QH6A_-8a-f"
      }
    },
    {
      "cell_type": "markdown",
      "source": [
        "## **3.1 Your turn**"
      ],
      "metadata": {
        "id": "rpi5q5Bc_loA"
      }
    },
    {
      "cell_type": "markdown",
      "source": [
        "---\n",
        "\n",
        "How would you identify and quantify bias in dataset ?\n",
        "\n",
        "---\n",
        "\n"
      ],
      "metadata": {
        "id": "17YatXPB_UNs"
      }
    },
    {
      "cell_type": "markdown",
      "metadata": {
        "id": "wXTOhycQB8H0"
      },
      "source": [
        "# **3.2 Measure fairness (before applying a ML model)**"
      ]
    },
    {
      "cell_type": "markdown",
      "metadata": {
        "id": "H8EVIc_T5h-i"
      },
      "source": [
        "## 3.2.1 Metrics used to measure fairness"
      ]
    },
    {
      "cell_type": "markdown",
      "metadata": {
        "id": "TyozsZ8gRfzD"
      },
      "source": [
        "There are various metrics to measure the fairness of a dataset or of the output of a machine learning model.\n",
        "Two classical and intuitive ones are called \"Desperate Impact (DI)\" and \"Statistical Parity Difference (SDP)\".\n",
        "\n",
        "**Metrics :** \n",
        "\n",
        "* **Disparate  Impact (DI)** : \n",
        "\n",
        "\n",
        "The ratio of rate of favorable outcome (acceptance of loan) for the unprivileged group (women in our case) to that of the privileged group (men). \n",
        "\n",
        "This metric has to be equal to 1 to be perfectly fair. The disproportionate effect is considered as important when DI is less than 80-85%. \n",
        "\n",
        "Industry standard: if the unprivileged group receives a positive outcome less than 85% of their proportion of the privileged group, this is a disparate impact violation\n",
        "\n",
        "$$ DI = \\frac{Pr(Loan\\_Status=1|Gender=Female)}{Pr(Loan\\_Status=1|Gender=Male)}$$\n",
        "\n",
        "Disparate impact refers to discrimination that is unintentional. This is a more subtle form of discrimination since it is usually unintentional. It occurs when two groups are treated equally within a given set of organizational rules and procedures, but the rules and procedures confer advantages to one group over another, and at the same time are irrelevant for job or organizational performance.\n",
        "\n"
      ]
    },
    {
      "cell_type": "markdown",
      "metadata": {
        "id": "-AaGbHuYVD5r"
      },
      "source": [
        "Let's illustrate with an example."
      ]
    },
    {
      "cell_type": "markdown",
      "metadata": {
        "id": "ZEvpMGCuwLUa"
      },
      "source": [
        "\n",
        "\n",
        "---\n",
        "\n",
        "\n",
        "> Let **X** be a company that receives 300 applications for a Machine Learning internship position. Half of the applications are from male candidates and the other half female candidates. The company selects **75 women** and **120 men** from all applications. The question one may asks is : does this selection adversely impact female applicants ? \n",
        "\n",
        "> Selection rates for men and women are respectively $\\frac{120}{150}$ and $\\frac{75}{150}$ ( $80\\%$ for men and $50\\%$ for women). In our example, men have the highest selection rate. They're therefore what we called the *priviledged group*.\n",
        "<br/>\n",
        "\n",
        "> Let's now divide female selection rate by the male one which will give us the Desparate Impact. We find that $DI=62.5\\% \\lt 80\\%$ which means that there's an adverse impact on the female group.\n",
        "---\n",
        "\n",
        "\n",
        "\n"
      ]
    },
    {
      "cell_type": "markdown",
      "metadata": {
        "id": "Vg_bpvfFI8W0"
      },
      "source": [
        "* **Statistical Parity Difference (SPD)**:\n",
        "  \n",
        "  When SPD is close to 0, it is fair. \n",
        "\n",
        "$$SPD = Pr(Loan\\_Status=1|Gender=Female)−Pr(Loan\\_Status=1|Gender=Male)$$\n"
      ]
    },
    {
      "cell_type": "markdown",
      "metadata": {
        "id": "xUTovFeocJLs"
      },
      "source": [
        "> In the previous example, $SPD = \\frac{120}{150} - \\frac{75}{150} = 0.3 $ "
      ]
    },
    {
      "cell_type": "markdown",
      "metadata": {
        "id": "_VWTEnwq5h-k"
      },
      "source": [
        "## 3.2.2 Measure of fairness on test set\n",
        "\n",
        "In this section, we compute DI and SPD in order to check for the bias in the dataset."
      ]
    },
    {
      "cell_type": "code",
      "metadata": {
        "id": "6439aLeiuncZ"
      },
      "source": [
        "# copy of the test dataset\n",
        "test_fairness = X_test.copy()\n",
        "test_fairness['Target'] = y_test\n",
        "\n",
        "# Calculation of DI and SPD\n",
        "df_male = test_fairness[test_fairness['Gender'] == 1]\n",
        "male_count = len(df_male)\n",
        "df_female = test_fairness[test_fairness['Gender'] == 0]\n",
        "female_count = len(df_female)\n",
        "\n",
        "\n",
        "female_accepted_loans_count = len(df_female[df_female['Target'] == 1])\n",
        "female_ratio = female_accepted_loans_count/female_count\n",
        "\n",
        "\n",
        "male_accepted_loans_count = len(df_male[df_male['Target'] == 1])\n",
        "male_ratio = male_accepted_loans_count/male_count\n",
        "\n",
        "desperate_impact = female_ratio/male_ratio\n",
        "\n",
        "spd = female_ratio - male_ratio"
      ],
      "execution_count": null,
      "outputs": []
    },
    {
      "cell_type": "code",
      "metadata": {
        "id": "isptbQANyDns",
        "colab": {
          "base_uri": "https://localhost:8080/"
        },
        "outputId": "232501dc-774d-4ec4-90a4-fb60744b73f7"
      },
      "source": [
        "print(\"Female favorable outcome rate:\\t%.2f\" % female_ratio)\n",
        "print('------------------------------------')\n",
        "print(\"Male favorable outcome rate:\\t%.2f\" % male_ratio)\n",
        "print('------------------------------------')\n",
        "print(\"Desparate Impact value:\\t\\t%.2f\" % desperate_impact)\n",
        "print('------------------------------------')\n",
        "print(\"Statistical Parity Difference: %.2f\" % spd)\n"
      ],
      "execution_count": null,
      "outputs": [
        {
          "output_type": "stream",
          "name": "stdout",
          "text": [
            "Female favorable outcome rate:\t0.60\n",
            "------------------------------------\n",
            "Male favorable outcome rate:\t0.72\n",
            "------------------------------------\n",
            "Desparate Impact value:\t\t0.83\n",
            "------------------------------------\n",
            "Statistical Parity Difference: -0.12\n"
          ]
        }
      ]
    },
    {
      "cell_type": "markdown",
      "metadata": {
        "id": "WuDbXbLdzNIg"
      },
      "source": [
        "Since disparate impact is equal to 0.83, it may not be considered that there is a significant \"adverse impact\". However, the metrics can lead us into  believing that this small adversial impact can be worsen by a ML model."
      ]
    },
    {
      "cell_type": "markdown",
      "metadata": {
        "id": "JggUuN_fz98S"
      },
      "source": [
        "# 4. Apply a simple machine learning model : Logistic Regression\n",
        "The purpose of the ML model is to make a binary classification - predict either a loan will be accepted or rejected - given the explicative variables. "
      ]
    },
    {
      "cell_type": "markdown",
      "metadata": {
        "id": "y2Q5FGm0LVzC"
      },
      "source": [
        "## 4.1 Simple explanations about logistic regression\n",
        "\n",
        "Logistic Regression is a classification algorithm that assigns observations to a set of classes. Here, we have two classes: accepted and rejected loan.<br>\n",
        "\n",
        "As its name suggests, logistic regression is based on the regression of a logistic function (or sigmoid function). This function has the particularity to map every real value into another value between 0 and 1. After having computed the regression coefficients of a such function thanks to train data, the output of this function can be seen as a probability of belonging to class \"Accepted\".<br>\n",
        "\n",
        "<img src=\"https://miro.medium.com/max/1094/1*JHWL_71qml0kP_Imyx4zBg.png\" align=\"center\" alt=\"sigmoid function\" width=\"350\"/><br>\n",
        "\n",
        "To assign each predicted probability from the logistic function to a class, we define a threshold of 0.5. If a predicted probability >= 0.5, then an observation is assigned to class \"Accepted\" and to class \"Rejected\" otherwise.<br>\n",
        "\n",
        "If you want to have more detailed explanations about regression, see this page:\n",
        "https://ml-cheatsheet.readthedocs.io/en/latest/logistic_regression.html#binary-logistic-regression"
      ]
    },
    {
      "cell_type": "markdown",
      "metadata": {
        "id": "stOcztvc5h-m"
      },
      "source": [
        "## 4.2 Apply a logistic regression model"
      ]
    },
    {
      "cell_type": "markdown",
      "metadata": {
        "id": "rs9wFgSe5h-m"
      },
      "source": [
        "**Import the logistic model from sklearn library**"
      ]
    },
    {
      "cell_type": "code",
      "metadata": {
        "id": "TSHOMATx53rh"
      },
      "source": [
        "# import the relevant library from sklearn (https://scikit-learn.org/)\n",
        "from sklearn import linear_model as lm"
      ],
      "execution_count": null,
      "outputs": []
    },
    {
      "cell_type": "markdown",
      "metadata": {
        "id": "gMFdjLpw5h-m"
      },
      "source": [
        "**Instanciate and train the model**"
      ]
    },
    {
      "cell_type": "code",
      "metadata": {
        "id": "WUPi0NOpptiT",
        "colab": {
          "base_uri": "https://localhost:8080/"
        },
        "outputId": "4f543db5-1735-4c76-d849-37a73e0449dd"
      },
      "source": [
        "# instantiate the logistic regression model\n",
        "logistic_R = lm.LogisticRegression(solver='liblinear', class_weight='balanced')\n",
        "\n",
        "# Train the model\n",
        "logistic_R.fit(X_train, y_train.to_list())"
      ],
      "execution_count": null,
      "outputs": [
        {
          "output_type": "execute_result",
          "data": {
            "text/plain": [
              "LogisticRegression(class_weight='balanced', solver='liblinear')"
            ]
          },
          "metadata": {},
          "execution_count": 25
        }
      ]
    },
    {
      "cell_type": "markdown",
      "metadata": {
        "id": "tWPLEs315h-n"
      },
      "source": [
        "**Make predictions**"
      ]
    },
    {
      "cell_type": "code",
      "metadata": {
        "id": "unEGCRec5EME"
      },
      "source": [
        "# Make predictions on the test dataset.\n",
        "# Then, we will evaluate the model by comparing the predictions of a the logistic regression model to the real target values of the test set.\n",
        "logistic_pred = logistic_R.predict(X_test)"
      ],
      "execution_count": null,
      "outputs": []
    },
    {
      "cell_type": "code",
      "metadata": {
        "colab": {
          "base_uri": "https://localhost:8080/"
        },
        "id": "jVU7Fla1-gUZ",
        "outputId": "302e9b38-6c8a-434e-cfa2-42262c30b822"
      },
      "source": [
        "logistic_pred"
      ],
      "execution_count": null,
      "outputs": [
        {
          "output_type": "execute_result",
          "data": {
            "text/plain": [
              "array([1, 1, 0, 0, 1, 0, 1, 1, 1, 0, 1, 1, 1, 1, 1, 1, 1, 0, 1, 1, 1, 0,\n",
              "       0, 1, 1, 1, 1, 1, 1, 0, 1, 1, 0, 1, 1, 1, 0, 1, 0, 1, 1, 1, 1, 1,\n",
              "       1, 0, 1, 1, 1, 1, 0, 1, 1, 0, 1, 1, 1, 1, 1, 0, 1, 1, 1, 1, 0, 1,\n",
              "       1, 0, 1, 1, 1, 1, 0, 1, 0, 0, 0, 0, 1, 1, 1, 1, 1, 0, 1, 0, 1, 0,\n",
              "       0, 1, 0, 1, 1, 0, 1, 0, 0, 1, 1, 1, 1, 0, 1, 1, 1, 1, 0, 0, 0, 1,\n",
              "       1, 1, 0, 1, 0, 0, 1, 1, 1, 1, 1, 0, 1, 1, 1, 0, 1, 1, 1, 0, 1, 0,\n",
              "       1, 1, 1, 1, 1, 1, 1, 0, 1, 0, 0, 1, 1, 0, 0, 0, 1, 1, 0, 0, 0, 1])"
            ]
          },
          "metadata": {},
          "execution_count": 27
        }
      ]
    },
    {
      "cell_type": "markdown",
      "metadata": {
        "id": "LbLhueQr5h-n"
      },
      "source": [
        "## 4.3 Evaluate results"
      ]
    },
    {
      "cell_type": "markdown",
      "metadata": {
        "id": "YhUEzHEi7v7W"
      },
      "source": [
        "In this section, we will compute classification metrics to assess the performance of our model. The metrics to be computed are:"
      ]
    },
    {
      "cell_type": "markdown",
      "metadata": {
        "id": "UZl9AlYc06_n"
      },
      "source": [
        "<div>\n",
        "  \\begin{array}{|c|c|c|c|}\\hline \\\\ \\\\\n",
        "  \\mathcal{Metric} & \\mathcal{Formula} & \\mathcal{Interpretation} \\\\ \\hline\\\\ \\\\\n",
        "  Specifity & \\frac{TN}{TN+FP} & Coverage\\;of\\;actual\\;negative\\;sample \\\\ \\hline\\\\ \\\\\n",
        "  Precision & \\frac{TP}{TP+FP} & Coverage\\;of\\;actual\\;positive\\;sample \\\\ \\hline\\\\ \\\\\n",
        "  Recall & \\frac{TP}{TP+FN} & Describes\\;how\\;accurate\\;the\\;positives\\;predictions\\;are \\\\ \\hline\\\\ \\\\\n",
        "  F1\\; score & \\frac{2\\;*\\;precision\\;*\\;recall}{precision+recall} &  Combines\\;recall\\;and\\;precision\\;(weihgted\\;average\\;of\\;these\\;two\\;metrics) \\\\\\hline \\\\\n",
        "  False\\;Positive\\;Rate\\; (FPR) & \\frac{FP}{TN+FP} &Proportion\\;of\\;the\\;individuals\\;with\\;a\\;known\\;negative\\;condition\\;for\\;which\\;the\\;test\\;result\\;is\\;positive.   \\\\\\hline \\\\\n",
        "  False\\;Negative\\;Rate\\; (FNR) & \\frac{FN}{TP+FN} & Proportion\\;of\\;the\\;individuals\\;with\\;a\\;known\\;positive\\;condition\\;for\\;which\\;the\\;test\\;result\\;is\\;negative.  \\\\\\hline\n",
        "  \\end{array}\n",
        "</div>\n",
        "<br/>\n",
        "Where \n",
        "\n",
        "* TP : True Positives - the model correctly predicts the positive class (+1)\n",
        "* FP : False Positives - Actual loan status is \"*Yes*\", model predics \"*No*\"\n",
        "* TN : True Negatives - the model correctly predicts the negative class (0)\n",
        "* FP : False Negatives - Actual loan status is \"*No*\", model predics \"*Yes*\""
      ]
    },
    {
      "cell_type": "code",
      "metadata": {
        "id": "tbLM2-NT1XCN"
      },
      "source": [
        "def compute_confusion_matrix(observed, fitted):\n",
        "  \"\"\"Compute confusion matrix, given observed and fitted values\"\"\"\n",
        "  actual_labels = np.array(observed).reshape(1,-1)[0]\n",
        "  c_matrix = pd.crosstab(actual_labels, fitted).reset_index(drop=True)\n",
        "  return c_matrix"
      ],
      "execution_count": null,
      "outputs": []
    },
    {
      "cell_type": "code",
      "metadata": {
        "id": "02eRQL48yqQf",
        "colab": {
          "base_uri": "https://localhost:8080/",
          "height": 112
        },
        "outputId": "a7b180ad-46ae-4058-8f7d-e33d846e9d6a"
      },
      "source": [
        "#Test your function\n",
        "c_matrix = compute_confusion_matrix(y_test, logistic_pred)\n",
        "c_matrix"
      ],
      "execution_count": null,
      "outputs": [
        {
          "output_type": "execute_result",
          "data": {
            "text/plain": [
              "col_0   0   1\n",
              "0      34  13\n",
              "1      16  91"
            ],
            "text/html": [
              "\n",
              "  <div id=\"df-c63e8d0d-fee8-4d15-a7b6-b824ec5f6b60\">\n",
              "    <div class=\"colab-df-container\">\n",
              "      <div>\n",
              "<style scoped>\n",
              "    .dataframe tbody tr th:only-of-type {\n",
              "        vertical-align: middle;\n",
              "    }\n",
              "\n",
              "    .dataframe tbody tr th {\n",
              "        vertical-align: top;\n",
              "    }\n",
              "\n",
              "    .dataframe thead th {\n",
              "        text-align: right;\n",
              "    }\n",
              "</style>\n",
              "<table border=\"1\" class=\"dataframe\">\n",
              "  <thead>\n",
              "    <tr style=\"text-align: right;\">\n",
              "      <th>col_0</th>\n",
              "      <th>0</th>\n",
              "      <th>1</th>\n",
              "    </tr>\n",
              "  </thead>\n",
              "  <tbody>\n",
              "    <tr>\n",
              "      <th>0</th>\n",
              "      <td>34</td>\n",
              "      <td>13</td>\n",
              "    </tr>\n",
              "    <tr>\n",
              "      <th>1</th>\n",
              "      <td>16</td>\n",
              "      <td>91</td>\n",
              "    </tr>\n",
              "  </tbody>\n",
              "</table>\n",
              "</div>\n",
              "      <button class=\"colab-df-convert\" onclick=\"convertToInteractive('df-c63e8d0d-fee8-4d15-a7b6-b824ec5f6b60')\"\n",
              "              title=\"Convert this dataframe to an interactive table.\"\n",
              "              style=\"display:none;\">\n",
              "        \n",
              "  <svg xmlns=\"http://www.w3.org/2000/svg\" height=\"24px\"viewBox=\"0 0 24 24\"\n",
              "       width=\"24px\">\n",
              "    <path d=\"M0 0h24v24H0V0z\" fill=\"none\"/>\n",
              "    <path d=\"M18.56 5.44l.94 2.06.94-2.06 2.06-.94-2.06-.94-.94-2.06-.94 2.06-2.06.94zm-11 1L8.5 8.5l.94-2.06 2.06-.94-2.06-.94L8.5 2.5l-.94 2.06-2.06.94zm10 10l.94 2.06.94-2.06 2.06-.94-2.06-.94-.94-2.06-.94 2.06-2.06.94z\"/><path d=\"M17.41 7.96l-1.37-1.37c-.4-.4-.92-.59-1.43-.59-.52 0-1.04.2-1.43.59L10.3 9.45l-7.72 7.72c-.78.78-.78 2.05 0 2.83L4 21.41c.39.39.9.59 1.41.59.51 0 1.02-.2 1.41-.59l7.78-7.78 2.81-2.81c.8-.78.8-2.07 0-2.86zM5.41 20L4 18.59l7.72-7.72 1.47 1.35L5.41 20z\"/>\n",
              "  </svg>\n",
              "      </button>\n",
              "      \n",
              "  <style>\n",
              "    .colab-df-container {\n",
              "      display:flex;\n",
              "      flex-wrap:wrap;\n",
              "      gap: 12px;\n",
              "    }\n",
              "\n",
              "    .colab-df-convert {\n",
              "      background-color: #E8F0FE;\n",
              "      border: none;\n",
              "      border-radius: 50%;\n",
              "      cursor: pointer;\n",
              "      display: none;\n",
              "      fill: #1967D2;\n",
              "      height: 32px;\n",
              "      padding: 0 0 0 0;\n",
              "      width: 32px;\n",
              "    }\n",
              "\n",
              "    .colab-df-convert:hover {\n",
              "      background-color: #E2EBFA;\n",
              "      box-shadow: 0px 1px 2px rgba(60, 64, 67, 0.3), 0px 1px 3px 1px rgba(60, 64, 67, 0.15);\n",
              "      fill: #174EA6;\n",
              "    }\n",
              "\n",
              "    [theme=dark] .colab-df-convert {\n",
              "      background-color: #3B4455;\n",
              "      fill: #D2E3FC;\n",
              "    }\n",
              "\n",
              "    [theme=dark] .colab-df-convert:hover {\n",
              "      background-color: #434B5C;\n",
              "      box-shadow: 0px 1px 3px 1px rgba(0, 0, 0, 0.15);\n",
              "      filter: drop-shadow(0px 1px 2px rgba(0, 0, 0, 0.3));\n",
              "      fill: #FFFFFF;\n",
              "    }\n",
              "  </style>\n",
              "\n",
              "      <script>\n",
              "        const buttonEl =\n",
              "          document.querySelector('#df-c63e8d0d-fee8-4d15-a7b6-b824ec5f6b60 button.colab-df-convert');\n",
              "        buttonEl.style.display =\n",
              "          google.colab.kernel.accessAllowed ? 'block' : 'none';\n",
              "\n",
              "        async function convertToInteractive(key) {\n",
              "          const element = document.querySelector('#df-c63e8d0d-fee8-4d15-a7b6-b824ec5f6b60');\n",
              "          const dataTable =\n",
              "            await google.colab.kernel.invokeFunction('convertToInteractive',\n",
              "                                                     [key], {});\n",
              "          if (!dataTable) return;\n",
              "\n",
              "          const docLinkHtml = 'Like what you see? Visit the ' +\n",
              "            '<a target=\"_blank\" href=https://colab.research.google.com/notebooks/data_table.ipynb>data table notebook</a>'\n",
              "            + ' to learn more about interactive tables.';\n",
              "          element.innerHTML = '';\n",
              "          dataTable['output_type'] = 'display_data';\n",
              "          await google.colab.output.renderOutput(dataTable, element);\n",
              "          const docLink = document.createElement('div');\n",
              "          docLink.innerHTML = docLinkHtml;\n",
              "          element.appendChild(docLink);\n",
              "        }\n",
              "      </script>\n",
              "    </div>\n",
              "  </div>\n",
              "  "
            ]
          },
          "metadata": {},
          "execution_count": 30
        }
      ]
    },
    {
      "cell_type": "markdown",
      "metadata": {
        "id": "OuyzeK621ptR"
      },
      "source": [
        "Expected output:\n",
        "```*python*\n",
        "col_0   0    1\n",
        "0      34   13\n",
        "1      16   91\n",
        "```"
      ]
    },
    {
      "cell_type": "markdown",
      "metadata": {
        "id": "MRpkXP2F13gP"
      },
      "source": [
        "<details>    \n",
        "<summary>\n",
        "    <font size=\"3\" color=\"darkgreen\"><b>Hints</b></font>\n",
        "</summary>\n",
        "<p>\n",
        "<ul>\n",
        "<li>Use the the formula to compute each metric</li>\n",
        "<li>Use the confusion matrix computed previously to get the tn, fp, fn and tp values. This can be done by applying \".ravel()\" to an array which returns a list containing the confusion matrix values</li>\n",
        "</ul>\n",
        "</p>"
      ]
    },
    {
      "cell_type": "code",
      "metadata": {
        "id": "pAF4eD3q1501"
      },
      "source": [
        "\n",
        "def compute_precision(observed, fitted):\n",
        "    \"\"\"Compute precision, given observed and fitted values\"\"\"\n",
        "    #Compute confusion matrix using above function and get the tn ,tp, fp and fn values\n",
        "    tn, fp, fn, tp = np.array(compute_confusion_matrix(observed, fitted)).ravel()\n",
        "    return tp/(tp+fp)\n",
        "\n",
        "def compute_specificity(observed, fitted):\n",
        "    \"\"\"Compute precision, given observed and fitted values\"\"\"\n",
        "    tn, fp, fn, tp = np.array(compute_confusion_matrix(observed, fitted)).ravel()\n",
        "    return tn/(tn+fp)\n",
        "\n",
        "def compute_recall(observed, fitted):\n",
        "    \"\"\"Compute recall, given observed and fitted values\"\"\"\n",
        "    tn, fp, fn, tp = np.array(compute_confusion_matrix(observed, fitted)).ravel()\n",
        "    return tp/(tp+fn)\n",
        "\n",
        "def compute_f1_score(observed, fitted):\n",
        "    \"\"\"Compute F1-score, given observed and fitted values\"\"\"\n",
        "    recall = compute_recall(observed, fitted)\n",
        "    precision = compute_precision(observed, fitted)\n",
        "    return 2*precision*recall/(precision + recall)\n",
        "\n",
        "def compute_fnr_fpr(observed, fitted):\n",
        "    \"\"\"Compute false positive and negative rate, given observed and fitted values\"\"\"\n",
        "    tn, fp, fn, tp = np.array(compute_confusion_matrix(observed, fitted)).ravel()\n",
        "    false_positive_rate =  fp/(tn+fp)\n",
        "    false_negative_rate = fn/(tp+fn)\n",
        "    return false_negative_rate, false_positive_rate"
      ],
      "execution_count": null,
      "outputs": []
    },
    {
      "cell_type": "code",
      "metadata": {
        "id": "iAPAbVN91-JR",
        "colab": {
          "base_uri": "https://localhost:8080/"
        },
        "outputId": "31eca3cb-38fe-4885-c183-8f4aa32a54b6"
      },
      "source": [
        "print(\"Specificity:\\t\\t\\t%.2f\" % compute_specificity(y_test, logistic_pred))\n",
        "print(\"Precision:\\t\\t\\t%.2f\" % compute_precision(y_test, logistic_pred))\n",
        "print(\"Recall:\\t\\t\\t\\t%.2f\" % compute_recall(y_test, logistic_pred))\n",
        "print(\"F1-score:\\t\\t\\t%.2f\" % compute_f1_score(y_test, logistic_pred))\n",
        "print(\"False Negative Rate:\\t\\t%.2f\" % compute_fnr_fpr(y_test, logistic_pred)[0])\n",
        "print(\"False Positive Rate:\\t\\t%.2f\" % compute_fnr_fpr(y_test, logistic_pred)[1])"
      ],
      "execution_count": null,
      "outputs": [
        {
          "output_type": "stream",
          "name": "stdout",
          "text": [
            "Specificity:\t\t\t0.72\n",
            "Precision:\t\t\t0.88\n",
            "Recall:\t\t\t\t0.85\n",
            "F1-score:\t\t\t0.86\n",
            "False Negative Rate:\t\t0.15\n",
            "False Positive Rate:\t\t0.28\n"
          ]
        }
      ]
    },
    {
      "cell_type": "markdown",
      "metadata": {
        "id": "T5d4_2YK2FGO"
      },
      "source": [
        "Expected output:\n",
        "```python\n",
        "Specifity:\t0.72\n",
        "Precision:\t0.88\n",
        "Recall:\t   0.85\n",
        "F1-score:\t 0.86\n",
        "FNR :         0.15\n",
        "FPR :         0.28\n",
        "```"
      ]
    },
    {
      "cell_type": "markdown",
      "metadata": {
        "id": "sqit1p3F9RIc"
      },
      "source": [
        "In the following cell, we will compute the accuracy for each label"
      ]
    },
    {
      "cell_type": "code",
      "metadata": {
        "id": "IloEKlfe8Ibj",
        "colab": {
          "base_uri": "https://localhost:8080/"
        },
        "outputId": "13e7e14e-8434-4291-f7d0-027a5930d5b6"
      },
      "source": [
        "actual_label, actual_label_count = np.unique(y_test.to_list(), return_counts=True)\n",
        "data_dict = dict(zip(actual_label, actual_label_count))\n",
        "\n",
        "print('Actual labels: ', dict(zip(actual_label, actual_label_count)))\n",
        "print(' ')\n",
        "get_confusion_matrix  = metrics.confusion_matrix(y_test.to_list(), logistic_pred)\n",
        "\n",
        "predicted_labels, predicted_label_counts = np.unique(logistic_pred, return_counts=True)\n",
        "print('Predicted labels: ', dict(zip(predicted_labels, predicted_label_counts)))\n",
        "print(' ')\n",
        "\n",
        "for i in range(len(predicted_labels)):\n",
        "    print('Label {0} accuracy: {1:0.1f}%'.format(i, 100 * get_confusion_matrix[i,i]/actual_label_count[i]))"
      ],
      "execution_count": null,
      "outputs": [
        {
          "output_type": "stream",
          "name": "stdout",
          "text": [
            "Actual labels:  {0: 47, 1: 107}\n",
            " \n",
            "Predicted labels:  {0: 50, 1: 104}\n",
            " \n",
            "Label 0 accuracy: 72.3%\n",
            "Label 1 accuracy: 85.0%\n"
          ]
        }
      ]
    },
    {
      "cell_type": "markdown",
      "metadata": {
        "id": "e1luZ_ed9MVr"
      },
      "source": [
        "# 5. Measure fairness on the predictions made by the ML model"
      ]
    },
    {
      "cell_type": "code",
      "metadata": {
        "id": "XxsnQ7rF8h3g"
      },
      "source": [
        "metrics_df = X_test.copy()\n",
        "metrics_df['Predicted'] = logistic_pred\n",
        "metrics_df['Label'] = y_test.copy()\n",
        "\n",
        "df_male_pred = metrics_df[metrics_df['Gender'] == 1]\n",
        "male_count_pred = len(df_male_pred)\n",
        "df_female_pred = metrics_df[metrics_df['Gender'] == 0]\n",
        "female_count_pred = len(df_female_pred)\n",
        "\n",
        "\n",
        "female_accepted_loans_count_pred = len(df_female_pred[df_female_pred['Predicted'] == 1])\n",
        "female_ratio_pred = female_accepted_loans_count_pred/female_count_pred\n",
        "\n",
        "\n",
        "male_accepted_loans_count_pred = len(df_male_pred[df_male_pred['Predicted'] == 1])\n",
        "male_ratio_pred = male_accepted_loans_count_pred/male_count_pred\n",
        "\n",
        "desperate_impact_pred = female_ratio_pred/male_ratio_pred\n",
        "\n",
        "spd_pred = female_ratio_pred - male_ratio_pred\n",
        "\n",
        "# False positive and negative rates within each group\n",
        "tn_male, fp_male, fn_male, tp_male   = metrics.confusion_matrix(df_male_pred['Label'].to_list(), \n",
        "                                                      df_male_pred['Predicted'].to_list()).ravel()\n",
        "tn_female, fp_female, fn_female, tp_female  = metrics.confusion_matrix(df_female_pred['Label'].to_list(), \n",
        "                                                        df_female_pred['Predicted'].to_list()).ravel()\n",
        "\n",
        "## false positive rate\n",
        "fpr_male = round(fp_male/(fp_male + tn_male),3)\n",
        "fpr_female = round(fp_female/(fp_female + tn_female),3)\n",
        "\n",
        "## false negative rate\n",
        "fnr_male = round(fn_male/(fn_male + tp_male),3)\n",
        "fnr_female = round(fn_female/(fn_female + tp_female),3)"
      ],
      "execution_count": null,
      "outputs": []
    },
    {
      "cell_type": "code",
      "metadata": {
        "id": "HpreUxS2-XL9",
        "colab": {
          "base_uri": "https://localhost:8080/"
        },
        "outputId": "70933092-f5eb-4c4a-e2c1-ac79ed85c72b"
      },
      "source": [
        "\n",
        "print(\"Female favorable outcome rate:\\t%.2f\" % female_ratio_pred)\n",
        "print('------------------------------------')\n",
        "print(\"Male favorable outcome rate:\\t%.2f\" % male_ratio_pred)\n",
        "print('------------------------------------')\n",
        "print(\"Desparate Impact value:\\t\\t%.2f\" % desperate_impact_pred)\n",
        "print('------------------------------------')\n",
        "print(\"Statistical Parity Difference: %.2f\" %spd_pred)\n",
        "print('------------------------------------')\n",
        "print('------------------------------------')\n",
        "print(\"False Positive Rate \\n \\t within male group: \\t%.2f\" %fpr_male)\n",
        "print('------------------------------------')\n",
        "print(\"False Positive Rate \\n \\t within female group:  \\t%.2f\" %fpr_female)\n",
        "print('------------------------------------')\n",
        "print(\"False Negative Rate \\n \\t within male group:  \\t%.2f\" %fnr_male)\n",
        "print('------------------------------------')\n",
        "print(\"False Negative Rate \\n \\t within female group:  \\t%.2f\" %fnr_female)"
      ],
      "execution_count": null,
      "outputs": [
        {
          "output_type": "stream",
          "name": "stdout",
          "text": [
            "Female favorable outcome rate:\t0.49\n",
            "------------------------------------\n",
            "Male favorable outcome rate:\t0.73\n",
            "------------------------------------\n",
            "Desparate Impact value:\t\t0.66\n",
            "------------------------------------\n",
            "Statistical Parity Difference: -0.25\n",
            "------------------------------------\n",
            "------------------------------------\n",
            "False Positive Rate \n",
            " \t within male group: \t0.30\n",
            "------------------------------------\n",
            "False Positive Rate \n",
            " \t within female group:  \t0.21\n",
            "------------------------------------\n",
            "False Negative Rate \n",
            " \t within male group:  \t0.10\n",
            "------------------------------------\n",
            "False Negative Rate \n",
            " \t within female group:  \t0.33\n"
          ]
        }
      ]
    },
    {
      "cell_type": "markdown",
      "metadata": {
        "id": "dBuU35OmUTcE"
      },
      "source": [
        "Previously, when we evaluated the bias of the dataset, we observed a slight bias that was not having an \"adverse impact\" on the female group (DI = 0.83).\n",
        "\n",
        "However, after applying the logistic regression, the gender bias has increased and it now becomes \"disproportionate\" given DI < 0.8.\n",
        "\n",
        "Additionally, it is also interesting to notice that the bias can be observed through computing false positive rates and false negative rates within each group. Here, it appears that the false positive rates are in favor of males and the false negative rates are against females. "
      ]
    },
    {
      "cell_type": "markdown",
      "metadata": {
        "id": "Kn9OGrdMWtSq"
      },
      "source": [
        "## 6. Impacts of swapping gender attributes on loan eligibility"
      ]
    },
    {
      "cell_type": "code",
      "metadata": {
        "id": "8_x_JCAZWszT"
      },
      "source": [
        "def switch_gender_and_analyze(X_test, ml_model, original_gender=0):\n",
        "    \"\"\"\n",
        "    Returns the number of loans accepted before and after switching the gender attribute\n",
        "    \n",
        "    Parameters:\n",
        "    ----------\n",
        "    X_test : pd.DataFrame\n",
        "        Test set without labels\n",
        "    \n",
        "    ml_model : sklearn model object\n",
        "        Sklearn model object already trained\n",
        "        \n",
        "    original_gender : boolean\n",
        "        Gender attribute to analyze. 1 corresponds to male, 0 to female.\n",
        "    \n",
        "    Returns:\n",
        "    --------\n",
        "    integer, integer\n",
        "    Two numbers :\n",
        "        1. The number of accepted loans before switching gender attribute\n",
        "        2. The number of accepted loans after switching gender attribute\n",
        "    \n",
        "    \"\"\"\n",
        "    \n",
        "    X_test_switching_gender = X_test.copy()\n",
        "    X_test_switching_gender = X_test_switching_gender[X_test_switching_gender['Gender']==original_gender]\n",
        "    X_test_switching_gender['Gender'] = X_test_switching_gender['Gender'].apply(lambda x: 1-x)\n",
        "    logistic_pred_switching_gender = ml_model.predict(X_test_switching_gender) \n",
        "    logistic_pred_before_switching_gender = ml_model.predict(X_test[X_test['Gender']==original_gender].copy())\n",
        "    \n",
        "    return logistic_pred_before_switching_gender.sum(), logistic_pred_switching_gender.sum()"
      ],
      "execution_count": null,
      "outputs": []
    },
    {
      "cell_type": "code",
      "metadata": {
        "id": "5PWWhDnkWxdJ"
      },
      "source": [
        "logistic_pred_before_switching_from_female, logistic_pred_after_switching_from_female = switch_gender_and_analyze(X_test,\n",
        "                                                                                                      logistic_R,\n",
        "                                                                                                      original_gender=0)\n",
        "\n",
        "logistic_pred_before_switching_from_male, logistic_pred_after_switching_from_male = switch_gender_and_analyze(X_test,\n",
        "                                                                                                      logistic_R,\n",
        "                                                                                                      original_gender=1)"
      ],
      "execution_count": null,
      "outputs": []
    },
    {
      "cell_type": "code",
      "metadata": {
        "id": "nNNFxUexWzkT",
        "colab": {
          "base_uri": "https://localhost:8080/"
        },
        "outputId": "1214ec37-5443-4b0d-a4cb-102f7f1a5510"
      },
      "source": [
        "print('------------------------------------')\n",
        "print('Before switching to female, number of accepted loans among males of test set:\\t{}'.\\\n",
        "      format(logistic_pred_before_switching_from_male))\n",
        "print('After switching to female, number of accepted loans among males of test set:\\t{}'.\\\n",
        "      format(logistic_pred_after_switching_from_male))\n",
        "print('Variation :\\t{}'.\\\n",
        "      format(logistic_pred_after_switching_from_male - logistic_pred_before_switching_from_male))\n",
        "print('------------------------------------')\n",
        "print('Before switching to male, number of accepted loans among females of test set:\\t{}'.\\\n",
        "      format(logistic_pred_before_switching_from_female))\n",
        "print('After switching to male, number of accepted loans among females of test set:\\t{}'.\\\n",
        "      format(logistic_pred_after_switching_from_female))\n",
        "print('Variation :\\t{}'.\\\n",
        "      format(logistic_pred_after_switching_from_female - logistic_pred_before_switching_from_female))"
      ],
      "execution_count": null,
      "outputs": [
        {
          "output_type": "stream",
          "name": "stdout",
          "text": [
            "------------------------------------\n",
            "Before switching to female, number of accepted loans among males of test set:\t87\n",
            "After switching to female, number of accepted loans among males of test set:\t84\n",
            "Variation :\t-3\n",
            "------------------------------------\n",
            "Before switching to male, number of accepted loans among females of test set:\t17\n",
            "After switching to male, number of accepted loans among females of test set:\t19\n",
            "Variation :\t2\n"
          ]
        }
      ]
    },
    {
      "cell_type": "markdown",
      "metadata": {
        "id": "aau9ZB_yW8H8"
      },
      "source": [
        "This experiment shows that *the model favors males to the detriment of females* :  switching male attributes to females decreases the number of accepted loans by 3 and swapping female attributes to males increases this number by 2."
      ]
    },
    {
      "cell_type": "markdown",
      "source": [
        "# **7. Mitigating bias**"
      ],
      "metadata": {
        "id": "hPbJT2muBbaJ"
      }
    },
    {
      "cell_type": "markdown",
      "source": [
        "## 7.1 Your solution"
      ],
      "metadata": {
        "id": "tJo5Ud0ZBpac"
      }
    },
    {
      "cell_type": "markdown",
      "source": [
        "---\n",
        "\n",
        "How would you mitigate the model bias ?\n",
        "\n",
        "---"
      ],
      "metadata": {
        "id": "hYyx6k3pBuoI"
      }
    },
    {
      "cell_type": "markdown",
      "metadata": {
        "id": "zYhSGk43qFTw"
      },
      "source": [
        "# 7.2 Bias Mitigation with MICROSOFT AI FAIRNESS\n",
        "\n",
        "\n",
        "To fix the bias regarding gender, we are going to use IBM AIF360. This module provide us with 3 types of algorithm to mitigate bias. \n",
        "\n",
        "* Pre-processing algorithms : they are used before training the model\n",
        "* In-processing algorithms : they are fair classifiers so it's during the training\n",
        "* Post-processing algorithms : they are used after training the model\n",
        "\n",
        "<br/>\n",
        "\n"
      ]
    },
    {
      "cell_type": "markdown",
      "source": [
        "Let us focus on the fist category. We will use Reweighting and Disparate Impact Remover (DIR)."
      ],
      "metadata": {
        "id": "yLW1MOlxD6gH"
      }
    },
    {
      "cell_type": "markdown",
      "source": [
        "## Reweighting"
      ],
      "metadata": {
        "id": "eMvCo3ll5GDs"
      }
    },
    {
      "cell_type": "markdown",
      "source": [
        "Reweighing is a data preprocessing technique that recommends generating weights for the training examples in each (group, label) combination differently to ensure fairness before classification. \n",
        "\n",
        "The idea is to apply appropriate weights to different tuples in the training dataset to make the training dataset discrimination free with respect to the sensitive attributes."
      ],
      "metadata": {
        "id": "EbqXwpuE6oXf"
      }
    },
    {
      "cell_type": "code",
      "source": [
        "unprivileged_groups = [{'Gender': 0}]\n",
        "privileged_groups = [{'Gender': 1}]"
      ],
      "metadata": {
        "id": "Xao3yu2u-AxB"
      },
      "execution_count": null,
      "outputs": []
    },
    {
      "cell_type": "code",
      "source": [
        "privileged_groups_params = dict(\n",
        "    privileged_groups=unprivileged_groups,\n",
        "    unprivileged_groups=privileged_groups)\n",
        "\n",
        "RW = Reweighing(**privileged_groups_params)"
      ],
      "metadata": {
        "id": "9O_j5q_U5Fkz"
      },
      "execution_count": null,
      "outputs": []
    },
    {
      "cell_type": "markdown",
      "metadata": {
        "id": "Noln7xkc1f9m"
      },
      "source": [
        "We transform our dataset into a *Binary Label Dataset* which is required by the IBM AIF360 tool. The protected attribute comprising bias is defined as gender and we denote the priviledged group to be the male gender. "
      ]
    },
    {
      "cell_type": "code",
      "source": [
        "#Define the favorable and unfavorable label \n",
        "binaryLabelDataset = BinaryLabelDataset(\n",
        "    favorable_label=1,\n",
        "    unfavorable_label=0,\n",
        "    df=df_final,\n",
        "    label_names=['Loan_Status'],\n",
        "    protected_attribute_names=['Gender'])"
      ],
      "metadata": {
        "id": "ft2rS0J-8Ffp"
      },
      "execution_count": null,
      "outputs": []
    },
    {
      "cell_type": "code",
      "source": [
        "df_reweighed = RW.fit_transform(binaryLabelDataset)\n",
        "transformed = df_reweighed.convert_to_dataframe()[0]"
      ],
      "metadata": {
        "id": "70UrdTR-8VDd"
      },
      "execution_count": null,
      "outputs": []
    },
    {
      "cell_type": "code",
      "source": [
        "weights = df_reweighed.instance_weights\n",
        "weights[:10]"
      ],
      "metadata": {
        "colab": {
          "base_uri": "https://localhost:8080/"
        },
        "id": "v1e4mnyj8jO_",
        "outputId": "3700e502-b7df-42de-d09a-9e1a9803e7d7"
      },
      "execution_count": null,
      "outputs": [
        {
          "output_type": "execute_result",
          "data": {
            "text/plain": [
              "array([1.0418533 , 0.98532417, 0.98532417, 0.98532417, 0.98532417,\n",
              "       0.98532417, 1.0418533 , 0.98532417, 1.0418533 , 0.98532417])"
            ]
          },
          "metadata": {},
          "execution_count": 45
        }
      ]
    },
    {
      "cell_type": "markdown",
      "source": [
        "## Disparate Impact Remover (DIR)"
      ],
      "metadata": {
        "id": "EvsWhirD5QVG"
      }
    },
    {
      "cell_type": "markdown",
      "metadata": {
        "id": "YvHj15pxehfJ"
      },
      "source": [
        "\n",
        "<img src=\"https://miro.medium.com/max/875/1*p6EbbdwXIHI6lIgk83avkA.png\" alt=\"drawing\" width=\"500\"/>\n",
        "\n",
        "\n",
        "In this preprocessing technique, feature values are edited in order to increase fairness.  Let's assume that in the above image the blue curve corresponds to the unpriviledge group (gender = female) and the red one to the priviledged group. The distribution value of these curves are different. We want priviledged and unpriviledged distribution of a given feature to overlap or at least be closed to each other in order to mitigate bias. Indeed, the main goal of the Disparate Impact Remover is to remove the ability to distinguish between the two groups. Thus, for a given feature, the algorithm tries to determine the \"middle\" distribution and then it changes the values of the feature for each of the subgroups."
      ]
    },
    {
      "cell_type": "markdown",
      "metadata": {
        "id": "djogsjdm-iXG"
      },
      "source": [
        "We create a DisparateImpactRemover, fit and transform the data. The repair_level argument indicates how much we want the distributions to overlap or be closed to each other."
      ]
    },
    {
      "cell_type": "code",
      "source": [
        "binaryLabelDataset = BinaryLabelDataset(\n",
        "    favorable_label=1,\n",
        "    unfavorable_label=0,\n",
        "    df=transformed,\n",
        "    label_names=['Loan_Status'],\n",
        "    protected_attribute_names=['Gender'])"
      ],
      "metadata": {
        "id": "U-J4FoUs1r6h"
      },
      "execution_count": null,
      "outputs": []
    },
    {
      "cell_type": "code",
      "metadata": {
        "id": "rjLr-Lbxuwsr"
      },
      "source": [
        "DIR = DisparateImpactRemover(repair_level = 1.)\n",
        "dataset_transf_train = DIR.fit_transform(binaryLabelDataset)\n",
        "transformed = dataset_transf_train.convert_to_dataframe()[0]"
      ],
      "execution_count": null,
      "outputs": []
    },
    {
      "cell_type": "code",
      "metadata": {
        "colab": {
          "base_uri": "https://localhost:8080/",
          "height": 287
        },
        "id": "lBH-reTJmtrT",
        "outputId": "b4a06bc6-7b91-44cc-d653-df91be7c5dcf"
      },
      "source": [
        "transformed.head()"
      ],
      "execution_count": null,
      "outputs": [
        {
          "output_type": "execute_result",
          "data": {
            "text/plain": [
              "   Gender  ApplicantIncome  CoapplicantIncome  LoanAmount  Loan_Amount_Term  \\\n",
              "0     1.0           3958.0             1483.0       108.0             360.0   \n",
              "1     1.0           2600.0                0.0        59.0             360.0   \n",
              "2     1.0           2241.0             2333.0       102.0             360.0   \n",
              "3     1.0           4723.0                0.0       115.0             360.0   \n",
              "4     1.0           4402.0             3683.0       189.0             360.0   \n",
              "\n",
              "   Credit_History  Married_No  Married_Yes  Education_Graduate  \\\n",
              "0             1.0         0.0          1.0                 1.0   \n",
              "1             1.0         0.0          1.0                 1.0   \n",
              "2             1.0         0.0          1.0                 0.0   \n",
              "3             1.0         1.0          0.0                 1.0   \n",
              "4             1.0         0.0          1.0                 1.0   \n",
              "\n",
              "   Education_Not Graduate  Dependents_0  Dependents_1  Dependents_2  \\\n",
              "0                     0.0           0.0           1.0           0.0   \n",
              "1                     0.0           1.0           0.0           0.0   \n",
              "2                     1.0           1.0           0.0           0.0   \n",
              "3                     0.0           1.0           0.0           0.0   \n",
              "4                     0.0           0.0           0.0           1.0   \n",
              "\n",
              "   Dependents_3+  Self_Employed_No  Self_Employed_Yes  Property_Area_Rural  \\\n",
              "0            0.0               1.0                0.0                  1.0   \n",
              "1            0.0               0.0                1.0                  0.0   \n",
              "2            0.0               1.0                0.0                  0.0   \n",
              "3            0.0               1.0                0.0                  0.0   \n",
              "4            0.0               0.0                1.0                  0.0   \n",
              "\n",
              "   Property_Area_Semiurban  Property_Area_Urban  Loan_Status  \n",
              "0                      0.0                  0.0          0.0  \n",
              "1                      0.0                  1.0          1.0  \n",
              "2                      0.0                  1.0          1.0  \n",
              "3                      0.0                  1.0          1.0  \n",
              "4                      0.0                  1.0          1.0  "
            ],
            "text/html": [
              "\n",
              "  <div id=\"df-06072ebb-4de5-4fc0-a237-91b8ce8d8cb4\">\n",
              "    <div class=\"colab-df-container\">\n",
              "      <div>\n",
              "<style scoped>\n",
              "    .dataframe tbody tr th:only-of-type {\n",
              "        vertical-align: middle;\n",
              "    }\n",
              "\n",
              "    .dataframe tbody tr th {\n",
              "        vertical-align: top;\n",
              "    }\n",
              "\n",
              "    .dataframe thead th {\n",
              "        text-align: right;\n",
              "    }\n",
              "</style>\n",
              "<table border=\"1\" class=\"dataframe\">\n",
              "  <thead>\n",
              "    <tr style=\"text-align: right;\">\n",
              "      <th></th>\n",
              "      <th>Gender</th>\n",
              "      <th>ApplicantIncome</th>\n",
              "      <th>CoapplicantIncome</th>\n",
              "      <th>LoanAmount</th>\n",
              "      <th>Loan_Amount_Term</th>\n",
              "      <th>Credit_History</th>\n",
              "      <th>Married_No</th>\n",
              "      <th>Married_Yes</th>\n",
              "      <th>Education_Graduate</th>\n",
              "      <th>Education_Not Graduate</th>\n",
              "      <th>Dependents_0</th>\n",
              "      <th>Dependents_1</th>\n",
              "      <th>Dependents_2</th>\n",
              "      <th>Dependents_3+</th>\n",
              "      <th>Self_Employed_No</th>\n",
              "      <th>Self_Employed_Yes</th>\n",
              "      <th>Property_Area_Rural</th>\n",
              "      <th>Property_Area_Semiurban</th>\n",
              "      <th>Property_Area_Urban</th>\n",
              "      <th>Loan_Status</th>\n",
              "    </tr>\n",
              "  </thead>\n",
              "  <tbody>\n",
              "    <tr>\n",
              "      <th>0</th>\n",
              "      <td>1.0</td>\n",
              "      <td>3958.0</td>\n",
              "      <td>1483.0</td>\n",
              "      <td>108.0</td>\n",
              "      <td>360.0</td>\n",
              "      <td>1.0</td>\n",
              "      <td>0.0</td>\n",
              "      <td>1.0</td>\n",
              "      <td>1.0</td>\n",
              "      <td>0.0</td>\n",
              "      <td>0.0</td>\n",
              "      <td>1.0</td>\n",
              "      <td>0.0</td>\n",
              "      <td>0.0</td>\n",
              "      <td>1.0</td>\n",
              "      <td>0.0</td>\n",
              "      <td>1.0</td>\n",
              "      <td>0.0</td>\n",
              "      <td>0.0</td>\n",
              "      <td>0.0</td>\n",
              "    </tr>\n",
              "    <tr>\n",
              "      <th>1</th>\n",
              "      <td>1.0</td>\n",
              "      <td>2600.0</td>\n",
              "      <td>0.0</td>\n",
              "      <td>59.0</td>\n",
              "      <td>360.0</td>\n",
              "      <td>1.0</td>\n",
              "      <td>0.0</td>\n",
              "      <td>1.0</td>\n",
              "      <td>1.0</td>\n",
              "      <td>0.0</td>\n",
              "      <td>1.0</td>\n",
              "      <td>0.0</td>\n",
              "      <td>0.0</td>\n",
              "      <td>0.0</td>\n",
              "      <td>0.0</td>\n",
              "      <td>1.0</td>\n",
              "      <td>0.0</td>\n",
              "      <td>0.0</td>\n",
              "      <td>1.0</td>\n",
              "      <td>1.0</td>\n",
              "    </tr>\n",
              "    <tr>\n",
              "      <th>2</th>\n",
              "      <td>1.0</td>\n",
              "      <td>2241.0</td>\n",
              "      <td>2333.0</td>\n",
              "      <td>102.0</td>\n",
              "      <td>360.0</td>\n",
              "      <td>1.0</td>\n",
              "      <td>0.0</td>\n",
              "      <td>1.0</td>\n",
              "      <td>0.0</td>\n",
              "      <td>1.0</td>\n",
              "      <td>1.0</td>\n",
              "      <td>0.0</td>\n",
              "      <td>0.0</td>\n",
              "      <td>0.0</td>\n",
              "      <td>1.0</td>\n",
              "      <td>0.0</td>\n",
              "      <td>0.0</td>\n",
              "      <td>0.0</td>\n",
              "      <td>1.0</td>\n",
              "      <td>1.0</td>\n",
              "    </tr>\n",
              "    <tr>\n",
              "      <th>3</th>\n",
              "      <td>1.0</td>\n",
              "      <td>4723.0</td>\n",
              "      <td>0.0</td>\n",
              "      <td>115.0</td>\n",
              "      <td>360.0</td>\n",
              "      <td>1.0</td>\n",
              "      <td>1.0</td>\n",
              "      <td>0.0</td>\n",
              "      <td>1.0</td>\n",
              "      <td>0.0</td>\n",
              "      <td>1.0</td>\n",
              "      <td>0.0</td>\n",
              "      <td>0.0</td>\n",
              "      <td>0.0</td>\n",
              "      <td>1.0</td>\n",
              "      <td>0.0</td>\n",
              "      <td>0.0</td>\n",
              "      <td>0.0</td>\n",
              "      <td>1.0</td>\n",
              "      <td>1.0</td>\n",
              "    </tr>\n",
              "    <tr>\n",
              "      <th>4</th>\n",
              "      <td>1.0</td>\n",
              "      <td>4402.0</td>\n",
              "      <td>3683.0</td>\n",
              "      <td>189.0</td>\n",
              "      <td>360.0</td>\n",
              "      <td>1.0</td>\n",
              "      <td>0.0</td>\n",
              "      <td>1.0</td>\n",
              "      <td>1.0</td>\n",
              "      <td>0.0</td>\n",
              "      <td>0.0</td>\n",
              "      <td>0.0</td>\n",
              "      <td>1.0</td>\n",
              "      <td>0.0</td>\n",
              "      <td>0.0</td>\n",
              "      <td>1.0</td>\n",
              "      <td>0.0</td>\n",
              "      <td>0.0</td>\n",
              "      <td>1.0</td>\n",
              "      <td>1.0</td>\n",
              "    </tr>\n",
              "  </tbody>\n",
              "</table>\n",
              "</div>\n",
              "      <button class=\"colab-df-convert\" onclick=\"convertToInteractive('df-06072ebb-4de5-4fc0-a237-91b8ce8d8cb4')\"\n",
              "              title=\"Convert this dataframe to an interactive table.\"\n",
              "              style=\"display:none;\">\n",
              "        \n",
              "  <svg xmlns=\"http://www.w3.org/2000/svg\" height=\"24px\"viewBox=\"0 0 24 24\"\n",
              "       width=\"24px\">\n",
              "    <path d=\"M0 0h24v24H0V0z\" fill=\"none\"/>\n",
              "    <path d=\"M18.56 5.44l.94 2.06.94-2.06 2.06-.94-2.06-.94-.94-2.06-.94 2.06-2.06.94zm-11 1L8.5 8.5l.94-2.06 2.06-.94-2.06-.94L8.5 2.5l-.94 2.06-2.06.94zm10 10l.94 2.06.94-2.06 2.06-.94-2.06-.94-.94-2.06-.94 2.06-2.06.94z\"/><path d=\"M17.41 7.96l-1.37-1.37c-.4-.4-.92-.59-1.43-.59-.52 0-1.04.2-1.43.59L10.3 9.45l-7.72 7.72c-.78.78-.78 2.05 0 2.83L4 21.41c.39.39.9.59 1.41.59.51 0 1.02-.2 1.41-.59l7.78-7.78 2.81-2.81c.8-.78.8-2.07 0-2.86zM5.41 20L4 18.59l7.72-7.72 1.47 1.35L5.41 20z\"/>\n",
              "  </svg>\n",
              "      </button>\n",
              "      \n",
              "  <style>\n",
              "    .colab-df-container {\n",
              "      display:flex;\n",
              "      flex-wrap:wrap;\n",
              "      gap: 12px;\n",
              "    }\n",
              "\n",
              "    .colab-df-convert {\n",
              "      background-color: #E8F0FE;\n",
              "      border: none;\n",
              "      border-radius: 50%;\n",
              "      cursor: pointer;\n",
              "      display: none;\n",
              "      fill: #1967D2;\n",
              "      height: 32px;\n",
              "      padding: 0 0 0 0;\n",
              "      width: 32px;\n",
              "    }\n",
              "\n",
              "    .colab-df-convert:hover {\n",
              "      background-color: #E2EBFA;\n",
              "      box-shadow: 0px 1px 2px rgba(60, 64, 67, 0.3), 0px 1px 3px 1px rgba(60, 64, 67, 0.15);\n",
              "      fill: #174EA6;\n",
              "    }\n",
              "\n",
              "    [theme=dark] .colab-df-convert {\n",
              "      background-color: #3B4455;\n",
              "      fill: #D2E3FC;\n",
              "    }\n",
              "\n",
              "    [theme=dark] .colab-df-convert:hover {\n",
              "      background-color: #434B5C;\n",
              "      box-shadow: 0px 1px 3px 1px rgba(0, 0, 0, 0.15);\n",
              "      filter: drop-shadow(0px 1px 2px rgba(0, 0, 0, 0.3));\n",
              "      fill: #FFFFFF;\n",
              "    }\n",
              "  </style>\n",
              "\n",
              "      <script>\n",
              "        const buttonEl =\n",
              "          document.querySelector('#df-06072ebb-4de5-4fc0-a237-91b8ce8d8cb4 button.colab-df-convert');\n",
              "        buttonEl.style.display =\n",
              "          google.colab.kernel.accessAllowed ? 'block' : 'none';\n",
              "\n",
              "        async function convertToInteractive(key) {\n",
              "          const element = document.querySelector('#df-06072ebb-4de5-4fc0-a237-91b8ce8d8cb4');\n",
              "          const dataTable =\n",
              "            await google.colab.kernel.invokeFunction('convertToInteractive',\n",
              "                                                     [key], {});\n",
              "          if (!dataTable) return;\n",
              "\n",
              "          const docLinkHtml = 'Like what you see? Visit the ' +\n",
              "            '<a target=\"_blank\" href=https://colab.research.google.com/notebooks/data_table.ipynb>data table notebook</a>'\n",
              "            + ' to learn more about interactive tables.';\n",
              "          element.innerHTML = '';\n",
              "          dataTable['output_type'] = 'display_data';\n",
              "          await google.colab.output.renderOutput(dataTable, element);\n",
              "          const docLink = document.createElement('div');\n",
              "          docLink.innerHTML = docLinkHtml;\n",
              "          element.appendChild(docLink);\n",
              "        }\n",
              "      </script>\n",
              "    </div>\n",
              "  </div>\n",
              "  "
            ]
          },
          "metadata": {},
          "execution_count": 131
        }
      ]
    },
    {
      "cell_type": "markdown",
      "metadata": {
        "id": "nBE2gkcF5Op2"
      },
      "source": [
        "**Measure fairness after bias mitigation**"
      ]
    },
    {
      "cell_type": "code",
      "metadata": {
        "id": "Wkrt7gI4z5gZ"
      },
      "source": [
        "\n",
        "#Copy new test dataframe\n",
        "new_metrics_df = x_test_new.copy()\n",
        "new_metrics_df['Target'] = y_test_new\n",
        "\n",
        "#Compute DI and SPD after bias mitigation\n",
        "metric_transf_train = BinaryLabelDatasetMetric(dataset_transf_train, \n",
        "                                               unprivileged_groups=unprivileged_groups,\n",
        "                                               privileged_groups=privileged_groups)\n",
        "\n",
        "\n",
        "new_desperate_impact = metric_transf_train.disparate_impact()\n",
        "\n",
        "new_spd = metric_transf_train.statistical_parity_difference()"
      ],
      "execution_count": null,
      "outputs": []
    },
    {
      "cell_type": "code",
      "metadata": {
        "id": "hT34GudD1F57",
        "colab": {
          "base_uri": "https://localhost:8080/"
        },
        "outputId": "f0454bd5-73df-4072-9435-c357463b9999"
      },
      "source": [
        "print('------------------------------------')\n",
        "print(\"Desparate Impact value:\\t\\t%.2f\" % new_desperate_impact)\n",
        "print('------------------------------------')\n",
        "print(\"Statistical Parity Difference: %.2f\" % new_spd)"
      ],
      "execution_count": null,
      "outputs": [
        {
          "output_type": "stream",
          "name": "stdout",
          "text": [
            "------------------------------------\n",
            "Desparate Impact value:\t\t0.92\n",
            "------------------------------------\n",
            "Statistical Parity Difference: -0.06\n"
          ]
        }
      ]
    },
    {
      "cell_type": "markdown",
      "source": [
        "# Results"
      ],
      "metadata": {
        "id": "P83CpRD9QdbS"
      }
    },
    {
      "cell_type": "markdown",
      "source": [
        "\n",
        "|  | Disparate Impact | Statistical Parity Difference |\n",
        "| :--- | :---: | :---: |\n",
        "| Before training | 0.83 | -0.12 |\n",
        "| After training | 0.66 | -0.25 |\n",
        "| After mitigation | 0.92 | -0.06 |\n",
        "\n"
      ],
      "metadata": {
        "id": "qqjy5LgSK04q"
      }
    },
    {
      "cell_type": "markdown",
      "metadata": {
        "id": "bBmp9MkaZcej"
      },
      "source": [
        "The DI value has increased after we applied the preprocessing bias mitigation technique. We went from **0.66** after training to **0.92**. The adverse impact on female group has almost been totaly removed."
      ]
    },
    {
      "cell_type": "markdown",
      "metadata": {
        "id": "Zb8AoARZ8Oy8"
      },
      "source": [
        "# 8. Conclusion"
      ]
    },
    {
      "cell_type": "markdown",
      "metadata": {
        "id": "ni7SCCgcYjDi"
      },
      "source": [
        "In this notebook, we have studied the issue of bias in Machine Learning. There has been in the recent years a growing interest in identifying bias and designing algorithms that make fair predictions and that do not have any adverse impact on certain groups. We have seen that biases in algorithms are the reflection of human biases that algorithms learn from training data. They are amplified by machine learning algorithms"
      ]
    }
  ]
}