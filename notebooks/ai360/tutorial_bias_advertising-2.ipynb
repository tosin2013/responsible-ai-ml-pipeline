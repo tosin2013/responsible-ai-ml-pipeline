{
 "cells": [
  {
   "cell_type": "markdown",
   "id": "331ca84c",
   "metadata": {},
   "source": [
    "# Discover, Measure, and Mitigate Bias in Advertising\n",
    "This tutorial illustrates how bias in advertising (ad) data can be discovered, measured, and mitigated using the **AI Fairness 360 (AIF360) toolkit**. We use data from advertising, where advertisments are targeted, and the actual and predicted conversions are collected along with additional attributes about each user. A user is considered to have actually converted when they click on an advertisement.  This tutorial demonstrates how methods in the AIF360 toolkit can be used to discover biased subgroups, determine the amount of bias, and mitigate this bias. "
   ]
  },
  {
   "cell_type": "markdown",
   "id": "2fd70055",
   "metadata": {},
   "source": [
    "## Use Case Description"
   ]
  },
  {
   "cell_type": "markdown",
   "id": "3e0daa21",
   "metadata": {},
   "source": [
    "* To demonstrate discovery, measurement, and mitigation of bias in advertising,  we use a dataset that contains synthetic generated data of all users who were shown a certain advertisement. Each instance of the dataset has feature attributes such as gender, age, income, political/religious affiliation, parental status, home ownership, area (rural/urban), and education status. The predicted probability of conversion along with the binary predicted conversion, which is obtained by thresholding the predicted probability, is included. In addition, the binary true conversion, based on whether the user actually clicked on the ad is also included. A user is considered to have converted (true conversion=1) if they clicked on the ad.\n",
    "* This data is typically gathered using an ad targeting platform, where dynamic creative optimization algorithms target users who are more likely to click on the ad creative (more likely to convert). Targeting involves choosing user specific attributes such as designated market area (DMA), age group, income etc. and showing the particular ad to those users who have these attributes.\n",
    "* After the ad campaign is completed, the ad data is obtained from various ad data management platforms. They are used with the AIF360 toolkit to: (1) discover the subgroups that exhibit high predictive bias using the multidimensional subset scan (MDSS) method, (2) measure the bias exhibited by these subgroups using various metrics, and (3) mitigate bias using post-processing bias mitigation approaches. MDSS is a technique used to identify the subset of attributes and corresponding feature values (aka subgroups) that have the most predictive bias. The group with the highest predictive bias is designated as \"privileged\", and the rest of the records belong to \"unprivileged\" groups in our analysis. Note that the use of terms privileged and unprivileged in this analysis does not correspond to socioeconomic privilege.\n",
    "\n",
    "**Additional Notes:**\n",
    "* Unlike some other applications such as credit approval, where sensitive/protected features such as gender are known because of regulations, in the ad industry a key difference is that this is not known a-priori and hence necessitates the use of bias discovery methods such as MDSS.\n",
    "* We use a post-processing bias mitigation approach (Reject Option Classification or ROC) since the dataset with true and predicted conversions is already provided. Pre- or in-processing approches can also be used in situations where we have access to the training data or model training algorithms of the ad targeting platform respectively."
   ]
  },
  {
   "cell_type": "markdown",
   "id": "fd5240c4",
   "metadata": {},
   "source": [
    "## Steps for bias discovery, measurement, and mitigation\n",
    "Following steps are performed in this notebook for bias discovery, measurement, and mitigation.\n",
    "1. Import necessary libraries (Install AIF360 using `pip install git+https://github.com/Trusted-AI/AIF360`)\n",
    "2. Load the original dataset\n",
    "3. Identifying the biased subgroups using MDSS (\"privileged\"/\"unprivileged\" groups)\n",
    "4. Computation of bias metrics for these subgroups\n",
    "5. Bias mitigation using a post-processing approach\n",
    "6. Summary"
   ]
  },
  {
   "cell_type": "markdown",
   "id": "389dfd40",
   "metadata": {},
   "source": [
    "### Install pip packages and import necessary libraries."
   ]
  },
  {
   "cell_type": "code",
   "execution_count": null,
   "id": "1c435b73",
   "metadata": {
    "tags": []
   },
   "outputs": [],
   "source": [
    "!pip install -q git+https://github.com/Trusted-AI/AIF360\n",
    "!pip install -q 'aif360[AdversarialDebiasing]'\n",
    "!pip install -q  'aif360[Reductions]'\n",
    "!pip install -q 'aif360[inFairness]'\n",
    "!pip install -q pandas scikit-learn skl2onnx onnx onnxruntime matplotlib"
   ]
  },
  {
   "cell_type": "markdown",
   "id": "8551d196",
   "metadata": {},
   "source": [
    "### Import libraries"
   ]
  },
  {
   "cell_type": "code",
   "execution_count": null,
   "id": "ae7db9b0",
   "metadata": {
    "tags": []
   },
   "outputs": [],
   "source": [
    "import pandas as pd\n",
    "import numpy as np\n",
    "from pprint import pprint\n",
    "\n",
    "from aif360.datasets import StandardDataset\n",
    "from aif360.metrics import ClassificationMetric, BinaryLabelDatasetMetric\n",
    "from aif360.algorithms.postprocessing import RejectOptionClassification\n",
    "from aif360.detectors.mdss.ScoringFunctions import Bernoulli\n",
    "from aif360.detectors.mdss.MDSS import MDSS\n",
    "from aif360.detectors.mdss.generator import get_random_subset\n",
    "\n",
    "from IPython.display import Markdown, display\n",
    "\n",
    "from sklearn.model_selection import train_test_split\n",
    "from skl2onnx import convert_sklearn\n",
    "from sklearn.linear_model import LogisticRegression\n",
    "from sklearn.preprocessing import OneHotEncoder\n",
    "from sklearn.compose import ColumnTransformer\n",
    "from sklearn.pipeline import Pipeline\n",
    "import skl2onnx\n",
    "from skl2onnx.common.data_types import FloatTensorType\n",
    "import onnxruntime as ort\n",
    "import matplotlib.pyplot as plt\n",
    "import numpy as np"
   ]
  },
  {
   "cell_type": "markdown",
   "id": "0b8e2daa",
   "metadata": {},
   "source": [
    "### Downlaod data"
   ]
  },
  {
   "cell_type": "code",
   "execution_count": null,
   "id": "2819a35a",
   "metadata": {
    "tags": []
   },
   "outputs": [],
   "source": [
    "!curl -OL https://dax-cdn.cdn.appdomain.cloud/dax-bias-in-advertising/1.0.0/bias-in-advertising.tar.gz\n",
    "!tar -zxvf bias-in-advertising.tar.gz"
   ]
  },
  {
   "cell_type": "markdown",
   "id": "4e2d07eb",
   "metadata": {},
   "source": [
    "### Load the dataset"
   ]
  },
  {
   "cell_type": "markdown",
   "id": "147e629b",
   "metadata": {
    "pycharm": {
     "name": "#%% md\n"
    }
   },
   "source": [
    "For this exercise, you can download the synthetic dataset from this [link](https://developer.ibm.com/exchanges/data/all/bias-in-advertising/) and place the data in the same location where this notebook is running."
   ]
  },
  {
   "cell_type": "code",
   "execution_count": null,
   "id": "386a8777",
   "metadata": {
    "tags": []
   },
   "outputs": [],
   "source": [
    "ad_conversion_dataset = pd.read_csv('bias-in-advertising/ad_campaign_data.csv')\n",
    "ad_conversion_dataset.head()"
   ]
  },
  {
   "cell_type": "markdown",
   "id": "a23976e9",
   "metadata": {},
   "source": [
    "Here the column `true_conversion` indicates whether the user actually clicked on the advertisement, `predicted_conversion` indicates predicted conversion by the machine learning model and `predicted_probability` is the probability of the user clicking the advertisement according to the model. The predicted probability was thresholded at approximately 0.365 to obtain predicted conversions. This threshold was chosen because it led to parity in actual and predicted conversion rates.\n",
    "\n",
    "Next we get some summary on the number of true conversions and predicted conversions."
   ]
  },
  {
   "cell_type": "code",
   "execution_count": null,
   "id": "c61a2d1b",
   "metadata": {
    "tags": []
   },
   "outputs": [],
   "source": [
    "print(f\"Number of (instances, attributes) in the dataset = {ad_conversion_dataset.shape}\")"
   ]
  },
  {
   "cell_type": "code",
   "execution_count": null,
   "id": "4b0a1f13",
   "metadata": {
    "tags": []
   },
   "outputs": [],
   "source": [
    "print(f\"Statistics of true conversions (0=no, 1=yes)\")\n",
    "print(ad_conversion_dataset.true_conversion.value_counts())"
   ]
  },
  {
   "cell_type": "code",
   "execution_count": null,
   "id": "25064262",
   "metadata": {
    "tags": []
   },
   "outputs": [],
   "source": [
    "print(f\"Statistics of predicted conversions (0=no, 1=yes)\")\n",
    "print(ad_conversion_dataset.predicted_conversion.value_counts())"
   ]
  },
  {
   "cell_type": "markdown",
   "id": "4cc76398",
   "metadata": {},
   "source": [
    "There are approximately 1.4M rows total with only 2.3k true and predicted conversions."
   ]
  },
  {
   "cell_type": "markdown",
   "id": "0db4b6d3",
   "metadata": {},
   "source": [
    "## Multi dimensional subset scan evaluation for automated identification of subgroups that have predictive bias."
   ]
  },
  {
   "cell_type": "markdown",
   "id": "03ab958a",
   "metadata": {},
   "source": [
    "To identify the privileged subgroups in the dataset, we will use the utility - `Multi Dimensional Subset Scan(MDSS)`.\n",
    "\n",
    "Subset Scanning seeks to provide insights at the subset-level of data and models.  A brute-force approach is computationally expensive because there are exponentially-many subsets to investigate for bias between the observed and predicted number of conversions (clicks).\n",
    "\n",
    "We highlight which features (columns) form the search-space of possible subsets."
   ]
  },
  {
   "cell_type": "code",
   "execution_count": null,
   "id": "8cddb214",
   "metadata": {
    "tags": []
   },
   "outputs": [],
   "source": [
    "features_4_scanning = ['college_educated','parents','homeowner','gender','age','income','area','politics','religion']"
   ]
  },
  {
   "cell_type": "code",
   "execution_count": null,
   "id": "5deb754e",
   "metadata": {
    "tags": []
   },
   "outputs": [],
   "source": [
    "def print_report(data, subset):\n",
    "    \"\"\" Utility function to pretty-print the subsets.\"\"\"\n",
    "    if subset:\n",
    "        to_choose = ad_conversion_dataset[subset.keys()].isin(subset).all(axis = 1)\n",
    "        df = ad_conversion_dataset[['true_conversion', 'predicted_conversion']][to_choose]\n",
    "    else:\n",
    "        for col in features_4_scanning:\n",
    "            subset[col] = list(ad_conversion_dataset[col].unique())\n",
    "        df = ad_conversion_dataset[['true_conversion', 'predicted_conversion']]\n",
    "\n",
    "    true = df['true_conversion'].sum()\n",
    "    pred = df['predicted_conversion'].sum()\n",
    "    \n",
    "    print('\\033[1mSubset: \\033[0m')\n",
    "    pprint(subset)\n",
    "    print('\\033[1mSubset Size: \\033[0m', len(df))\n",
    "    print('\\033[1mTrue Clicks: \\033[0m', true)\n",
    "    print('\\033[1mPredicted Clicks: \\033[0m', pred)\n",
    "    print()"
   ]
  },
  {
   "cell_type": "markdown",
   "id": "56b609d1",
   "metadata": {},
   "source": [
    "How do true and predicted clicks vary for randomly selected subsets?  Here we select random subsets (that contain at least 10k records) and compare the true and predicted clicks.  If the model is moderately accurate than these numbers should be close to each other for most (randomly selected subsets).\n",
    "\n",
    "For a seed value of 11 we get the subset politics = unknown and religion = other. This group had 357 true and 376 predicted clicks. For a seed value of 55, we similarly get the subset age = 55-64, area = Unknown, and religion = Unknown with 1090 true clicks and 1431 predicted clicks.\n",
    "\n",
    "Feel free to try your own random seeds."
   ]
  },
  {
   "cell_type": "code",
   "execution_count": null,
   "id": "f0965c19",
   "metadata": {
    "tags": []
   },
   "outputs": [],
   "source": [
    "np.random.seed(11)\n",
    "random_subset = get_random_subset(ad_conversion_dataset[features_4_scanning], prob = 0.05, min_elements = 10000)\n",
    "print_report(ad_conversion_dataset, random_subset)"
   ]
  },
  {
   "cell_type": "markdown",
   "id": "5903cf78",
   "metadata": {},
   "source": [
    "Which subset (of the exponentially-many ones to consider) shows the most divergence between the predicted number of clicks and the true clicks?  In other words, where was the predictive model most biased?\n",
    "\n",
    "**Bias Scan is designed to efficiently detect this group.**"
   ]
  },
  {
   "cell_type": "code",
   "execution_count": null,
   "id": "7059c213",
   "metadata": {
    "tags": []
   },
   "outputs": [],
   "source": [
    "# Bias scan\n",
    "scoring_function = Bernoulli(direction='negative')\n",
    "scanner = MDSS(scoring_function)\n",
    " \n",
    "scanned_subset, _ = scanner.scan(ad_conversion_dataset[features_4_scanning], \n",
    "                        expectations = ad_conversion_dataset['predicted_conversion'],\n",
    "                        outcomes = ad_conversion_dataset['true_conversion'], \n",
    "                        penalty = 1, \n",
    "                        num_iters = 1,\n",
    "                        verbose = False)\n",
    "\n",
    "print_report(ad_conversion_dataset, scanned_subset)"
   ]
  },
  {
   "cell_type": "markdown",
   "id": "b412c142",
   "metadata": {},
   "source": [
    "Non-homeowners making more than 100k (or unknown) and living in an urban (or unknown) area are a highly anomalous subset of data identified by scanning.  \n",
    "\n",
    "The predictive model expected 1907 clicks from this group but in reality there were only 281.  The model is extremely over-estimating this group.  \n",
    "\n",
    "\n",
    "For simplicity we will proceed with the notebook using homeowner status as the protected feature"
   ]
  },
  {
   "cell_type": "code",
   "execution_count": null,
   "id": "de783f7d",
   "metadata": {
    "tags": []
   },
   "outputs": [],
   "source": [
    "print_report(ad_conversion_dataset, {'homeowner':[0]})\n",
    "\n",
    "print_report(ad_conversion_dataset, {'homeowner':[1]})"
   ]
  },
  {
   "cell_type": "markdown",
   "id": "73aaa7bf",
   "metadata": {},
   "source": [
    "From this scan, it is evident that **users who don't own a home (homeowner=0) constitute the privileged group**, so we will take this as a privileged class for our study. Note that privileged group just means that this group has high predictive bias (our terminology) and does not mean socioeconomic privilege in any way. This privileged class was predicted to click more on ads whereas they didn't click on it in reality, so the machine learning model was biased towards this group."
   ]
  },
  {
   "cell_type": "markdown",
   "id": "de94581a",
   "metadata": {},
   "source": [
    "### Creating a dataset for use in bias measurement and mitigation\n",
    "\n",
    "We will write a python function to convert a dataset into a Standard dataset which later will be consumed by AIF360"
   ]
  },
  {
   "cell_type": "markdown",
   "id": "d90d5cac",
   "metadata": {},
   "source": [
    "Here we are studying the bias in the dataset to check whether non-homeowners are targeted (shown an advertisement) more compared to other age groups. Hence, privileged group is non-home owners and users who own a home are considred as unprivileged. The `true_conversion` column contains data of whether a user clicked on the advertisement or not, if clicked, the value is 1. If shown but not clicked, value is 0. Other categorical features selected for this study include:\n",
    "- `parents` -- whether the user is a parent or not\n",
    "- `gender` -- Male, Female or Unknown gender\n",
    "- `college_educated` -- whether the user had college education or not\n",
    "- `area` -- the area where they live (Rural or Urban or Unknown)\n",
    "- `income` -- Income >100K, <100K or Unknown\n",
    "- `homeowner` -- whether the user owns a home or not\n",
    "- `age` -- the age group category (18-24, 25-34, 45-54, 55-64, Unknown)"
   ]
  },
  {
   "cell_type": "code",
   "execution_count": null,
   "id": "f252b191",
   "metadata": {
    "tags": []
   },
   "outputs": [],
   "source": [
    "def convert_to_standard_dataset(df, target_label_name, scores_name=\"\"):\n",
    "    protected_attributes = ['homeowner']\n",
    "    selected_features = ['gender', 'age', 'income', 'area', 'college_educated', 'homeowner', \n",
    "                         'parents', 'predicted_probability']\n",
    "    privileged_classes = [[0]]   \n",
    "    favorable_target_label = [1]\n",
    "    categorical_features = ['parents', 'gender', 'college_educated', 'area', 'income', 'age']\n",
    "\n",
    "    # Check if 'parents' is in the DataFrame columns\n",
    "    if 'parents' not in df.columns:\n",
    "        raise ValueError(\"The 'parents' column is missing from the DataFrame df.\")\n",
    "\n",
    "    # Check if 'parents' is in the selected_features\n",
    "    if 'parents' not in selected_features:\n",
    "        raise ValueError(\"The 'parents' column is missing from the selected_features list.\")\n",
    "\n",
    "    standard_dataset = StandardDataset(df=df, label_name=target_label_name,\n",
    "                                    favorable_classes=favorable_target_label,\n",
    "                                    scores_name=scores_name,\n",
    "                                    protected_attribute_names=protected_attributes,\n",
    "                                    privileged_classes=privileged_classes,\n",
    "                                    categorical_features=categorical_features,\n",
    "                                    features_to_keep=selected_features)\n",
    "    if scores_name==\"\":\n",
    "        standard_dataset.scores = standard_dataset.labels.copy()\n",
    "        \n",
    "    return standard_dataset"
   ]
  },
  {
   "cell_type": "markdown",
   "id": "e9325659",
   "metadata": {},
   "source": [
    "Now we will convert our dataset to Standard dataset. `StandardDataset` is a base class for every `BinaryLabelDataset` provided out of the box by AIF360.\n",
    "\n",
    "`StandardDataset` contains a preprocessing routine which:\n",
    "\n",
    "1. (optional) Performs some dataset-specific preprocessing (e.g. renaming columns/values, handling missing data).\n",
    "2. Drops unrequested columns (see features_to_keep and features_to_drop for details).\n",
    "3. Drops rows with NA values.\n",
    "4. Creates a one-hot encoding of the categorical variables.\n",
    "5. Maps protected attributes to binary privileged/unprivileged values (1/0).\n",
    "6. Maps labels to binary favorable/unfavorable labels (1/0).\n"
   ]
  },
  {
   "cell_type": "code",
   "execution_count": null,
   "id": "068ba8ce",
   "metadata": {
    "tags": []
   },
   "outputs": [],
   "source": [
    "# Create two StandardDataset objects - one with true conversions and one with\n",
    "# predicted conversions.\n",
    "\n",
    "# First create the predicted dataset\n",
    "ad_standard_dataset_pred = convert_to_standard_dataset(ad_conversion_dataset, \n",
    "                                            target_label_name = 'predicted_conversion',\n",
    "                                            scores_name='predicted_probability')\n",
    "\n",
    "# Use this to create the original dataset\n",
    "ad_standard_dataset_orig = ad_standard_dataset_pred.copy()\n",
    "ad_standard_dataset_orig.labels = ad_conversion_dataset[\"true_conversion\"].values.reshape(-1, 1)\n",
    "ad_standard_dataset_orig.scores = ad_conversion_dataset[\"true_conversion\"].values.reshape(-1, 1)"
   ]
  },
  {
   "cell_type": "markdown",
   "id": "30d914c3",
   "metadata": {},
   "source": [
    "# Compute fairness metric on an entire dataset\n",
    "\n",
    "Bias on the entire dataset is detected using `BinaryLabelDatasetMetric` class for evaluation considering privileged and unprivileged groups. We use the metric *Disparate impact ratio* which is defined as the ratio of the rate of favorable outcomes for the one group to the rate of favorable results for the other group, the two groups (unprivileged and privileged) predetermined by the evaluator or surfaced by some other method like the **Multi-Dimensional Subset Scan(MDSS)**. When this ratio is observed to be less than 1, the first (unprivileged) group is considered disadvantaged compared to the second group. Similarly, if this ratio is much larger than 1, the first (privileged) group is considered to be at a relative advantage. Depending on the scenario, this ratio can vary widely, say from a value close to 0 to a value much larger than 1. These numbers represent the data or algorithms’ bias towards or against specific groups within an audience and could be due to bias in the training data or some inherent unintended bias in the way the algorithms are designed and optimized."
   ]
  },
  {
   "cell_type": "code",
   "execution_count": null,
   "id": "370d479e",
   "metadata": {
    "tags": []
   },
   "outputs": [],
   "source": [
    "# After converting dataset to Standard dataset your privileged class will always be 1 \n",
    "# & the others would be 0 . If the column is already binary it doesn't convert to 0 & 1.\n",
    "\n",
    "privileged_groups= [{'homeowner': 0}]\n",
    "unprivileged_groups = [{'homeowner': 1}]\n",
    "\n",
    "metric_orig = BinaryLabelDatasetMetric(ad_standard_dataset_orig, \n",
    "                                             unprivileged_groups=unprivileged_groups,\n",
    "                                             privileged_groups=privileged_groups)\n",
    "print(f\"Disparate impact for the original dataset = {metric_orig.disparate_impact():.4f}\")\n",
    "\n",
    "metric_pred = BinaryLabelDatasetMetric(ad_standard_dataset_pred, \n",
    "                                             unprivileged_groups=unprivileged_groups,\n",
    "                                             privileged_groups=privileged_groups)\n",
    "print(f\"Disparate impact for the predicted dataset = {metric_pred.disparate_impact():.4f}\")\n"
   ]
  },
  {
   "cell_type": "markdown",
   "id": "71c46105",
   "metadata": {},
   "source": [
    "We see that the disparate impact for the original dataset is somewhat close to 1, whereas for the predicted dataset this is very close to 0, indicating high bias. We will attempt to mitigate this by post-processing the predictions."
   ]
  },
  {
   "cell_type": "markdown",
   "id": "83a23487",
   "metadata": {},
   "source": [
    "## Mitigate Bias by transforming the original dataset\n",
    "We will use **Reject Option Classification (ROC)** as the debiasing function to mitigate bias. *Reject option classification is a postprocessing technique that gives favorable outcomes to unprivileged groups and unfavorable outcomes to privileged groups in a confidence band around the decision boundary with the highest uncertainty.*\n",
    "For this, let's first divide the dataset into training, validation and testing partitions. We will fit the ROC object using the validation partition and test the performance on the test partition."
   ]
  },
  {
   "cell_type": "code",
   "execution_count": null,
   "id": "33042e03",
   "metadata": {
    "tags": []
   },
   "outputs": [],
   "source": [
    "# Split the standard dataset into train, test and validation \n",
    "# (use the same random seed to ensure instances are split in the same way)\n",
    "random_seed = 1001\n",
    "dataset_orig_train, dataset_orig_vt = ad_standard_dataset_orig.split([0.7], \n",
    "                                                shuffle=True, seed=random_seed)\n",
    "dataset_orig_valid, dataset_orig_test = dataset_orig_vt.split([0.5], \n",
    "                                                shuffle=True, seed=random_seed+1)\n",
    "\n",
    "print(f\"Original training dataset shape: {dataset_orig_train.features.shape}\")\n",
    "print(f\"Original validation dataset shape: {dataset_orig_valid.features.shape}\")\n",
    "print(f\"Original testing dataset shape: {dataset_orig_test.features.shape}\")\n",
    "\n",
    "dataset_pred_train, dataset_pred_vt = ad_standard_dataset_pred.split([0.7], \n",
    "                                                shuffle=True, seed=random_seed)\n",
    "dataset_pred_valid, dataset_pred_test = dataset_pred_vt.split([0.5], \n",
    "                                                shuffle=True, seed=random_seed+1)\n",
    "\n",
    "print(f\"Predicted training shape: {dataset_pred_train.features.shape}\")\n",
    "print(f\"Predicted validation shape: {dataset_pred_valid.features.shape}\")\n",
    "print(f\"Predicted testing shape: {dataset_pred_test.features.shape}\")"
   ]
  },
  {
   "cell_type": "code",
   "execution_count": null,
   "id": "66f525fb",
   "metadata": {
    "tags": []
   },
   "outputs": [],
   "source": [
    "# print out some labels, names, etc. for the predicted dataset\n",
    "display(Markdown(\"#### Training Dataset shape\"))\n",
    "print(dataset_pred_train.features.shape)\n",
    "display(Markdown(\"#### Favorable and unfavorable labels\"))\n",
    "print(dataset_pred_train.favorable_label, dataset_pred_train.unfavorable_label)\n",
    "display(Markdown(\"#### Protected attribute names\"))\n",
    "print(dataset_pred_train.protected_attribute_names)\n",
    "display(Markdown(\"#### Privileged and unprivileged protected attribute values\"))\n",
    "print(dataset_pred_train.privileged_protected_attributes, \n",
    "      dataset_pred_train.unprivileged_protected_attributes)\n",
    "display(Markdown(\"#### Dataset feature names\"))\n",
    "print(dataset_pred_train.feature_names)"
   ]
  },
  {
   "cell_type": "markdown",
   "id": "3c8afe7a",
   "metadata": {},
   "source": [
    "## Find optimal parameters using the validation set\n",
    "### Best threshold for classification only (no fairness)"
   ]
  },
  {
   "cell_type": "code",
   "execution_count": null,
   "id": "36f85962",
   "metadata": {
    "tags": []
   },
   "outputs": [],
   "source": [
    "# Best threshold for classification only (no fairness)\n",
    "\n",
    "num_thresh = 300\n",
    "ba_arr = np.zeros(num_thresh)\n",
    "class_thresh_arr = np.linspace(0.01, 0.99, num_thresh)\n",
    "for idx, class_thresh in enumerate(class_thresh_arr):\n",
    "    \n",
    "    fav_inds = dataset_pred_valid.scores > class_thresh\n",
    "    dataset_pred_valid.labels[fav_inds] = dataset_pred_valid.favorable_label\n",
    "    dataset_pred_valid.labels[~fav_inds] = dataset_pred_valid.unfavorable_label\n",
    "    \n",
    "    classified_metric_valid = ClassificationMetric(dataset_orig_valid,\n",
    "                                             dataset_pred_valid, \n",
    "                                             unprivileged_groups=unprivileged_groups,\n",
    "                                             privileged_groups=privileged_groups)\n",
    "    \n",
    "    ba_arr[idx] = 0.5*(classified_metric_valid.true_positive_rate()\\\n",
    "                       +classified_metric_valid.true_negative_rate())\n",
    "\n",
    "best_ind = np.where(ba_arr == np.max(ba_arr))[0][0]\n",
    "best_class_thresh = class_thresh_arr[best_ind]\n",
    "\n",
    "print(\"Best balanced accuracy (no fairness constraints) = %.4f\" % np.max(ba_arr))\n",
    "print(\"Optimal classification threshold (no fairness constraints) = %.4f\" % best_class_thresh)"
   ]
  },
  {
   "cell_type": "markdown",
   "id": "d758fd03",
   "metadata": {},
   "source": [
    "We estimate the optimal threshold for classification that maximizes balanced accuracy without any fairness constraints using the validation dataset. Now, we will also use the post-processing ROC method with the validation set to mitigate bias. We use the `Statistical parity difference` as the metric, but feel free to choose among the other allowed metrics - `Average odds difference` and `Equal opportunity difference`."
   ]
  },
  {
   "cell_type": "markdown",
   "id": "cbb1ca7c",
   "metadata": {},
   "source": [
    "### Estimate optimal parameters for the ROC method to mitigate bias"
   ]
  },
  {
   "cell_type": "code",
   "execution_count": null,
   "id": "f29e14b4",
   "metadata": {
    "tags": []
   },
   "outputs": [],
   "source": [
    "# Metric used (should be one of allowed_metrics)\n",
    "metric_name = \"Statistical parity difference\"\n",
    "\n",
    "# Upper and lower bound on the fairness metric used\n",
    "metric_ub = 0.05\n",
    "metric_lb = -0.05\n",
    "        \n",
    "#random seed for calibrated equal odds prediction\n",
    "np.random.seed(1)\n",
    "\n",
    "# Verify metric name\n",
    "allowed_metrics = [\"Statistical parity difference\",\n",
    "                   \"Average odds difference\",\n",
    "                   \"Equal opportunity difference\"]\n",
    "if metric_name not in allowed_metrics:\n",
    "    raise ValueError(\"Metric name should be one of allowed metrics\")"
   ]
  },
  {
   "cell_type": "code",
   "execution_count": null,
   "id": "bd611e5b",
   "metadata": {
    "tags": []
   },
   "outputs": [],
   "source": [
    "# Fit the method\n",
    "ROC = RejectOptionClassification(unprivileged_groups=unprivileged_groups,\n",
    "                                 privileged_groups=privileged_groups,\n",
    "                                            low_class_thresh=0.01, high_class_thresh=0.99,\n",
    "                                            num_class_thresh=100, num_ROC_margin=50,\n",
    "                                            metric_name=metric_name,\n",
    "                                            metric_ub=metric_ub, metric_lb=metric_lb)\n",
    "dataset_transf_pred_valid = ROC.fit_predict(dataset_orig_valid, dataset_pred_valid)"
   ]
  },
  {
   "cell_type": "code",
   "execution_count": null,
   "id": "92ca5f41",
   "metadata": {
    "tags": []
   },
   "outputs": [],
   "source": [
    "print(\"Optimal classification threshold (with fairness constraints) = %.4f\" % ROC.classification_threshold)\n",
    "print(\"Optimal ROC margin = %.4f\" % ROC.ROC_margin)"
   ]
  },
  {
   "cell_type": "markdown",
   "id": "256462ca",
   "metadata": {},
   "source": [
    "The ROC method has estimated that the optimal classification threshold is 0.01 and the margin is 0.0055. This means that to mitigate bias, for instances with a `predicted_probability` between 0.01-0.0055 and 0.01+0.0055, if they belong to the unprivileged group (`homeowner=1`), they will be assigned a favorable outcome (`predicted_conversion=1`). However, if they belong to the privileged group (`homeowner=0`), they will be assigned an unfavorable outcome (`predicted_conversion=0`)."
   ]
  },
  {
   "cell_type": "code",
   "execution_count": null,
   "id": "f0694b0d",
   "metadata": {
    "tags": []
   },
   "outputs": [],
   "source": [
    "metric_pred_valid_transf = BinaryLabelDatasetMetric(dataset_transf_pred_valid, \n",
    "                                             unprivileged_groups=unprivileged_groups,\n",
    "                                             privileged_groups=privileged_groups)\n",
    "display(Markdown(\"#### Postprocessed predicted validation dataset\"))\n",
    "print(f\"Disparate impact of unprivileged vs privileged groups = {metric_pred_valid_transf.disparate_impact():.4f}\")"
   ]
  },
  {
   "cell_type": "markdown",
   "id": "5b8f7e63",
   "metadata": {},
   "source": [
    "## Predictions from Test Set"
   ]
  },
  {
   "cell_type": "markdown",
   "id": "db037720",
   "metadata": {},
   "source": [
    "Let's define a convenience function to compute a number of metrics."
   ]
  },
  {
   "cell_type": "code",
   "execution_count": null,
   "id": "0d9c2a03",
   "metadata": {
    "tags": []
   },
   "outputs": [],
   "source": [
    "# Metrics function\n",
    "from collections import OrderedDict\n",
    "from aif360.metrics import ClassificationMetric\n",
    "\n",
    "def compute_metrics(dataset_true, dataset_pred, \n",
    "                    unprivileged_groups, privileged_groups,\n",
    "                    disp = True):\n",
    "    \"\"\" Compute the key metrics \"\"\"\n",
    "    classified_metric_pred = ClassificationMetric(dataset_true,\n",
    "                                                 dataset_pred, \n",
    "                                                 unprivileged_groups=unprivileged_groups,\n",
    "                                                 privileged_groups=privileged_groups)\n",
    "    metrics = OrderedDict()\n",
    "    metrics[\"Balanced accuracy\"] = 0.5*(classified_metric_pred.true_positive_rate()+\n",
    "                                             classified_metric_pred.true_negative_rate())\n",
    "    metrics[\"Statistical parity difference\"] = classified_metric_pred.statistical_parity_difference()\n",
    "    metrics[\"Disparate impact\"] = classified_metric_pred.disparate_impact()\n",
    "    metrics[\"Average odds difference\"] = classified_metric_pred.average_odds_difference()\n",
    "    metrics[\"Equal opportunity difference\"] = classified_metric_pred.equal_opportunity_difference()\n",
    "    metrics[\"Theil index\"] = classified_metric_pred.theil_index()\n",
    "    \n",
    "    if disp:\n",
    "        for k in metrics:\n",
    "            print(\"%s = %.4f\" % (k, metrics[k]))\n",
    "    \n",
    "    return metrics"
   ]
  },
  {
   "cell_type": "markdown",
   "id": "257049d0",
   "metadata": {},
   "source": [
    "Now the metrics can be computed for the raw test dataset, and the post-processed one, to verify the effect of bias mitigation."
   ]
  },
  {
   "cell_type": "code",
   "execution_count": null,
   "id": "d6d1c293",
   "metadata": {
    "tags": []
   },
   "outputs": [],
   "source": [
    "# Metrics for the test set\n",
    "fav_inds = dataset_pred_test.scores > best_class_thresh\n",
    "dataset_pred_test.labels[fav_inds] = dataset_pred_test.favorable_label\n",
    "dataset_pred_test.labels[~fav_inds] = dataset_pred_test.unfavorable_label\n",
    "\n",
    "display(Markdown(\"#### Test set\"))\n",
    "display(Markdown(\"##### Raw predictions - No fairness constraints, only maximizing balanced accuracy\"))\n",
    "\n",
    "metric_test_bef = compute_metrics(dataset_orig_test, dataset_pred_test, \n",
    "                unprivileged_groups, privileged_groups)"
   ]
  },
  {
   "cell_type": "markdown",
   "id": "0a7205ae",
   "metadata": {},
   "source": [
    "Once the bias is identified from the test dataset, we will run the `predict` function of `Reject Option Classifier(ROC)` algorithm to transform the dataset and compute the fairness constraints after bias mitigation."
   ]
  },
  {
   "cell_type": "code",
   "execution_count": null,
   "id": "228ab957",
   "metadata": {
    "tags": []
   },
   "outputs": [],
   "source": [
    "# Metrics for the transformed test set\n",
    "dataset_transf_pred_test = ROC.predict(dataset_pred_test)\n",
    "\n",
    "display(Markdown(\"#### Test set\"))\n",
    "display(Markdown(\"##### Transformed predictions - With fairness constraints\"))\n",
    "metric_test_aft = compute_metrics(dataset_orig_test, dataset_transf_pred_test, \n",
    "                unprivileged_groups, privileged_groups)"
   ]
  },
  {
   "cell_type": "markdown",
   "id": "1d0e13a3",
   "metadata": {},
   "source": [
    "We see that for virtually no loss in balanced accuracy, the group fairness metrics have improved significantly. Particularly, `Statistical parity difference` has come closer to 0 and `Disparate impact` has come closer to 1, indicating significant improvement in fairness.\n",
    "\n",
    "In addition to this post-processing approach, AIF360 also offers several pre-, in-, and post-processing bias mitigation algorithms."
   ]
  },
  {
   "cell_type": "markdown",
   "id": "fe525bca",
   "metadata": {},
   "source": [
    "## Summary and Findings"
   ]
  },
  {
   "cell_type": "markdown",
   "id": "437b4c3e",
   "metadata": {
    "pycharm": {
     "name": "#%% md\n"
    }
   },
   "source": [
    "For this study, we used MDSS on the dataset to identify the groups that exhibited significant predictive bias. We discovered that non-homeowners were targeted more for advertisements compared to homeowners and hence that sub group is considered as privileged. After discovering this subgroup we used the disparate impact metric to quantify bias. We further used `Reject Option Classifier(ROC)` post-processing algorithm to mitigate bias. For that we divided dataset into three groups - training, validation and test. We fit ROC on validation dataset and used test dataset for testing the performance of mitigation. We observed that for similar balanced accuracy, bias is significantly mitigated.\n",
    "\n",
    "Other pre- and in-processing approaches from AIF360 can also be considered for bias mitigation based on the particular scenario."
   ]
  },
  {
   "cell_type": "code",
   "execution_count": null,
   "id": "8c529f39-531e-42b4-91b7-acab5fbf181f",
   "metadata": {
    "tags": []
   },
   "outputs": [],
   "source": [
    "def create_and_test_onnx_model(standard_dataset):\n",
    "    # Convert to DataFrame to retain column names\n",
    "    X = pd.DataFrame(standard_dataset.features, columns=standard_dataset.feature_names)\n",
    "    y = standard_dataset.labels.ravel()\n",
    "\n",
    "    # Print the columns to check if they match\n",
    "    print(\"Columns in DataFrame X: \", X.columns)\n",
    "\n",
    "    # Define the column transformer with one-hot encoded columns\n",
    "    categorical_features = [col for col in X.columns if any(prefix in col for prefix in ['parents', 'gender', 'college_educated', 'area', 'income', 'age'])]\n",
    "    numeric_features = [col for col in X.columns if col not in categorical_features]\n",
    "\n",
    "    # Check if 'college_educated' is in the DataFrame columns\n",
    "    if 'college_educated' not in X.columns:\n",
    "        print(\"Warning: 'college_educated' column not found in the DataFrame.\")\n",
    "        # Optionally, handle this case by removing it from the list or taking other actions\n",
    "\n",
    "    preprocessor = ColumnTransformer(\n",
    "        transformers=[\n",
    "            ('num', 'passthrough', numeric_features),\n",
    "            ('cat', OneHotEncoder(handle_unknown='ignore', sparse_output=False), categorical_features)\n",
    "        ]\n",
    "    )\n",
    "\n",
    "    # Define the model pipeline\n",
    "    model = Pipeline(steps=[\n",
    "        ('preprocessor', preprocessor),\n",
    "        ('classifier', LogisticRegression())\n",
    "    ])\n",
    "\n",
    "    # Split the data\n",
    "    X_train, X_test, y_train, y_test = train_test_split(X, y, test_size=0.3, random_state=42)\n",
    "\n",
    "    # Train the model\n",
    "    model.fit(X_train, y_train)\n",
    "\n",
    "    # Get the feature names after preprocessing\n",
    "    feature_names_after_preprocessing = model.named_steps['preprocessor'].get_feature_names_out().tolist()\n",
    "    print(\"Feature names after preprocessing: \", feature_names_after_preprocessing)\n",
    "\n",
    "    # Define the ONNX initial_types using the actual feature names after preprocessing\n",
    "    initial_type = [('float_input', FloatTensorType([None, len(feature_names_after_preprocessing)]))]\n",
    "\n",
    "    # Convert to ONNX with the correct initial_types\n",
    "    try:\n",
    "        onnx_model = convert_sklearn(\n",
    "            model, \n",
    "            initial_types=initial_type, \n",
    "            target_opset=12  # Set the target ONNX opset\n",
    "        )\n",
    "    except Exception as e:\n",
    "        print(f\"Error during ONNX conversion: {str(e)}\")\n",
    "        print(\"Model structure:\")\n",
    "        print(model)\n",
    "        print(\"\\nPreprocessor structure:\")\n",
    "        print(model.named_steps['preprocessor'])\n",
    "        raise\n",
    "\n",
    "    # Save the model\n",
    "    with open(\"model.onnx\", \"wb\") as f:\n",
    "        f.write(onnx_model.SerializeToString())\n",
    "\n",
    "    # Load the ONNX model\n",
    "    onnx_session = rt.InferenceSession(\"model.onnx\")\n",
    "\n",
    "    # Prepare the test data\n",
    "    X_test_encoded = model.named_steps['preprocessor'].transform(X_test).astype(np.float32)\n",
    "\n",
    "    # Run the ONNX model\n",
    "    input_name = onnx_session.get_inputs()[0].name\n",
    "    label_name = onnx_session.get_outputs()[0].name\n",
    "    predictions = onnx_session.run([label_name], {input_name: X_test_encoded})[0]\n",
    "\n",
    "    # Visualize the results\n",
    "    plt.figure(figsize=(10, 6))\n",
    "    plt.scatter(np.arange(len(y_test)), y_test, color='blue', label='True Labels')\n",
    "    plt.scatter(np.arange(len(predictions)), predictions, color='red', label='Predicted Labels')\n",
    "    plt.xlabel('Sample Index')\n",
    "    plt.ylabel('Label')\n",
    "    plt.legend()\n",
    "    plt.title('True vs Predicted Labels')\n",
    "    plt.show()"
   ]
  },
  {
   "cell_type": "code",
   "execution_count": null,
   "id": "b34a00be-4f2a-48ae-ab25-e4533f5d47da",
   "metadata": {
    "tags": []
   },
   "outputs": [],
   "source": [
    "# Load the dataset (replace with actual path or DataFrame)\n",
    "df = pd.read_csv('bias-in-advertising/ad_campaign_data.csv')\n",
    "# Print the columns of the DataFrame\n",
    "print(df.columns)"
   ]
  },
  {
   "cell_type": "code",
   "execution_count": null,
   "id": "29900b2f-ff82-4498-9f0a-d029ecd58eca",
   "metadata": {
    "tags": []
   },
   "outputs": [],
   "source": [
    "# Convert the dataset\n",
    "standard_dataset = convert_to_standard_dataset(df, target_label_name='true_conversion')"
   ]
  },
  {
   "cell_type": "code",
   "execution_count": null,
   "id": "025a1d11-ee03-4681-a02f-4a638e97ac2b",
   "metadata": {
    "tags": []
   },
   "outputs": [],
   "source": [
    "# Print the features and feature names from the standard_dataset\n",
    "print(\"Features in standard_dataset: \", standard_dataset.features)\n",
    "print(\"Feature names in standard_dataset: \", standard_dataset.feature_names)\n"
   ]
  },
  {
   "cell_type": "code",
   "execution_count": null,
   "id": "95938058-9a26-4ebc-964e-930108298a6d",
   "metadata": {
    "tags": []
   },
   "outputs": [],
   "source": [
    "# Create and test the ONNX model\n",
    "create_and_test_onnx_model(standard_dataset)"
   ]
  },
  {
   "cell_type": "code",
   "execution_count": null,
   "id": "ceabebaf-7164-49d1-a810-8644b346aa81",
   "metadata": {},
   "outputs": [],
   "source": [
    "from skl2onnx import convert_sklearn\n",
    "from skl2onnx.common.data_types import FloatTensorType\n",
    "import pandas as pd\n",
    "from sklearn.compose import ColumnTransformer\n",
    "from sklearn.preprocessing import OneHotEncoder\n",
    "from sklearn.pipeline import Pipeline\n",
    "from sklearn.linear_model import LogisticRegression\n",
    "from sklearn.model_selection import train_test_split\n",
    "import numpy as np\n",
    "import onnxruntime as rt\n",
    "import matplotlib.pyplot as plt\n",
    "\n",
    "def create_and_test_onnx_model(standard_dataset):\n",
    "    # Convert to DataFrame to retain column names\n",
    "    X = pd.DataFrame(standard_dataset.features, columns=standard_dataset.feature_names)\n",
    "    print(\"Columns in DataFrame X: \", X.columns)\n",
    "    y = standard_dataset.labels.ravel()\n",
    "    print(\"Unique labels in y: \", np.unique(y))\n",
    "\n",
    "    # Ensure 'predicted_probability' is numeric\n",
    "    X['predicted_probability'] = pd.to_numeric(X['predicted_probability'], errors='coerce')\n",
    "\n",
    "    # Define the column transformer with one-hot encoded columns\n",
    "    categorical_features = ['religion', 'politics', 'college_educated', 'parents', 'gender', 'age', 'income', 'area', 'homeowner']\n",
    "    numeric_features = ['predicted_probability']\n",
    "\n",
    "    preprocessor = ColumnTransformer(\n",
    "        transformers=[\n",
    "            ('num', 'passthrough', numeric_features),\n",
    "            ('cat', OneHotEncoder(handle_unknown='ignore'), categorical_features)\n",
    "        ]\n",
    "    )\n",
    "\n",
    "    # Define the model pipeline\n",
    "    model = Pipeline(steps=[\n",
    "        ('preprocessor', preprocessor),\n",
    "        ('classifier', LogisticRegression())\n",
    "    ])\n",
    "\n",
    "    # Split the data\n",
    "    X_train, X_test, y_train, y_test = train_test_split(X, y, test_size=0.3, random_state=42, stratify=y)\n",
    "\n",
    "    # Train the model\n",
    "    model.fit(X_train, y_train)\n",
    "\n",
    "    # Convert to ONNX with the correct initial_types\n",
    "    # Get the feature names after preprocessing\n",
    "    feature_names_after_preprocessing = model.named_steps['preprocessor'].get_feature_names_out()\n",
    "    num_numeric_features = 1  # 'predicted_probability'\n",
    "    num_categorical_features = len(feature_names_after_preprocessing) - num_numeric_features\n",
    "\n",
    "    # Transform X_test with preprocessor\n",
    "    X_test_encoded = model.named_steps['preprocessor'].transform(X_test)\n",
    "\n",
    "    # Convert X_test_encoded to numpy array of float32\n",
    "    X_test_encoded = X_test_encoded.astype(np.float32)\n",
    "\n",
    "    # Convert to ONNX with the correct initial_types\n",
    "    # Define initial_types with correct feature names and types\n",
    "    initial_type = [\n",
    "        ('predicted_probability', FloatTensorType([None, 1])),\n",
    "    ] + [\n",
    "        (f'feature_{i}', FloatTensorType([None, 1])) for i in range(num_categorical_features)\n",
    "    ]\n",
    "\n",
    "    try:\n",
    "        onnx_model = convert_sklearn(\n",
    "            model,\n",
    "            initial_types=initial_type,\n",
    "            target_opset=11  # Set the target ONNX opset version\n",
    "        )\n",
    "    except Exception as e:\n",
    "        print(f\"Error during ONNX conversion: {str(e)}\")\n",
    "        raise\n",
    "\n",
    "    # Save the model\n",
    "    onnx_file_path = \"model.onnx\"\n",
    "    with open(onnx_file_path, \"wb\") as f:\n",
    "        f.write(onnx_model.SerializeToString())\n",
    "    print(f\"ONNX model successfully saved at: {onnx_file_path}\")\n",
    "\n",
    "    # Load the ONNX model\n",
    "    onnx_session = rt.InferenceSession(onnx_file_path)\n",
    "\n",
    "    # Run the ONNX model\n",
    "    input_name = onnx_session.get_inputs()[0].name\n",
    "    label_name = onnx_session.get_outputs()[0].name\n",
    "    predictions = onnx_session.run([label_name], {input_name: X_test_encoded})[0]\n",
    "\n",
    "    # Visualize the results\n",
    "    print(\"True Labels:\", y_test)\n",
    "    print(\"Predicted Labels:\", predictions)\n",
    "    plt.figure(figsize=(10, 6))\n",
    "    plt.scatter(np.arange(len(y_test)), y_test, color='blue', label='True Labels')\n",
    "    plt.scatter(np.arange(len(predictions)), predictions, color='red', label='Predicted Labels')\n",
    "    plt.xlabel('Sample Index')\n",
    "    plt.ylabel('Label')\n",
    "    plt.legend()\n",
    "    plt.title('True vs Predicted Labels')\n",
    "    plt.show()\n",
    "\n",
    "class DummyDataset:\n",
    "    def __init__(self):\n",
    "        self.features = np.array([\n",
    "            [1, 0.001, 1, 1, 'F', '55-64', 'Unknown', 'Urban', 'Christianity', 'Liberal'],\n",
    "            [0, 0.002, 1, 1, 'M', '25-34', '<100K', 'Rural', 'Islam', 'Conservative'],\n",
    "            [1, 0.001, 0, 0, 'F', '35-44', 'Unknown', 'Urban', 'Hinduism', 'Moderate'],\n",
    "            [0, 0.002, 1, 1, 'M', '45-54', '>100K', 'Rural', 'Buddhism', 'Liberal'],\n",
    "            [1, 0.002, 0, 1, 'F', '35-44', 'Unknown', 'Urban', 'Christianity', 'Conservative'],\n",
    "            [0, 0.001, 1, 0, 'M', '25-34', '<100K', 'Rural', 'Islam', 'Moderate'],\n",
    "            [1, 0.003, 0, 1, 'F', '45-54', '>100K', 'Urban', 'Hinduism', 'Liberal'],\n",
    "            [0, 0.004, 1, 0, 'M', '55-64', 'Unknown', 'Rural', 'Buddhism', 'Conservative']\n",
    "        ])\n",
    "        self.labels = np.array([0, 1, 0, 1, 0, 1, 0, 1])\n",
    "        self.feature_names = ['homeowner', 'predicted_probability', 'college_educated', 'parents', 'gender', 'age', 'income', 'area', 'religion', 'politics']\n",
    "\n",
    "standard_dataset = DummyDataset()\n",
    "create_and_test_onnx_model(standard_dataset)\n"
   ]
  },
  {
   "cell_type": "code",
   "execution_count": null,
   "id": "1536dfc2-ab6c-4080-beb3-ca95bdd4d8a1",
   "metadata": {},
   "outputs": [],
   "source": []
  },
  {
   "cell_type": "code",
   "execution_count": null,
   "id": "b138245e-d8c8-48a4-ba48-1458e807d52a",
   "metadata": {},
   "outputs": [],
   "source": []
  },
  {
   "cell_type": "code",
   "execution_count": null,
   "id": "733cd9c4-e77c-4bea-b8c9-6df5e1315a5b",
   "metadata": {},
   "outputs": [],
   "source": []
  }
 ],
 "metadata": {
  "kernelspec": {
   "display_name": "Python 3.9",
   "language": "python",
   "name": "python3"
  },
  "language_info": {
   "codemirror_mode": {
    "name": "ipython",
    "version": 3
   },
   "file_extension": ".py",
   "mimetype": "text/x-python",
   "name": "python",
   "nbconvert_exporter": "python",
   "pygments_lexer": "ipython3",
   "version": "3.9.18"
  }
 },
 "nbformat": 4,
 "nbformat_minor": 5
}
