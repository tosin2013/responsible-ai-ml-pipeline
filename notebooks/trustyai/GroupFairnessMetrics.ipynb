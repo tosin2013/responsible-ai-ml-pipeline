{
 "cells": [
  {
   "cell_type": "markdown",
   "id": "62e70a2a",
   "metadata": {},
   "source": [
    "# Data\n",
    "\n",
    "For the illustration of the group fairness metrics in TrustyAI, two synthetic datasets were created with the same input features and outcome types. \n",
    "The outcome is whether a certain invidual reaches a 50k income threshold by using age, race and gender as categorical inputs and both datasets consist of $N=10000$ data points.\n",
    "The gender values are allocated with a proportion of 20% to `gender=0` and 80% to `gender=1`.\n",
    "\n",
    "Both datasets have an increasing likelihood (with uniform probability) of having a positive outcome with age, regardless of race or gender.\n",
    "The first dataset, deemed _unbiased_, simply allocates the income value with an uniform random value, regardless of race or gender.\n",
    "The second dataset, deemed _biased_, allocates a positive outcome to `gender=0` with a lower probability than `gender=1`."
   ]
  },
  {
   "cell_type": "code",
   "execution_count": 1,
   "id": "6de2a925",
   "metadata": {},
   "outputs": [],
   "source": [
    "import pandas as pd"
   ]
  },
  {
   "cell_type": "code",
   "execution_count": 2,
   "id": "98cd9647",
   "metadata": {},
   "outputs": [],
   "source": [
    "df = pd.read_csv(\"data/income-unbiased.zip\", index_col=False)"
   ]
  },
  {
   "cell_type": "code",
   "execution_count": 3,
   "id": "be16cc2e",
   "metadata": {},
   "outputs": [
    {
     "data": {
      "text/html": [
       "<div>\n",
       "<style scoped>\n",
       "    .dataframe tbody tr th:only-of-type {\n",
       "        vertical-align: middle;\n",
       "    }\n",
       "\n",
       "    .dataframe tbody tr th {\n",
       "        vertical-align: top;\n",
       "    }\n",
       "\n",
       "    .dataframe thead th {\n",
       "        text-align: right;\n",
       "    }\n",
       "</style>\n",
       "<table border=\"1\" class=\"dataframe\">\n",
       "  <thead>\n",
       "    <tr style=\"text-align: right;\">\n",
       "      <th></th>\n",
       "      <th>age</th>\n",
       "      <th>race</th>\n",
       "      <th>gender</th>\n",
       "      <th>income</th>\n",
       "    </tr>\n",
       "  </thead>\n",
       "  <tbody>\n",
       "    <tr>\n",
       "      <th>0</th>\n",
       "      <td>13</td>\n",
       "      <td>0</td>\n",
       "      <td>0</td>\n",
       "      <td>0</td>\n",
       "    </tr>\n",
       "    <tr>\n",
       "      <th>1</th>\n",
       "      <td>65</td>\n",
       "      <td>7</td>\n",
       "      <td>0</td>\n",
       "      <td>1</td>\n",
       "    </tr>\n",
       "    <tr>\n",
       "      <th>2</th>\n",
       "      <td>71</td>\n",
       "      <td>6</td>\n",
       "      <td>1</td>\n",
       "      <td>0</td>\n",
       "    </tr>\n",
       "    <tr>\n",
       "      <th>3</th>\n",
       "      <td>38</td>\n",
       "      <td>1</td>\n",
       "      <td>1</td>\n",
       "      <td>1</td>\n",
       "    </tr>\n",
       "    <tr>\n",
       "      <th>4</th>\n",
       "      <td>42</td>\n",
       "      <td>0</td>\n",
       "      <td>0</td>\n",
       "      <td>1</td>\n",
       "    </tr>\n",
       "    <tr>\n",
       "      <th>...</th>\n",
       "      <td>...</td>\n",
       "      <td>...</td>\n",
       "      <td>...</td>\n",
       "      <td>...</td>\n",
       "    </tr>\n",
       "    <tr>\n",
       "      <th>9995</th>\n",
       "      <td>20</td>\n",
       "      <td>5</td>\n",
       "      <td>1</td>\n",
       "      <td>0</td>\n",
       "    </tr>\n",
       "    <tr>\n",
       "      <th>9996</th>\n",
       "      <td>34</td>\n",
       "      <td>2</td>\n",
       "      <td>1</td>\n",
       "      <td>0</td>\n",
       "    </tr>\n",
       "    <tr>\n",
       "      <th>9997</th>\n",
       "      <td>25</td>\n",
       "      <td>2</td>\n",
       "      <td>1</td>\n",
       "      <td>1</td>\n",
       "    </tr>\n",
       "    <tr>\n",
       "      <th>9998</th>\n",
       "      <td>73</td>\n",
       "      <td>5</td>\n",
       "      <td>1</td>\n",
       "      <td>1</td>\n",
       "    </tr>\n",
       "    <tr>\n",
       "      <th>9999</th>\n",
       "      <td>58</td>\n",
       "      <td>3</td>\n",
       "      <td>1</td>\n",
       "      <td>1</td>\n",
       "    </tr>\n",
       "  </tbody>\n",
       "</table>\n",
       "<p>10000 rows × 4 columns</p>\n",
       "</div>"
      ],
      "text/plain": [
       "      age  race  gender  income\n",
       "0      13     0       0       0\n",
       "1      65     7       0       1\n",
       "2      71     6       1       0\n",
       "3      38     1       1       1\n",
       "4      42     0       0       1\n",
       "...   ...   ...     ...     ...\n",
       "9995   20     5       1       0\n",
       "9996   34     2       1       0\n",
       "9997   25     2       1       1\n",
       "9998   73     5       1       1\n",
       "9999   58     3       1       1\n",
       "\n",
       "[10000 rows x 4 columns]"
      ]
     },
     "execution_count": 3,
     "metadata": {},
     "output_type": "execute_result"
    }
   ],
   "source": [
    "df"
   ]
  },
  {
   "cell_type": "markdown",
   "id": "20e2a6d7",
   "metadata": {},
   "source": [
    "# Demographic Parity\n",
    "\n",
    "\n",
    "_Demographic Parity_ provides a measure of imbalances in positive and negative outcomes between priveleged and unprivileged groups.\n",
    "\n",
    "Taking the previous data as an example, we would use Demographic Parity metrics to measure if (for instance), the `income` is predicted to be above or below $50k regardless of race or gender.\n",
    "\n",
    "\n",
    "## Statistical Parity Difference\n",
    "\n",
    "The _Statistical Parity Difference (SPD)_  is the difference in the probability of prediction between the privileged and unprivileged groups. Typically:\n",
    "\n",
    "- $SPD=0$ means that the model is behaving fairly in regards of the selected attribute (e.g. race, gender)\n",
    "- Values between $-0.1<SPD<0.1$ mean that the model is _reasonably fair_ and the score can be attributed to other factors, such as sample size.\n",
    "- An $SPD$ outside this range would be an indicator of an _unfair_ model relatively to the protected attributes.\n",
    "    - A *negative* value of statistical parity difference indicates that the unprivileged group is at a disadvantage\n",
    "    - A *positive* value indicates that the privileged group is at a disadvantage.\n",
    "\n",
    "The formal definition of $SPD$ is\n",
    "\n",
    "$$\n",
    "SPD=p(\\hat{y}=1|\\mathcal{D}_u)-p(\\hat{y}=1|\\mathcal{D}_p)\n",
    "$$\n",
    "\n",
    "where $\\hat{y}=1$ is the favorable outcome and $\\mathcal{D}_u$, $\\mathcal{D}_p$ are respectively the privileged and unpriviledge group data.\n",
    "\n",
    "\n",
    "### Unbiased dataset"
   ]
  },
  {
   "cell_type": "code",
   "execution_count": 4,
   "id": "8bd3f51b",
   "metadata": {},
   "outputs": [
    {
     "data": {
      "text/plain": [
       "gender  income\n",
       "0       0         1466\n",
       "        1          548\n",
       "1       0         5842\n",
       "        1         2144\n",
       "Name: income, dtype: int64"
      ]
     },
     "execution_count": 4,
     "metadata": {},
     "output_type": "execute_result"
    }
   ],
   "source": [
    "nobias = pd.read_csv(\"data/income-unbiased.zip\", index_col=False)\n",
    "nobias.groupby(['gender', 'income'])['income'].count()"
   ]
  },
  {
   "cell_type": "code",
   "execution_count": 5,
   "id": "9e8978f6",
   "metadata": {},
   "outputs": [
    {
     "data": {
      "text/plain": [
       "<AxesSubplot: xlabel='gender'>"
      ]
     },
     "execution_count": 5,
     "metadata": {},
     "output_type": "execute_result"
    },
    {
     "data": {
      "image/png": "[encoded data removed]",
      "text/plain": [
       "<Figure size 640x480 with 1 Axes>"
      ]
     },
     "metadata": {},
     "output_type": "display_data"
    }
   ],
   "source": [
    "nobias.groupby(['gender', 'income'])['income'].count().unstack().plot.bar()"
   ]
  },
  {
   "cell_type": "code",
   "execution_count": 6,
   "id": "2b2c678a",
   "metadata": {},
   "outputs": [],
   "source": [
    "from trustyai.metrics.fairness.group import statistical_parity_difference\n",
    "from trustyai.model import output\n",
    "\n",
    "nobias_privileged = nobias[nobias.gender == 1]\n",
    "nobias_unprivileged = nobias[nobias.gender == 0]\n",
    "favorable = output(\"income\", dtype=\"number\", value=1)\n",
    "score = statistical_parity_difference(privileged=nobias_privileged,\n",
    "                                      unprivileged=nobias_unprivileged,\n",
    "                                      favorable=[favorable])"
   ]
  },
  {
   "cell_type": "code",
   "execution_count": 7,
   "id": "9e548018",
   "metadata": {},
   "outputs": [
    {
     "name": "stdout",
     "output_type": "stream",
     "text": [
      "0.0036255104824703954\n"
     ]
    }
   ],
   "source": [
    "print(score)"
   ]
  },
  {
   "cell_type": "markdown",
   "id": "a13a2ac3",
   "metadata": {},
   "source": [
    "We can see that the $SPD$ for this dataset is between the $[-0.1, 0.1]$ threshold, which classifies the model as _reasonably fair_."
   ]
  },
  {
   "cell_type": "markdown",
   "id": "09bb7d45",
   "metadata": {},
   "source": [
    "### Biased dataset"
   ]
  },
  {
   "cell_type": "code",
   "execution_count": 8,
   "id": "63b953c9",
   "metadata": {},
   "outputs": [
    {
     "data": {
      "text/plain": [
       "gender  income\n",
       "0       0         1772\n",
       "        1          242\n",
       "1       0         5775\n",
       "        1         2211\n",
       "Name: income, dtype: int64"
      ]
     },
     "execution_count": 8,
     "metadata": {},
     "output_type": "execute_result"
    }
   ],
   "source": [
    "bias = pd.read_csv(\"data/income-biased.zip\", index_col=False)\n",
    "bias.groupby(['gender', 'income'])['income'].count()"
   ]
  },
  {
   "cell_type": "code",
   "execution_count": 9,
   "id": "aed61b77",
   "metadata": {},
   "outputs": [
    {
     "data": {
      "text/plain": [
       "<AxesSubplot: xlabel='gender'>"
      ]
     },
     "execution_count": 9,
     "metadata": {},
     "output_type": "execute_result"
    },
    {
     "data": {
      "image/png": "[encoded data removed]",
      "text/plain": [
       "<Figure size 640x480 with 1 Axes>"
      ]
     },
     "metadata": {},
     "output_type": "display_data"
    }
   ],
   "source": [
    "bias.groupby(['gender', 'income'])['income'].count().unstack().plot.bar()"
   ]
  },
  {
   "cell_type": "code",
   "execution_count": 10,
   "id": "901e5720",
   "metadata": {},
   "outputs": [],
   "source": [
    "bias_privileged = bias[bias.gender == 1]\n",
    "bias_unprivileged = bias[bias.gender == 0]\n",
    "\n",
    "score = statistical_parity_difference(privileged=bias_privileged,\n",
    "                                      unprivileged=bias_unprivileged,\n",
    "                                      favorable=[favorable])"
   ]
  },
  {
   "cell_type": "code",
   "execution_count": 11,
   "id": "7be544a7",
   "metadata": {},
   "outputs": [
    {
     "name": "stdout",
     "output_type": "stream",
     "text": [
      "-0.15670061634672994\n"
     ]
    }
   ],
   "source": [
    "print(score)"
   ]
  },
  {
   "cell_type": "markdown",
   "id": "8e3f2bd4",
   "metadata": {},
   "source": [
    "This dataset, as expected, is outside the $[-0.1, 0.1]$ threshold, which classifies the model as _unfair_.\n",
    "In addiction, the negative score indicates that the unprivileged group (in our example, `gender = 0`) is the one in disadvantage for this particular outcome."
   ]
  },
  {
   "cell_type": "markdown",
   "id": "de0affcf",
   "metadata": {},
   "source": [
    "## Disparate impact ratio\n",
    "\n",
    "\n",
    "Similarly to the _Statistical Parity Difference_, the _Disparate Impact Ratio (DIR)_ measures imbalances in positive outcome predictions across privliged and unpriviliged groups.\n",
    "Instead of calculating the difference, this metric calculates the ration of such selection rates.Typically:\n",
    "\n",
    "- $DIR=1$ means that the model is fair with regards to the protected attribute.\n",
    "- $0.8<DIR<1.2$ means that the model is _reasonably fair_.\n",
    "\n",
    "The formal definition of the _Disparate Impact Ratio_ is:\n",
    "\n",
    "$$\n",
    "DIR=\\dfrac{p(\\hat{y}=1|\\mathcal{D}_u)}{p(\\hat{y}=1|\\mathcal{D}_p)}\n",
    "$$\n"
   ]
  },
  {
   "cell_type": "code",
   "execution_count": 12,
   "id": "949fae2f",
   "metadata": {},
   "outputs": [],
   "source": [
    "from trustyai.metrics.fairness.group import disparate_impact_ratio\n",
    "\n",
    "score = disparate_impact_ratio(privileged=nobias_privileged,\n",
    "                               unprivileged=nobias_unprivileged,\n",
    "                                      favorable=[favorable])"
   ]
  },
  {
   "cell_type": "code",
   "execution_count": 13,
   "id": "2e601762",
   "metadata": {},
   "outputs": [
    {
     "name": "stdout",
     "output_type": "stream",
     "text": [
      "1.0135043501459928\n"
     ]
    }
   ],
   "source": [
    "print(score)"
   ]
  },
  {
   "cell_type": "markdown",
   "id": "7dfc3077-0739-4b19-bfc3-9c16c70e048c",
   "metadata": {},
   "source": [
    "As with the $SPD$ we can see that the $DIR$ indicates a reasonably fair model (close to $1$) for the unbiased dataset."
   ]
  },
  {
   "cell_type": "code",
   "execution_count": 14,
   "id": "3231326d",
   "metadata": {},
   "outputs": [],
   "source": [
    "score = disparate_impact_ratio(privileged=bias_privileged,\n",
    "                               unprivileged=bias_unprivileged,\n",
    "                            favorable=[favorable])"
   ]
  },
  {
   "cell_type": "code",
   "execution_count": 15,
   "id": "4b88eec8",
   "metadata": {},
   "outputs": [
    {
     "name": "stdout",
     "output_type": "stream",
     "text": [
      "0.43400672901628895\n"
     ]
    }
   ],
   "source": [
    "print(score)"
   ]
  },
  {
   "cell_type": "markdown",
   "id": "5b7c07d4-c216-41dc-b259-df8fd6b4d064",
   "metadata": {},
   "source": [
    "And also, as expected, the $DIR$ indicates a biased model for the biased dataset."
   ]
  },
  {
   "cell_type": "markdown",
   "id": "7e9ca225",
   "metadata": {},
   "source": [
    "## Average Odds Difference\n",
    "\n",
    "_Average Odds Difference_ measures the difference between the True Positive Rates ($TPR$) for the privileged and unprivileged groups, and the False Positive Rates ($FPR$) for the same groups. Formally, the definition is:\n",
    "\n",
    "$$\n",
    "AOD=\\dfrac{(FPR_{u}-FPR_{p})+(TPR_{u}-TPR_{p})}{2}\n",
    "$$\n",
    "\n",
    "Typically:\n",
    "\n",
    "- A fair model will have $AOD=0$\n",
    "- A positive value indicates the model benefits the unprivileged group\n",
    "- A negative value indicates the model benefits the privileged group"
   ]
  },
  {
   "cell_type": "code",
   "execution_count": 16,
   "id": "50814c63",
   "metadata": {},
   "outputs": [],
   "source": [
    "from trustyai.metrics.fairness.group import average_odds_difference\n",
    "\n",
    "score = average_odds_difference(test=bias,\n",
    "                                truth=nobias,\n",
    "                                privilege_columns=[\"gender\"],\n",
    "                                privilege_values=[1], # privileged gender value, gender = 1\n",
    "                                positive_class=[1]) # positive class, income = 1"
   ]
  },
  {
   "cell_type": "code",
   "execution_count": 17,
   "id": "cedbd492",
   "metadata": {},
   "outputs": [
    {
     "name": "stdout",
     "output_type": "stream",
     "text": [
      "-0.23806418646688987\n"
     ]
    }
   ],
   "source": [
    "print(score)"
   ]
  },
  {
   "cell_type": "markdown",
   "id": "3568343c-523d-4a37-b534-e7ae2bf01406",
   "metadata": {},
   "source": [
    "As we can see, the $AOD$ indicates that the privileged group (`gender = 1`) is at an advantage in this model."
   ]
  },
  {
   "cell_type": "markdown",
   "id": "74cf44c7",
   "metadata": {},
   "source": [
    "## Average Predictive Value Difference\n",
    "\n",
    "The _Average Predictive Value Difference (APVD)_ measures the difference in the average accuracy of predicted values between the privileged and unprivileged groups in a dataset. \n"
   ]
  },
  {
   "cell_type": "code",
   "execution_count": 18,
   "id": "ca591646",
   "metadata": {},
   "outputs": [
    {
     "name": "stdout",
     "output_type": "stream",
     "text": [
      "-0.04841289822293428\n"
     ]
    }
   ],
   "source": [
    "from trustyai.metrics.fairness.group import average_predictive_value_difference\n",
    "\n",
    "score = average_predictive_value_difference(test=bias,\n",
    "                                truth=nobias,\n",
    "                                privilege_columns=[\"gender\"],\n",
    "                                privilege_values=[1],\n",
    "                                positive_class=[1])\n",
    "print(score)"
   ]
  },
  {
   "cell_type": "markdown",
   "id": "b85694b4",
   "metadata": {},
   "source": [
    "# Models"
   ]
  },
  {
   "cell_type": "markdown",
   "id": "0d3be47d",
   "metadata": {},
   "source": [
    "## Statistical Parity Difference"
   ]
  },
  {
   "cell_type": "code",
   "execution_count": 19,
   "id": "e1a03db7",
   "metadata": {},
   "outputs": [
    {
     "name": "stderr",
     "output_type": "stream",
     "text": [
      "/home/rui/.virtualenvs/trustyai-explainability-python-examples/lib/python3.11/site-packages/xgboost/compat.py:31: FutureWarning: pandas.Int64Index is deprecated and will be removed from pandas in a future version. Use pandas.Index with the appropriate dtype instead.\n",
      "  from pandas import MultiIndex, Int64Index\n",
      "/home/rui/.virtualenvs/trustyai-explainability-python-examples/lib/python3.11/site-packages/xgboost/data.py:208: FutureWarning: pandas.Int64Index is deprecated and will be removed from pandas in a future version. Use pandas.Index with the appropriate dtype instead.\n",
      "  from pandas import MultiIndex, Int64Index\n"
     ]
    }
   ],
   "source": [
    "from xgboost import XGBClassifier\n",
    "\n",
    "\n",
    "def train(dataset):\n",
    "  df = pd.read_csv(dataset)\n",
    "\n",
    "  categories = ['race', 'gender', 'income']\n",
    "  for f in categories:\n",
    "      df[f] = df[f].astype('int')\n",
    "  df['age'] = df['age'].astype('int')\n",
    "\n",
    "  _X = df[[\"age\", \"race\", \"gender\"]]\n",
    "  _y = df.income\n",
    "\n",
    "  clf = XGBClassifier(objective=\"binary:logistic\", \n",
    "                        use_label_encoder=False,\n",
    "                        eval_metric='logloss')\n",
    "  clf.fit(_X, _y)\n",
    "  return clf\n",
    "\n",
    "xgb = train(\"data/income-biased.zip\")\n"
   ]
  },
  {
   "cell_type": "code",
   "execution_count": 20,
   "id": "2b027d0b",
   "metadata": {},
   "outputs": [
    {
     "name": "stdout",
     "output_type": "stream",
     "text": [
      "-0.06288176602997649\n"
     ]
    }
   ],
   "source": [
    "from trustyai.model import Model\n",
    "from trustyai.metrics.fairness.group import statistical_parity_difference_model\n",
    "\n",
    "X = nobias[[\"age\", \"race\", \"gender\"]]\n",
    "\n",
    "model = Model(xgb.predict, dataframe_input=True, output_names=[\"approved\"])\n",
    "score = statistical_parity_difference_model(samples=X,\n",
    "                                            model=model,\n",
    "                                            privilege_columns=[\"gender\"],\n",
    "                                            privilege_values=[1],\n",
    "                                            favorable=[favorable])\n",
    "print(score)"
   ]
  },
  {
   "cell_type": "markdown",
   "id": "daa3794e",
   "metadata": {},
   "source": [
    "## Disparate impact ratio"
   ]
  },
  {
   "cell_type": "code",
   "execution_count": 21,
   "id": "7df08157",
   "metadata": {},
   "outputs": [
    {
     "name": "stdout",
     "output_type": "stream",
     "text": [
      "0.03798125763334818\n"
     ]
    }
   ],
   "source": [
    "from trustyai.metrics.fairness.group import disparate_impact_ratio_model\n",
    "\n",
    "score = disparate_impact_ratio_model(samples=X,\n",
    "                                            model=model,\n",
    "                                            privilege_columns=[\"gender\"],\n",
    "                                            privilege_values=[1],\n",
    "                                            favorable=[favorable])\n",
    "print(score)"
   ]
  },
  {
   "cell_type": "markdown",
   "id": "52a499d3",
   "metadata": {},
   "source": [
    "## Average Odds Difference"
   ]
  },
  {
   "cell_type": "code",
   "execution_count": 22,
   "id": "18061c05",
   "metadata": {},
   "outputs": [
    {
     "name": "stdout",
     "output_type": "stream",
     "text": [
      "9.581224702515101e-14\n"
     ]
    }
   ],
   "source": [
    "from trustyai.metrics.fairness.group import average_odds_difference_model\n",
    "\n",
    "score = average_odds_difference_model(samples=X,\n",
    "                                      model=model,\n",
    "                                      privilege_columns=[\"gender\"],\n",
    "                                      privilege_values=[1],\n",
    "                                      positive_class=[1])\n",
    "print(score)"
   ]
  }
 ],
 "metadata": {
  "kernelspec": {
   "display_name": "Python 3 (ipykernel)",
   "language": "python",
   "name": "python3"
  },
  "language_info": {
   "codemirror_mode": {
    "name": "ipython",
    "version": 3
   },
   "file_extension": ".py",
   "mimetype": "text/x-python",
   "name": "python",
   "nbconvert_exporter": "python",
   "pygments_lexer": "ipython3",
   "version": "3.11.7"
  }
 },
 "nbformat": 4,
 "nbformat_minor": 5
}
